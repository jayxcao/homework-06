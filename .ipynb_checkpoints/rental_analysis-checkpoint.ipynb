{
 "cells": [
  {
   "cell_type": "markdown",
   "metadata": {},
   "source": [
    "# San Francisco Housing Cost Analysis\n",
    "\n",
    "In this assignment, you will perform fundamental analysis for the San Francisco housing market to allow potential real estate investors to choose rental investment properties."
   ]
  },
  {
   "cell_type": "code",
   "execution_count": 216,
   "metadata": {},
   "outputs": [],
   "source": [
    "# imports\n",
    "import panel as pn\n",
    "pn.extension('plotly')\n",
    "import plotly.express as px\n",
    "import pandas as pd\n",
    "import hvplot.pandas\n",
    "import matplotlib.pyplot as plt\n",
    "import numpy as np\n",
    "import os\n",
    "from pathlib import Path\n",
    "from dotenv import load_dotenv\n",
    "\n",
    "import warnings\n",
    "warnings.filterwarnings('ignore')"
   ]
  },
  {
   "cell_type": "code",
   "execution_count": 217,
   "metadata": {},
   "outputs": [],
   "source": [
    "# Read the Mapbox API key\n",
    "load_dotenv()\n",
    "map_box_api = os.getenv(\"MAPBOX_API_KEY\")"
   ]
  },
  {
   "cell_type": "markdown",
   "metadata": {},
   "source": [
    "## Load Data"
   ]
  },
  {
   "cell_type": "code",
   "execution_count": 218,
   "metadata": {},
   "outputs": [
    {
     "data": {
      "text/html": [
       "<div>\n",
       "<style scoped>\n",
       "    .dataframe tbody tr th:only-of-type {\n",
       "        vertical-align: middle;\n",
       "    }\n",
       "\n",
       "    .dataframe tbody tr th {\n",
       "        vertical-align: top;\n",
       "    }\n",
       "\n",
       "    .dataframe thead th {\n",
       "        text-align: right;\n",
       "    }\n",
       "</style>\n",
       "<table border=\"1\" class=\"dataframe\">\n",
       "  <thead>\n",
       "    <tr style=\"text-align: right;\">\n",
       "      <th></th>\n",
       "      <th>neighborhood</th>\n",
       "      <th>sale_price_sqr_foot</th>\n",
       "      <th>housing_units</th>\n",
       "      <th>gross_rent</th>\n",
       "    </tr>\n",
       "    <tr>\n",
       "      <th>year</th>\n",
       "      <th></th>\n",
       "      <th></th>\n",
       "      <th></th>\n",
       "      <th></th>\n",
       "    </tr>\n",
       "  </thead>\n",
       "  <tbody>\n",
       "    <tr>\n",
       "      <th>2010</th>\n",
       "      <td>Alamo Square</td>\n",
       "      <td>291.182945</td>\n",
       "      <td>372560</td>\n",
       "      <td>1239</td>\n",
       "    </tr>\n",
       "    <tr>\n",
       "      <th>2010</th>\n",
       "      <td>Anza Vista</td>\n",
       "      <td>267.932583</td>\n",
       "      <td>372560</td>\n",
       "      <td>1239</td>\n",
       "    </tr>\n",
       "    <tr>\n",
       "      <th>2010</th>\n",
       "      <td>Bayview</td>\n",
       "      <td>170.098665</td>\n",
       "      <td>372560</td>\n",
       "      <td>1239</td>\n",
       "    </tr>\n",
       "    <tr>\n",
       "      <th>2010</th>\n",
       "      <td>Buena Vista Park</td>\n",
       "      <td>347.394919</td>\n",
       "      <td>372560</td>\n",
       "      <td>1239</td>\n",
       "    </tr>\n",
       "    <tr>\n",
       "      <th>2010</th>\n",
       "      <td>Central Richmond</td>\n",
       "      <td>319.027623</td>\n",
       "      <td>372560</td>\n",
       "      <td>1239</td>\n",
       "    </tr>\n",
       "  </tbody>\n",
       "</table>\n",
       "</div>"
      ],
      "text/plain": [
       "          neighborhood  sale_price_sqr_foot  housing_units  gross_rent\n",
       "year                                                                  \n",
       "2010      Alamo Square           291.182945         372560        1239\n",
       "2010        Anza Vista           267.932583         372560        1239\n",
       "2010           Bayview           170.098665         372560        1239\n",
       "2010  Buena Vista Park           347.394919         372560        1239\n",
       "2010  Central Richmond           319.027623         372560        1239"
      ]
     },
     "execution_count": 218,
     "metadata": {},
     "output_type": "execute_result"
    }
   ],
   "source": [
    "# Read the census data into a Pandas DataFrame\n",
    "file_path = Path(\"Data/sfo_neighborhoods_census_data.csv\")\n",
    "sfo_data = pd.read_csv(file_path, index_col=\"year\")\n",
    "sfo_data.head()"
   ]
  },
  {
   "cell_type": "markdown",
   "metadata": {},
   "source": [
    "- - - "
   ]
  },
  {
   "cell_type": "markdown",
   "metadata": {},
   "source": [
    "## Housing Units Per Year\n",
    "\n",
    "In this section, you will calculate the number of housing units per year and visualize the results as a bar chart using the Pandas plot function.\n",
    "\n",
    "**Hint:** Use the Pandas `groupby` function.\n",
    "\n",
    "**Optional challenge:** Use the min, max, and std to scale the y limits of the chart.\n",
    "\n"
   ]
  },
  {
   "cell_type": "code",
   "execution_count": 219,
   "metadata": {},
   "outputs": [
    {
     "data": {
      "text/plain": [
       "year\n",
       "2010    372560.0\n",
       "2011    374507.0\n",
       "2012    376454.0\n",
       "2013    378401.0\n",
       "2014    380348.0\n",
       "Name: housing_units, dtype: float64"
      ]
     },
     "execution_count": 219,
     "metadata": {},
     "output_type": "execute_result"
    }
   ],
   "source": [
    "# Calculate the mean number of housing units per year (hint: use groupby) \n",
    "housing_unit_mean = sfo_data.groupby(['year'])['housing_units'].mean()\n",
    "housing_unit_mean.head()"
   ]
  },
  {
   "cell_type": "code",
   "execution_count": 220,
   "metadata": {},
   "outputs": [
    {
     "data": {
      "text/plain": [
       "'year,housing_units\\r\\n2010,372560.0\\r\\n2011,374507.0\\r\\n2012,376454.0\\r\\n2013,378401.0\\r\\n2014,380348.0\\r\\n2015,382295.0\\r\\n2016,384242.0\\r\\n'"
      ]
     },
     "execution_count": 220,
     "metadata": {},
     "output_type": "execute_result"
    }
   ],
   "source": [
    "# Save the dataframe as a csv file\n",
    "housing_unit_mean.to_csv()"
   ]
  },
  {
   "cell_type": "code",
   "execution_count": 221,
   "metadata": {},
   "outputs": [
    {
     "data": {
      "text/plain": [
       "<AxesSubplot:xlabel='year'>"
      ]
     },
     "execution_count": 221,
     "metadata": {},
     "output_type": "execute_result"
    },
    {
     "data": {
      "image/png": "[encoded data removed]",
      "text/plain": [
       "<Figure size 432x288 with 1 Axes>"
      ]
     },
     "metadata": {
      "needs_background": "light"
     },
     "output_type": "display_data"
    }
   ],
   "source": [
    "# Use the Pandas plot function to plot the average housing units per year.\n",
    "plot_housing_unit_avg = housing_unit_mean.plot.bar()\n",
    "plot_housing_unit_avg\n",
    "\n",
    "# Optional Challenge: Use the min, max, and std to scale the y limits of the chart\n",
    "plot_housing_unit_xy = housing_unit_mean.plot.bar(ylim=(370000,387500))\n",
    "plot_housing_unit_xy"
   ]
  },
  {
   "cell_type": "markdown",
   "metadata": {},
   "source": [
    "- - - "
   ]
  },
  {
   "cell_type": "markdown",
   "metadata": {},
   "source": [
    "## Average Housing Costs in San Francisco Per Year\n",
    "\n",
    "In this section, you will calculate the average monthly rent and the average price per square foot for each year. An investor may wish to better understand the sales price of the rental property over time. For example, a customer will want to know if they should expect an increase or decrease in the property value over time so they can determine how long to hold the rental property.  Plot the results as two line charts.\n",
    "\n",
    "**Optional challenge:** Plot each line chart in a different color."
   ]
  },
  {
   "cell_type": "code",
   "execution_count": 222,
   "metadata": {},
   "outputs": [
    {
     "data": {
      "text/html": [
       "<div>\n",
       "<style scoped>\n",
       "    .dataframe tbody tr th:only-of-type {\n",
       "        vertical-align: middle;\n",
       "    }\n",
       "\n",
       "    .dataframe tbody tr th {\n",
       "        vertical-align: top;\n",
       "    }\n",
       "\n",
       "    .dataframe thead th {\n",
       "        text-align: right;\n",
       "    }\n",
       "</style>\n",
       "<table border=\"1\" class=\"dataframe\">\n",
       "  <thead>\n",
       "    <tr style=\"text-align: right;\">\n",
       "      <th></th>\n",
       "      <th>sale_price_sqr_foot</th>\n",
       "      <th>gross_rent</th>\n",
       "    </tr>\n",
       "    <tr>\n",
       "      <th>year</th>\n",
       "      <th></th>\n",
       "      <th></th>\n",
       "    </tr>\n",
       "  </thead>\n",
       "  <tbody>\n",
       "    <tr>\n",
       "      <th>2010</th>\n",
       "      <td>369.344353</td>\n",
       "      <td>1239.0</td>\n",
       "    </tr>\n",
       "    <tr>\n",
       "      <th>2011</th>\n",
       "      <td>341.903429</td>\n",
       "      <td>1530.0</td>\n",
       "    </tr>\n",
       "    <tr>\n",
       "      <th>2012</th>\n",
       "      <td>399.389968</td>\n",
       "      <td>2324.0</td>\n",
       "    </tr>\n",
       "    <tr>\n",
       "      <th>2013</th>\n",
       "      <td>483.600304</td>\n",
       "      <td>2971.0</td>\n",
       "    </tr>\n",
       "    <tr>\n",
       "      <th>2014</th>\n",
       "      <td>556.277273</td>\n",
       "      <td>3528.0</td>\n",
       "    </tr>\n",
       "    <tr>\n",
       "      <th>2015</th>\n",
       "      <td>632.540352</td>\n",
       "      <td>3739.0</td>\n",
       "    </tr>\n",
       "    <tr>\n",
       "      <th>2016</th>\n",
       "      <td>697.643709</td>\n",
       "      <td>4390.0</td>\n",
       "    </tr>\n",
       "  </tbody>\n",
       "</table>\n",
       "</div>"
      ],
      "text/plain": [
       "      sale_price_sqr_foot  gross_rent\n",
       "year                                 \n",
       "2010           369.344353      1239.0\n",
       "2011           341.903429      1530.0\n",
       "2012           399.389968      2324.0\n",
       "2013           483.600304      2971.0\n",
       "2014           556.277273      3528.0\n",
       "2015           632.540352      3739.0\n",
       "2016           697.643709      4390.0"
      ]
     },
     "execution_count": 222,
     "metadata": {},
     "output_type": "execute_result"
    }
   ],
   "source": [
    "# Calculate the average sale price per square foot and average gross rent\n",
    "average_housing_cost_sfo = sfo_data.groupby(['year'])['sale_price_sqr_foot','gross_rent'].mean()\n",
    "average_housing_cost_sfo"
   ]
  },
  {
   "cell_type": "code",
   "execution_count": 223,
   "metadata": {},
   "outputs": [
    {
     "data": {
      "text/plain": [
       "<AxesSubplot:xlabel='year'>"
      ]
     },
     "execution_count": 223,
     "metadata": {},
     "output_type": "execute_result"
    },
    {
     "data": {
      "image/png": "[encoded data removed]",
      "text/plain": [
       "<Figure size 432x288 with 1 Axes>"
      ]
     },
     "metadata": {
      "needs_background": "light"
     },
     "output_type": "display_data"
    },
    {
     "data": {
      "image/png": "[encoded data removed]",
      "text/plain": [
       "<Figure size 432x288 with 1 Axes>"
      ]
     },
     "metadata": {
      "needs_background": "light"
     },
     "output_type": "display_data"
    }
   ],
   "source": [
    "# Create two line charts, one to plot the average sale price per square foot and another for average montly rent\n",
    "\n",
    "# Line chart for average sale price per square foot\n",
    "\n",
    "avg_sale_price_per_sft = average_housing_cost_sfo[['sale_price_sqr_foot']].plot.line(color = 'Red')\n",
    "avg_sale_price_per_sft\n",
    "\n",
    "# Line chart for average montly rent\n",
    "avg_monthly_rent = average_housing_cost_sfo[['gross_rent']].plot.line(color = 'Blue')\n",
    "avg_monthly_rent"
   ]
  },
  {
   "cell_type": "markdown",
   "metadata": {},
   "source": [
    "- - - "
   ]
  },
  {
   "cell_type": "markdown",
   "metadata": {},
   "source": [
    "## Average Prices by Neighborhood\n",
    "\n",
    "In this section, you will use hvplot to create two interactive visulizations of average prices with a dropdown selector for the neighborhood. The first visualization will be a line plot showing the trend of average price per square foot over time for each neighborhood.  The second will be a line plot showing the trend of average montly rent over time for each neighborhood.\n",
    "\n",
    "**Hint:** It will be easier to create a new DataFrame from grouping the data and calculating the mean prices for each year and neighborhood"
   ]
  },
  {
   "cell_type": "code",
   "execution_count": 224,
   "metadata": {},
   "outputs": [
    {
     "data": {
      "text/html": [
       "<div>\n",
       "<style scoped>\n",
       "    .dataframe tbody tr th:only-of-type {\n",
       "        vertical-align: middle;\n",
       "    }\n",
       "\n",
       "    .dataframe tbody tr th {\n",
       "        vertical-align: top;\n",
       "    }\n",
       "\n",
       "    .dataframe thead th {\n",
       "        text-align: right;\n",
       "    }\n",
       "</style>\n",
       "<table border=\"1\" class=\"dataframe\">\n",
       "  <thead>\n",
       "    <tr style=\"text-align: right;\">\n",
       "      <th></th>\n",
       "      <th>year</th>\n",
       "      <th>neighborhood</th>\n",
       "      <th>sale_price_sqr_foot</th>\n",
       "      <th>gross_rent</th>\n",
       "    </tr>\n",
       "  </thead>\n",
       "  <tbody>\n",
       "    <tr>\n",
       "      <th>0</th>\n",
       "      <td>2010</td>\n",
       "      <td>Alamo Square</td>\n",
       "      <td>291.182945</td>\n",
       "      <td>1239.0</td>\n",
       "    </tr>\n",
       "    <tr>\n",
       "      <th>1</th>\n",
       "      <td>2010</td>\n",
       "      <td>Anza Vista</td>\n",
       "      <td>267.932583</td>\n",
       "      <td>1239.0</td>\n",
       "    </tr>\n",
       "    <tr>\n",
       "      <th>2</th>\n",
       "      <td>2010</td>\n",
       "      <td>Bayview</td>\n",
       "      <td>170.098665</td>\n",
       "      <td>1239.0</td>\n",
       "    </tr>\n",
       "    <tr>\n",
       "      <th>3</th>\n",
       "      <td>2010</td>\n",
       "      <td>Buena Vista Park</td>\n",
       "      <td>347.394919</td>\n",
       "      <td>1239.0</td>\n",
       "    </tr>\n",
       "    <tr>\n",
       "      <th>4</th>\n",
       "      <td>2010</td>\n",
       "      <td>Central Richmond</td>\n",
       "      <td>319.027623</td>\n",
       "      <td>1239.0</td>\n",
       "    </tr>\n",
       "    <tr>\n",
       "      <th>...</th>\n",
       "      <td>...</td>\n",
       "      <td>...</td>\n",
       "      <td>...</td>\n",
       "      <td>...</td>\n",
       "    </tr>\n",
       "    <tr>\n",
       "      <th>392</th>\n",
       "      <td>2016</td>\n",
       "      <td>Telegraph Hill</td>\n",
       "      <td>903.049771</td>\n",
       "      <td>4390.0</td>\n",
       "    </tr>\n",
       "    <tr>\n",
       "      <th>393</th>\n",
       "      <td>2016</td>\n",
       "      <td>Twin Peaks</td>\n",
       "      <td>970.085470</td>\n",
       "      <td>4390.0</td>\n",
       "    </tr>\n",
       "    <tr>\n",
       "      <th>394</th>\n",
       "      <td>2016</td>\n",
       "      <td>Van Ness/ Civic Center</td>\n",
       "      <td>552.602567</td>\n",
       "      <td>4390.0</td>\n",
       "    </tr>\n",
       "    <tr>\n",
       "      <th>395</th>\n",
       "      <td>2016</td>\n",
       "      <td>Visitacion Valley</td>\n",
       "      <td>328.319007</td>\n",
       "      <td>4390.0</td>\n",
       "    </tr>\n",
       "    <tr>\n",
       "      <th>396</th>\n",
       "      <td>2016</td>\n",
       "      <td>Westwood Park</td>\n",
       "      <td>631.195426</td>\n",
       "      <td>4390.0</td>\n",
       "    </tr>\n",
       "  </tbody>\n",
       "</table>\n",
       "<p>397 rows × 4 columns</p>\n",
       "</div>"
      ],
      "text/plain": [
       "     year            neighborhood  sale_price_sqr_foot  gross_rent\n",
       "0    2010            Alamo Square           291.182945      1239.0\n",
       "1    2010              Anza Vista           267.932583      1239.0\n",
       "2    2010                 Bayview           170.098665      1239.0\n",
       "3    2010        Buena Vista Park           347.394919      1239.0\n",
       "4    2010        Central Richmond           319.027623      1239.0\n",
       "..    ...                     ...                  ...         ...\n",
       "392  2016          Telegraph Hill           903.049771      4390.0\n",
       "393  2016              Twin Peaks           970.085470      4390.0\n",
       "394  2016  Van Ness/ Civic Center           552.602567      4390.0\n",
       "395  2016       Visitacion Valley           328.319007      4390.0\n",
       "396  2016           Westwood Park           631.195426      4390.0\n",
       "\n",
       "[397 rows x 4 columns]"
      ]
     },
     "execution_count": 224,
     "metadata": {},
     "output_type": "execute_result"
    }
   ],
   "source": [
    "# Group by year and neighborhood and then create a new dataframe of the mean values\n",
    "avg_prices_nbrhd = sfo_data.groupby(['year','neighborhood'])['sale_price_sqr_foot','gross_rent'].mean().reset_index()\n",
    "avg_prices_nbrhd"
   ]
  },
  {
   "cell_type": "code",
   "execution_count": 225,
   "metadata": {},
   "outputs": [
    {
     "data": {},
     "metadata": {},
     "output_type": "display_data"
    },
    {
     "data": {
      "application/vnd.holoviews_exec.v0+json": "",
      "text/html": [
       "<div id='3551'>\n",
       "\n",
       "\n",
       "\n",
       "\n",
       "\n",
       "  <div class=\"bk-root\" id=\"fa8df489-29fe-4c77-84c9-2941f888c649\" data-root-id=\"3551\"></div>\n",
       "</div>\n",
       "<script type=\"application/javascript\">(function(root) {\n",
       "  function embed_document(root) {\n",
       "    var docs_json = {\"d3d1c9d6-d146-4e2a-bf77-30ed8053d15b\":{\"defs\":[{\"extends\":null,\"module\":null,\"name\":\"ReactiveHTML1\",\"overrides\":[],\"properties\":[]},{\"extends\":null,\"module\":null,\"name\":\"FlexBox1\",\"overrides\":[],\"properties\":[{\"default\":\"flex-start\",\"kind\":null,\"name\":\"align_content\"},{\"default\":\"flex-start\",\"kind\":null,\"name\":\"align_items\"},{\"default\":\"row\",\"kind\":null,\"name\":\"flex_direction\"},{\"default\":\"wrap\",\"kind\":null,\"name\":\"flex_wrap\"},{\"default\":\"flex-start\",\"kind\":null,\"name\":\"justify_content\"}]},{\"extends\":null,\"module\":null,\"name\":\"TemplateActions1\",\"overrides\":[],\"properties\":[{\"default\":0,\"kind\":null,\"name\":\"open_modal\"},{\"default\":0,\"kind\":null,\"name\":\"close_modal\"}]},{\"extends\":null,\"module\":null,\"name\":\"MaterialTemplateActions1\",\"overrides\":[],\"properties\":[{\"default\":0,\"kind\":null,\"name\":\"open_modal\"},{\"default\":0,\"kind\":null,\"name\":\"close_modal\"}]}],\"roots\":{\"references\":[{\"attributes\":{\"callback\":null,\"renderers\":[{\"id\":\"3592\"}],\"tags\":[\"hv_created\"],\"tooltips\":[[\"year\",\"@{year}\"],[\"sale_price_sqr_foot\",\"@{sale_price_sqr_foot}\"]]},\"id\":\"3555\",\"type\":\"HoverTool\"},{\"attributes\":{\"bottom_units\":\"screen\",\"fill_alpha\":0.5,\"fill_color\":\"lightgrey\",\"left_units\":\"screen\",\"level\":\"overlay\",\"line_alpha\":1.0,\"line_color\":\"black\",\"line_dash\":[4,4],\"line_width\":2,\"right_units\":\"screen\",\"syncable\":false,\"top_units\":\"screen\"},\"id\":\"3578\",\"type\":\"BoxAnnotation\"},{\"attributes\":{},\"id\":\"3598\",\"type\":\"BasicTickFormatter\"},{\"attributes\":{},\"id\":\"3587\",\"type\":\"Selection\"},{\"attributes\":{\"below\":[{\"id\":\"3565\"}],\"center\":[{\"id\":\"3568\"},{\"id\":\"3572\"}],\"height\":300,\"left\":[{\"id\":\"3569\"}],\"margin\":[5,5,5,5],\"min_border_bottom\":10,\"min_border_left\":10,\"min_border_right\":10,\"min_border_top\":10,\"renderers\":[{\"id\":\"3592\"}],\"sizing_mode\":\"fixed\",\"title\":{\"id\":\"3557\"},\"toolbar\":{\"id\":\"3579\"},\"width\":700,\"x_range\":{\"id\":\"3553\"},\"x_scale\":{\"id\":\"3561\"},\"y_range\":{\"id\":\"3554\"},\"y_scale\":{\"id\":\"3563\"}},\"id\":\"3556\",\"subtype\":\"Figure\",\"type\":\"Plot\"},{\"attributes\":{\"margin\":[5,5,5,5],\"name\":\"HSpacer06264\",\"sizing_mode\":\"stretch_width\"},\"id\":\"3627\",\"type\":\"Spacer\"},{\"attributes\":{\"data_source\":{\"id\":\"3586\"},\"glyph\":{\"id\":\"3589\"},\"hover_glyph\":null,\"muted_glyph\":{\"id\":\"3591\"},\"nonselection_glyph\":{\"id\":\"3590\"},\"selection_glyph\":{\"id\":\"3594\"},\"view\":{\"id\":\"3593\"}},\"id\":\"3592\",\"type\":\"GlyphRenderer\"},{\"attributes\":{\"axis\":{\"id\":\"3565\"},\"grid_line_color\":null,\"ticker\":null},\"id\":\"3568\",\"type\":\"Grid\"},{\"attributes\":{\"text\":\"neighborhood: Alamo Square\",\"text_color\":\"black\",\"text_font_size\":\"12pt\"},\"id\":\"3557\",\"type\":\"Title\"},{\"attributes\":{\"margin\":[5,5,5,5],\"name\":\"VSpacer06261\",\"sizing_mode\":\"stretch_height\"},\"id\":\"3632\",\"type\":\"Spacer\"},{\"attributes\":{},\"id\":\"3597\",\"type\":\"AllLabels\"},{\"attributes\":{},\"id\":\"3573\",\"type\":\"SaveTool\"},{\"attributes\":{\"line_color\":\"#30a2da\",\"line_width\":2,\"x\":{\"field\":\"year\"},\"y\":{\"field\":\"sale_price_sqr_foot\"}},\"id\":\"3594\",\"type\":\"Line\"},{\"attributes\":{},\"id\":\"3574\",\"type\":\"PanTool\"},{\"attributes\":{},\"id\":\"3577\",\"type\":\"ResetTool\"},{\"attributes\":{},\"id\":\"3575\",\"type\":\"WheelZoomTool\"},{\"attributes\":{\"line_color\":\"#30a2da\",\"line_width\":2,\"x\":{\"field\":\"year\"},\"y\":{\"field\":\"sale_price_sqr_foot\"}},\"id\":\"3589\",\"type\":\"Line\"},{\"attributes\":{\"client_comm_id\":\"57eeeca912ee4ba6ba75ecd6fd6c6703\",\"comm_id\":\"9594dd1a3e5a4c87b7fdc027ac2f7108\",\"plot_id\":\"3551\"},\"id\":\"3663\",\"type\":\"panel.models.comm_manager.CommManager\"},{\"attributes\":{},\"id\":\"3566\",\"type\":\"BasicTicker\"},{\"attributes\":{\"overlay\":{\"id\":\"3578\"}},\"id\":\"3576\",\"type\":\"BoxZoomTool\"},{\"attributes\":{\"children\":[{\"id\":\"3552\"},{\"id\":\"3556\"},{\"id\":\"3627\"},{\"id\":\"3628\"}],\"margin\":[0,0,0,0],\"name\":\"Row06254\"},\"id\":\"3551\",\"type\":\"Row\"},{\"attributes\":{\"children\":[{\"id\":\"3631\"}],\"css_classes\":[\"panel-widget-box\"],\"margin\":[5,5,5,5],\"name\":\"WidgetBox06255\"},\"id\":\"3630\",\"type\":\"Column\"},{\"attributes\":{\"end\":2016.0,\"reset_end\":2016.0,\"reset_start\":2010.0,\"start\":2010.0,\"tags\":[[[\"year\",\"year\",null]]]},\"id\":\"3553\",\"type\":\"Range1d\"},{\"attributes\":{\"axis\":{\"id\":\"3569\"},\"dimension\":1,\"grid_line_color\":null,\"ticker\":null},\"id\":\"3572\",\"type\":\"Grid\"},{\"attributes\":{\"margin\":[5,5,5,5],\"name\":\"VSpacer06260\",\"sizing_mode\":\"stretch_height\"},\"id\":\"3629\",\"type\":\"Spacer\"},{\"attributes\":{},\"id\":\"3561\",\"type\":\"LinearScale\"},{\"attributes\":{},\"id\":\"3595\",\"type\":\"BasicTickFormatter\"},{\"attributes\":{\"margin\":[5,5,5,5],\"name\":\"HSpacer06263\",\"sizing_mode\":\"stretch_width\"},\"id\":\"3552\",\"type\":\"Spacer\"},{\"attributes\":{},\"id\":\"3563\",\"type\":\"LinearScale\"},{\"attributes\":{\"data\":{\"sale_price_sqr_foot\":{\"__ndarray__\":\"DUc7WO0yckCafszcbwhxQIKRs5ot42ZAKDog0LQ8eEAVMinKGEd+QI4V5FDt0IJAVCHcmLVPdUA=\",\"dtype\":\"float64\",\"order\":\"little\",\"shape\":[7]},\"year\":[2010,2011,2012,2013,2014,2015,2016]},\"selected\":{\"id\":\"3587\"},\"selection_policy\":{\"id\":\"3615\"}},\"id\":\"3586\",\"type\":\"ColumnDataSource\"},{\"attributes\":{\"line_alpha\":0.2,\"line_color\":\"#30a2da\",\"line_width\":2,\"x\":{\"field\":\"year\"},\"y\":{\"field\":\"sale_price_sqr_foot\"}},\"id\":\"3591\",\"type\":\"Line\"},{\"attributes\":{\"axis_label\":\"Year\",\"formatter\":{\"id\":\"3595\"},\"major_label_policy\":{\"id\":\"3597\"},\"ticker\":{\"id\":\"3566\"}},\"id\":\"3565\",\"type\":\"LinearAxis\"},{\"attributes\":{\"source\":{\"id\":\"3586\"}},\"id\":\"3593\",\"type\":\"CDSView\"},{\"attributes\":{},\"id\":\"3600\",\"type\":\"AllLabels\"},{\"attributes\":{},\"id\":\"3570\",\"type\":\"BasicTicker\"},{\"attributes\":{\"children\":[{\"id\":\"3629\"},{\"id\":\"3630\"},{\"id\":\"3632\"}],\"margin\":[0,0,0,0],\"name\":\"Column06262\"},\"id\":\"3628\",\"type\":\"Column\"},{\"attributes\":{\"axis_label\":\"Average Price Per Square Foot\",\"formatter\":{\"id\":\"3598\"},\"major_label_policy\":{\"id\":\"3600\"},\"ticker\":{\"id\":\"3570\"}},\"id\":\"3569\",\"type\":\"LinearAxis\"},{\"attributes\":{\"margin\":[20,20,20,20],\"min_width\":250,\"options\":[\"Alamo Square\",\"Anza Vista\",\"Bayview\",\"Buena Vista Park\",\"Central Richmond\",\"Central Sunset\",\"Corona Heights\",\"Cow Hollow\",\"Croker Amazon\",\"Diamond Heights\",\"Downtown \",\"Eureka Valley/Dolores Heights\",\"Excelsior\",\"Financial District North\",\"Financial District South\",\"Forest Knolls\",\"Glen Park\",\"Golden Gate Heights\",\"Haight Ashbury\",\"Hayes Valley\",\"Hunters Point\",\"Ingleside \",\"Inner Mission\",\"Inner Parkside\",\"Inner Richmond\",\"Inner Sunset\",\"Jordan Park/Laurel Heights\",\"Lake --The Presidio\",\"Lone Mountain\",\"Lower Pacific Heights\",\"Marina\",\"Miraloma Park\",\"Mission Bay\",\"Mission Dolores\",\"Mission Terrace\",\"Nob Hill\",\"Noe Valley\",\"Oceanview\",\"Outer Parkside\",\"Outer Richmond \",\"Outer Sunset\",\"Pacific Heights\",\"Park North\",\"Parkside\",\"Parnassus/Ashbury Heights\",\"Portola\",\"Potrero Hill\",\"Presidio Heights\",\"Russian Hill\",\"South Beach\",\"South of Market\",\"Sunnyside\",\"Telegraph Hill\",\"Twin Peaks\",\"Union Square District\",\"Van Ness/ Civic Center\",\"West Portal\",\"Western Addition\",\"Yerba Buena\",\"Bernal Heights \",\"Clarendon Heights\",\"Duboce Triangle\",\"Ingleside Heights\",\"North Beach\",\"North Waterfront\",\"Outer Mission\",\"Westwood Highlands\",\"Merced Heights\",\"Midtown Terrace\",\"Visitacion Valley\",\"Silver Terrace\",\"Westwood Park\",\"Bayview Heights\"],\"title\":\"neighborhood\",\"value\":\"Alamo Square\",\"width\":250},\"id\":\"3631\",\"type\":\"Select\"},{\"attributes\":{\"end\":644.0175329447046,\"reset_end\":644.0175329447046,\"reset_start\":141.1976609302527,\"start\":141.1976609302527,\"tags\":[[[\"sale_price_sqr_foot\",\"sale_price_sqr_foot\",null]]]},\"id\":\"3554\",\"type\":\"Range1d\"},{\"attributes\":{\"active_multi\":null,\"tools\":[{\"id\":\"3555\"},{\"id\":\"3573\"},{\"id\":\"3574\"},{\"id\":\"3575\"},{\"id\":\"3576\"},{\"id\":\"3577\"}]},\"id\":\"3579\",\"type\":\"Toolbar\"},{\"attributes\":{\"line_alpha\":0.1,\"line_color\":\"#30a2da\",\"line_width\":2,\"x\":{\"field\":\"year\"},\"y\":{\"field\":\"sale_price_sqr_foot\"}},\"id\":\"3590\",\"type\":\"Line\"},{\"attributes\":{},\"id\":\"3615\",\"type\":\"UnionRenderers\"}],\"root_ids\":[\"3551\",\"3663\"]},\"title\":\"Bokeh Application\",\"version\":\"2.3.3\"}};\n",
       "    var render_items = [{\"docid\":\"d3d1c9d6-d146-4e2a-bf77-30ed8053d15b\",\"root_ids\":[\"3551\"],\"roots\":{\"3551\":\"fa8df489-29fe-4c77-84c9-2941f888c649\"}}];\n",
       "    root.Bokeh.embed.embed_items_notebook(docs_json, render_items);\n",
       "  }\n",
       "  if (root.Bokeh !== undefined && root.Bokeh.Panel !== undefined && ( root['Plotly'] !== undefined)) {\n",
       "    embed_document(root);\n",
       "  } else {\n",
       "    var attempts = 0;\n",
       "    var timer = setInterval(function(root) {\n",
       "      if (root.Bokeh !== undefined && root.Bokeh.Panel !== undefined && (root['Plotly'] !== undefined)) {\n",
       "        clearInterval(timer);\n",
       "        embed_document(root);\n",
       "      } else if (document.readyState == \"complete\") {\n",
       "        attempts++;\n",
       "        if (attempts > 200) {\n",
       "          clearInterval(timer);\n",
       "          console.log(\"Bokeh: ERROR: Unable to run BokehJS code because BokehJS library is missing\");\n",
       "        }\n",
       "      }\n",
       "    }, 25, root)\n",
       "  }\n",
       "})(window);</script>"
      ],
      "text/plain": [
       ":DynamicMap   [neighborhood]\n",
       "   :Curve   [year]   (sale_price_sqr_foot)"
      ]
     },
     "execution_count": 225,
     "metadata": {
      "application/vnd.holoviews_exec.v0+json": {
       "id": "3551"
      }
     },
     "output_type": "execute_result"
    }
   ],
   "source": [
    "# Use hvplot to create an interactive line chart of the average price per sq ft.\n",
    "# The plot should have a dropdown selector for the neighborhood\n",
    "avg_prices_nbrhd1 = avg_prices_nbrhd[['year','neighborhood','sale_price_sqr_foot']].set_index('year')#.sort_values(by='sale_price_sqr_foot')\n",
    "avg_prices_nbrhd1.hvplot(\n",
    "    x='year',\n",
    "    y='sale_price_sqr_foot',\n",
    "    kind='line',\n",
    "    groupby='neighborhood',\n",
    "    xlabel='Year',\n",
    "    ylabel='Average Price Per Square Foot'\n",
    ")"
   ]
  },
  {
   "cell_type": "code",
   "execution_count": 226,
   "metadata": {},
   "outputs": [
    {
     "data": {},
     "metadata": {},
     "output_type": "display_data"
    },
    {
     "data": {
      "application/vnd.holoviews_exec.v0+json": "",
      "text/html": [
       "<div id='3714'>\n",
       "\n",
       "\n",
       "\n",
       "\n",
       "\n",
       "  <div class=\"bk-root\" id=\"4953cbf6-31ce-4669-8380-ef60d7537442\" data-root-id=\"3714\"></div>\n",
       "</div>\n",
       "<script type=\"application/javascript\">(function(root) {\n",
       "  function embed_document(root) {\n",
       "    var docs_json = {\"6232ab96-bf9b-4d1f-a2c7-f28137df1ca4\":{\"defs\":[{\"extends\":null,\"module\":null,\"name\":\"ReactiveHTML1\",\"overrides\":[],\"properties\":[]},{\"extends\":null,\"module\":null,\"name\":\"FlexBox1\",\"overrides\":[],\"properties\":[{\"default\":\"flex-start\",\"kind\":null,\"name\":\"align_content\"},{\"default\":\"flex-start\",\"kind\":null,\"name\":\"align_items\"},{\"default\":\"row\",\"kind\":null,\"name\":\"flex_direction\"},{\"default\":\"wrap\",\"kind\":null,\"name\":\"flex_wrap\"},{\"default\":\"flex-start\",\"kind\":null,\"name\":\"justify_content\"}]},{\"extends\":null,\"module\":null,\"name\":\"TemplateActions1\",\"overrides\":[],\"properties\":[{\"default\":0,\"kind\":null,\"name\":\"open_modal\"},{\"default\":0,\"kind\":null,\"name\":\"close_modal\"}]},{\"extends\":null,\"module\":null,\"name\":\"MaterialTemplateActions1\",\"overrides\":[],\"properties\":[{\"default\":0,\"kind\":null,\"name\":\"open_modal\"},{\"default\":0,\"kind\":null,\"name\":\"close_modal\"}]}],\"roots\":{\"references\":[{\"attributes\":{\"axis\":{\"id\":\"3732\"},\"dimension\":1,\"grid_line_color\":null,\"ticker\":null},\"id\":\"3735\",\"type\":\"Grid\"},{\"attributes\":{\"line_alpha\":0.1,\"line_color\":\"#30a2da\",\"line_width\":2,\"x\":{\"field\":\"year\"},\"y\":{\"field\":\"gross_rent\"}},\"id\":\"3753\",\"type\":\"Line\"},{\"attributes\":{\"data_source\":{\"id\":\"3749\"},\"glyph\":{\"id\":\"3752\"},\"hover_glyph\":null,\"muted_glyph\":{\"id\":\"3754\"},\"nonselection_glyph\":{\"id\":\"3753\"},\"selection_glyph\":{\"id\":\"3757\"},\"view\":{\"id\":\"3756\"}},\"id\":\"3755\",\"type\":\"GlyphRenderer\"},{\"attributes\":{\"bottom_units\":\"screen\",\"fill_alpha\":0.5,\"fill_color\":\"lightgrey\",\"left_units\":\"screen\",\"level\":\"overlay\",\"line_alpha\":1.0,\"line_color\":\"black\",\"line_dash\":[4,4],\"line_width\":2,\"right_units\":\"screen\",\"syncable\":false,\"top_units\":\"screen\"},\"id\":\"3741\",\"type\":\"BoxAnnotation\"},{\"attributes\":{},\"id\":\"3750\",\"type\":\"Selection\"},{\"attributes\":{\"client_comm_id\":\"57d1c6d50b574b3ab070a908d492e3e6\",\"comm_id\":\"f8eae707a6e84b85a917f4fd0157db68\",\"plot_id\":\"3714\"},\"id\":\"3826\",\"type\":\"panel.models.comm_manager.CommManager\"},{\"attributes\":{\"below\":[{\"id\":\"3728\"}],\"center\":[{\"id\":\"3731\"},{\"id\":\"3735\"}],\"height\":300,\"left\":[{\"id\":\"3732\"}],\"margin\":[5,5,5,5],\"min_border_bottom\":10,\"min_border_left\":10,\"min_border_right\":10,\"min_border_top\":10,\"renderers\":[{\"id\":\"3755\"}],\"sizing_mode\":\"fixed\",\"title\":{\"id\":\"3720\"},\"toolbar\":{\"id\":\"3742\"},\"width\":700,\"x_range\":{\"id\":\"3716\"},\"x_scale\":{\"id\":\"3724\"},\"y_range\":{\"id\":\"3717\"},\"y_scale\":{\"id\":\"3726\"}},\"id\":\"3719\",\"subtype\":\"Figure\",\"type\":\"Plot\"},{\"attributes\":{\"margin\":[5,5,5,5],\"name\":\"HSpacer06518\",\"sizing_mode\":\"stretch_width\"},\"id\":\"3790\",\"type\":\"Spacer\"},{\"attributes\":{\"active_multi\":null,\"tools\":[{\"id\":\"3718\"},{\"id\":\"3736\"},{\"id\":\"3737\"},{\"id\":\"3738\"},{\"id\":\"3739\"},{\"id\":\"3740\"}]},\"id\":\"3742\",\"type\":\"Toolbar\"},{\"attributes\":{\"line_color\":\"#30a2da\",\"line_width\":2,\"x\":{\"field\":\"year\"},\"y\":{\"field\":\"gross_rent\"}},\"id\":\"3757\",\"type\":\"Line\"},{\"attributes\":{},\"id\":\"3763\",\"type\":\"AllLabels\"},{\"attributes\":{\"source\":{\"id\":\"3749\"}},\"id\":\"3756\",\"type\":\"CDSView\"},{\"attributes\":{\"margin\":[5,5,5,5],\"name\":\"VSpacer06515\",\"sizing_mode\":\"stretch_height\"},\"id\":\"3795\",\"type\":\"Spacer\"},{\"attributes\":{},\"id\":\"3736\",\"type\":\"SaveTool\"},{\"attributes\":{\"line_color\":\"#30a2da\",\"line_width\":2,\"x\":{\"field\":\"year\"},\"y\":{\"field\":\"gross_rent\"}},\"id\":\"3752\",\"type\":\"Line\"},{\"attributes\":{\"children\":[{\"id\":\"3715\"},{\"id\":\"3719\"},{\"id\":\"3790\"},{\"id\":\"3791\"}],\"margin\":[0,0,0,0],\"name\":\"Row06508\"},\"id\":\"3714\",\"type\":\"Row\"},{\"attributes\":{},\"id\":\"3737\",\"type\":\"PanTool\"},{\"attributes\":{\"children\":[{\"id\":\"3794\"}],\"css_classes\":[\"panel-widget-box\"],\"margin\":[5,5,5,5],\"name\":\"WidgetBox06509\"},\"id\":\"3793\",\"type\":\"Column\"},{\"attributes\":{},\"id\":\"3740\",\"type\":\"ResetTool\"},{\"attributes\":{\"text\":\"neighborhood: Alamo Square\",\"text_color\":\"black\",\"text_font_size\":\"12pt\"},\"id\":\"3720\",\"type\":\"Title\"},{\"attributes\":{},\"id\":\"3738\",\"type\":\"WheelZoomTool\"},{\"attributes\":{\"margin\":[20,20,20,20],\"min_width\":250,\"options\":[\"Alamo Square\",\"Anza Vista\",\"Bayview\",\"Buena Vista Park\",\"Central Richmond\",\"Central Sunset\",\"Corona Heights\",\"Cow Hollow\",\"Croker Amazon\",\"Diamond Heights\",\"Downtown \",\"Eureka Valley/Dolores Heights\",\"Excelsior\",\"Financial District North\",\"Financial District South\",\"Forest Knolls\",\"Glen Park\",\"Golden Gate Heights\",\"Haight Ashbury\",\"Hayes Valley\",\"Hunters Point\",\"Ingleside \",\"Inner Mission\",\"Inner Parkside\",\"Inner Richmond\",\"Inner Sunset\",\"Jordan Park/Laurel Heights\",\"Lake --The Presidio\",\"Lone Mountain\",\"Lower Pacific Heights\",\"Marina\",\"Miraloma Park\",\"Mission Bay\",\"Mission Dolores\",\"Mission Terrace\",\"Nob Hill\",\"Noe Valley\",\"Oceanview\",\"Outer Parkside\",\"Outer Richmond \",\"Outer Sunset\",\"Pacific Heights\",\"Park North\",\"Parkside\",\"Parnassus/Ashbury Heights\",\"Portola\",\"Potrero Hill\",\"Presidio Heights\",\"Russian Hill\",\"South Beach\",\"South of Market\",\"Sunnyside\",\"Telegraph Hill\",\"Twin Peaks\",\"Union Square District\",\"Van Ness/ Civic Center\",\"West Portal\",\"Western Addition\",\"Yerba Buena\",\"Bernal Heights \",\"Clarendon Heights\",\"Duboce Triangle\",\"Ingleside Heights\",\"North Beach\",\"North Waterfront\",\"Outer Mission\",\"Westwood Highlands\",\"Merced Heights\",\"Midtown Terrace\",\"Visitacion Valley\",\"Silver Terrace\",\"Westwood Park\",\"Bayview Heights\"],\"title\":\"neighborhood\",\"value\":\"Alamo Square\",\"width\":250},\"id\":\"3794\",\"type\":\"Select\"},{\"attributes\":{\"margin\":[5,5,5,5],\"name\":\"HSpacer06517\",\"sizing_mode\":\"stretch_width\"},\"id\":\"3715\",\"type\":\"Spacer\"},{\"attributes\":{\"children\":[{\"id\":\"3792\"},{\"id\":\"3793\"},{\"id\":\"3795\"}],\"margin\":[0,0,0,0],\"name\":\"Column06516\"},\"id\":\"3791\",\"type\":\"Column\"},{\"attributes\":{\"overlay\":{\"id\":\"3741\"}},\"id\":\"3739\",\"type\":\"BoxZoomTool\"},{\"attributes\":{},\"id\":\"3778\",\"type\":\"UnionRenderers\"},{\"attributes\":{\"end\":2016.0,\"reset_end\":2016.0,\"reset_start\":2010.0,\"start\":2010.0,\"tags\":[[[\"year\",\"year\",null]]]},\"id\":\"3716\",\"type\":\"Range1d\"},{\"attributes\":{\"axis\":{\"id\":\"3728\"},\"grid_line_color\":null,\"ticker\":null},\"id\":\"3731\",\"type\":\"Grid\"},{\"attributes\":{},\"id\":\"3758\",\"type\":\"BasicTickFormatter\"},{\"attributes\":{},\"id\":\"3729\",\"type\":\"BasicTicker\"},{\"attributes\":{},\"id\":\"3724\",\"type\":\"LinearScale\"},{\"attributes\":{\"margin\":[5,5,5,5],\"name\":\"VSpacer06514\",\"sizing_mode\":\"stretch_height\"},\"id\":\"3792\",\"type\":\"Spacer\"},{\"attributes\":{\"data\":{\"gross_rent\":{\"__ndarray__\":\"AAAAAABck0AAAAAAAOiXQAAAAAAAKKJAAAAAAAA2p0AAAAAAAJCrQAAAAAAANq1AAAAAAAAmsUA=\",\"dtype\":\"float64\",\"order\":\"little\",\"shape\":[7]},\"year\":[2010,2011,2012,2013,2014,2015,2016]},\"selected\":{\"id\":\"3750\"},\"selection_policy\":{\"id\":\"3778\"}},\"id\":\"3749\",\"type\":\"ColumnDataSource\"},{\"attributes\":{\"line_alpha\":0.2,\"line_color\":\"#30a2da\",\"line_width\":2,\"x\":{\"field\":\"year\"},\"y\":{\"field\":\"gross_rent\"}},\"id\":\"3754\",\"type\":\"Line\"},{\"attributes\":{},\"id\":\"3726\",\"type\":\"LinearScale\"},{\"attributes\":{},\"id\":\"3733\",\"type\":\"BasicTicker\"},{\"attributes\":{\"axis_label\":\"Year\",\"formatter\":{\"id\":\"3758\"},\"major_label_policy\":{\"id\":\"3760\"},\"ticker\":{\"id\":\"3729\"}},\"id\":\"3728\",\"type\":\"LinearAxis\"},{\"attributes\":{\"callback\":null,\"renderers\":[{\"id\":\"3755\"}],\"tags\":[\"hv_created\"],\"tooltips\":[[\"year\",\"@{year}\"],[\"gross_rent\",\"@{gross_rent}\"]]},\"id\":\"3718\",\"type\":\"HoverTool\"},{\"attributes\":{},\"id\":\"3761\",\"type\":\"BasicTickFormatter\"},{\"attributes\":{},\"id\":\"3760\",\"type\":\"AllLabels\"},{\"attributes\":{\"end\":4705.1,\"reset_end\":4705.1,\"reset_start\":923.9,\"start\":923.9,\"tags\":[[[\"gross_rent\",\"gross_rent\",null]]]},\"id\":\"3717\",\"type\":\"Range1d\"},{\"attributes\":{\"axis_label\":\"Average Monthly Rent\",\"formatter\":{\"id\":\"3761\"},\"major_label_policy\":{\"id\":\"3763\"},\"ticker\":{\"id\":\"3733\"}},\"id\":\"3732\",\"type\":\"LinearAxis\"}],\"root_ids\":[\"3714\",\"3826\"]},\"title\":\"Bokeh Application\",\"version\":\"2.3.3\"}};\n",
       "    var render_items = [{\"docid\":\"6232ab96-bf9b-4d1f-a2c7-f28137df1ca4\",\"root_ids\":[\"3714\"],\"roots\":{\"3714\":\"4953cbf6-31ce-4669-8380-ef60d7537442\"}}];\n",
       "    root.Bokeh.embed.embed_items_notebook(docs_json, render_items);\n",
       "  }\n",
       "  if (root.Bokeh !== undefined && root.Bokeh.Panel !== undefined && ( root['Plotly'] !== undefined)) {\n",
       "    embed_document(root);\n",
       "  } else {\n",
       "    var attempts = 0;\n",
       "    var timer = setInterval(function(root) {\n",
       "      if (root.Bokeh !== undefined && root.Bokeh.Panel !== undefined && (root['Plotly'] !== undefined)) {\n",
       "        clearInterval(timer);\n",
       "        embed_document(root);\n",
       "      } else if (document.readyState == \"complete\") {\n",
       "        attempts++;\n",
       "        if (attempts > 200) {\n",
       "          clearInterval(timer);\n",
       "          console.log(\"Bokeh: ERROR: Unable to run BokehJS code because BokehJS library is missing\");\n",
       "        }\n",
       "      }\n",
       "    }, 25, root)\n",
       "  }\n",
       "})(window);</script>"
      ],
      "text/plain": [
       ":DynamicMap   [neighborhood]\n",
       "   :Curve   [year]   (gross_rent)"
      ]
     },
     "execution_count": 226,
     "metadata": {
      "application/vnd.holoviews_exec.v0+json": {
       "id": "3714"
      }
     },
     "output_type": "execute_result"
    }
   ],
   "source": [
    "# Use hvplot to create an interactive line chart of the average monthly rent.\n",
    "# The plot should have a dropdown selector for the neighborhood\n",
    "avg_prices_nbrhd2 = avg_prices_nbrhd[['year','neighborhood','gross_rent']].set_index('year')#.sort_values(by='sale_price_sqr_foot')\n",
    "avg_prices_nbrhd2.hvplot(\n",
    "    x='year',\n",
    "    y='gross_rent',\n",
    "    kind='line',\n",
    "    groupby='neighborhood',\n",
    "    xlabel='Year',\n",
    "    ylabel='Average Monthly Rent'\n",
    ")"
   ]
  },
  {
   "cell_type": "markdown",
   "metadata": {},
   "source": [
    "## The Top 10 Most Expensive Neighborhoods\n",
    "\n",
    "In this section, you will need to calculate the mean sale price per square foot for each neighborhood and then sort the values to obtain the top 10 most expensive neighborhoods on average. Plot the results as a bar chart."
   ]
  },
  {
   "cell_type": "code",
   "execution_count": 227,
   "metadata": {},
   "outputs": [
    {
     "data": {
      "text/html": [
       "<div>\n",
       "<style scoped>\n",
       "    .dataframe tbody tr th:only-of-type {\n",
       "        vertical-align: middle;\n",
       "    }\n",
       "\n",
       "    .dataframe tbody tr th {\n",
       "        vertical-align: top;\n",
       "    }\n",
       "\n",
       "    .dataframe thead th {\n",
       "        text-align: right;\n",
       "    }\n",
       "</style>\n",
       "<table border=\"1\" class=\"dataframe\">\n",
       "  <thead>\n",
       "    <tr style=\"text-align: right;\">\n",
       "      <th></th>\n",
       "      <th>neighborhood</th>\n",
       "      <th>sale_price_sqr_foot</th>\n",
       "      <th>housing_units</th>\n",
       "      <th>gross_rent</th>\n",
       "    </tr>\n",
       "  </thead>\n",
       "  <tbody>\n",
       "    <tr>\n",
       "      <th>65</th>\n",
       "      <td>Union Square District</td>\n",
       "      <td>903.993258</td>\n",
       "      <td>377427.50</td>\n",
       "      <td>2555.166667</td>\n",
       "    </tr>\n",
       "    <tr>\n",
       "      <th>36</th>\n",
       "      <td>Merced Heights</td>\n",
       "      <td>788.844818</td>\n",
       "      <td>380348.00</td>\n",
       "      <td>3414.000000</td>\n",
       "    </tr>\n",
       "    <tr>\n",
       "      <th>38</th>\n",
       "      <td>Miraloma Park</td>\n",
       "      <td>779.810842</td>\n",
       "      <td>375967.25</td>\n",
       "      <td>2155.250000</td>\n",
       "    </tr>\n",
       "    <tr>\n",
       "      <th>51</th>\n",
       "      <td>Pacific Heights</td>\n",
       "      <td>689.555817</td>\n",
       "      <td>378401.00</td>\n",
       "      <td>2817.285714</td>\n",
       "    </tr>\n",
       "    <tr>\n",
       "      <th>71</th>\n",
       "      <td>Westwood Park</td>\n",
       "      <td>687.087575</td>\n",
       "      <td>382295.00</td>\n",
       "      <td>3959.000000</td>\n",
       "    </tr>\n",
       "    <tr>\n",
       "      <th>63</th>\n",
       "      <td>Telegraph Hill</td>\n",
       "      <td>676.506578</td>\n",
       "      <td>378401.00</td>\n",
       "      <td>2817.285714</td>\n",
       "    </tr>\n",
       "    <tr>\n",
       "      <th>57</th>\n",
       "      <td>Presidio Heights</td>\n",
       "      <td>675.350212</td>\n",
       "      <td>378401.00</td>\n",
       "      <td>2817.285714</td>\n",
       "    </tr>\n",
       "    <tr>\n",
       "      <th>10</th>\n",
       "      <td>Cow Hollow</td>\n",
       "      <td>665.964042</td>\n",
       "      <td>378401.00</td>\n",
       "      <td>2817.285714</td>\n",
       "    </tr>\n",
       "    <tr>\n",
       "      <th>56</th>\n",
       "      <td>Potrero Hill</td>\n",
       "      <td>662.013613</td>\n",
       "      <td>378401.00</td>\n",
       "      <td>2817.285714</td>\n",
       "    </tr>\n",
       "    <tr>\n",
       "      <th>60</th>\n",
       "      <td>South Beach</td>\n",
       "      <td>650.124479</td>\n",
       "      <td>375805.00</td>\n",
       "      <td>2099.000000</td>\n",
       "    </tr>\n",
       "  </tbody>\n",
       "</table>\n",
       "</div>"
      ],
      "text/plain": [
       "             neighborhood  sale_price_sqr_foot  housing_units   gross_rent\n",
       "65  Union Square District           903.993258      377427.50  2555.166667\n",
       "36         Merced Heights           788.844818      380348.00  3414.000000\n",
       "38          Miraloma Park           779.810842      375967.25  2155.250000\n",
       "51        Pacific Heights           689.555817      378401.00  2817.285714\n",
       "71          Westwood Park           687.087575      382295.00  3959.000000\n",
       "63         Telegraph Hill           676.506578      378401.00  2817.285714\n",
       "57       Presidio Heights           675.350212      378401.00  2817.285714\n",
       "10             Cow Hollow           665.964042      378401.00  2817.285714\n",
       "56           Potrero Hill           662.013613      378401.00  2817.285714\n",
       "60            South Beach           650.124479      375805.00  2099.000000"
      ]
     },
     "execution_count": 227,
     "metadata": {},
     "output_type": "execute_result"
    }
   ],
   "source": [
    "# Getting the data from the top 10 expensive neighborhoods to own\n",
    "most_expensive = sfo_data.groupby(['neighborhood'])['sale_price_sqr_foot','housing_units','gross_rent'].mean().reset_index()\n",
    "most_expensive_10 = most_expensive.sort_values('sale_price_sqr_foot', ascending=False)[0:10]\n",
    "most_expensive_10"
   ]
  },
  {
   "cell_type": "code",
   "execution_count": 228,
   "metadata": {},
   "outputs": [
    {
     "data": {},
     "metadata": {},
     "output_type": "display_data"
    },
    {
     "data": {
      "application/vnd.holoviews_exec.v0+json": "",
      "text/html": [
       "<div id='3877'>\n",
       "\n",
       "\n",
       "\n",
       "\n",
       "\n",
       "  <div class=\"bk-root\" id=\"157a27c1-1e61-404a-825c-ae8ec5cafc03\" data-root-id=\"3877\"></div>\n",
       "</div>\n",
       "<script type=\"application/javascript\">(function(root) {\n",
       "  function embed_document(root) {\n",
       "    var docs_json = {\"d2818bd2-3a4c-4bc0-b2d7-dce21cf4652d\":{\"defs\":[{\"extends\":null,\"module\":null,\"name\":\"ReactiveHTML1\",\"overrides\":[],\"properties\":[]},{\"extends\":null,\"module\":null,\"name\":\"FlexBox1\",\"overrides\":[],\"properties\":[{\"default\":\"flex-start\",\"kind\":null,\"name\":\"align_content\"},{\"default\":\"flex-start\",\"kind\":null,\"name\":\"align_items\"},{\"default\":\"row\",\"kind\":null,\"name\":\"flex_direction\"},{\"default\":\"wrap\",\"kind\":null,\"name\":\"flex_wrap\"},{\"default\":\"flex-start\",\"kind\":null,\"name\":\"justify_content\"}]},{\"extends\":null,\"module\":null,\"name\":\"TemplateActions1\",\"overrides\":[],\"properties\":[{\"default\":0,\"kind\":null,\"name\":\"open_modal\"},{\"default\":0,\"kind\":null,\"name\":\"close_modal\"}]},{\"extends\":null,\"module\":null,\"name\":\"MaterialTemplateActions1\",\"overrides\":[],\"properties\":[{\"default\":0,\"kind\":null,\"name\":\"open_modal\"},{\"default\":0,\"kind\":null,\"name\":\"close_modal\"}]}],\"roots\":{\"references\":[{\"attributes\":{\"axis_label\":\"Average Sale Price per Square Foot\",\"formatter\":{\"id\":\"3923\"},\"major_label_policy\":{\"id\":\"3925\"},\"ticker\":{\"id\":\"3895\"}},\"id\":\"3894\",\"type\":\"LinearAxis\"},{\"attributes\":{\"axis\":{\"id\":\"3894\"},\"dimension\":1,\"grid_line_color\":null,\"ticker\":null},\"id\":\"3897\",\"type\":\"Grid\"},{\"attributes\":{\"bottom_units\":\"screen\",\"fill_alpha\":0.5,\"fill_color\":\"lightgrey\",\"left_units\":\"screen\",\"level\":\"overlay\",\"line_alpha\":1.0,\"line_color\":\"black\",\"line_dash\":[4,4],\"line_width\":2,\"right_units\":\"screen\",\"syncable\":false,\"top_units\":\"screen\"},\"id\":\"3903\",\"type\":\"BoxAnnotation\"},{\"attributes\":{},\"id\":\"3912\",\"type\":\"Selection\"},{\"attributes\":{\"bottom\":{\"value\":0},\"fill_alpha\":{\"value\":1.0},\"fill_color\":{\"value\":\"Crimson\"},\"hatch_alpha\":{\"value\":1.0},\"hatch_color\":{\"value\":\"black\"},\"hatch_scale\":{\"value\":12.0},\"hatch_weight\":{\"value\":1.0},\"line_alpha\":{\"value\":1.0},\"line_cap\":{\"value\":\"butt\"},\"line_color\":{\"value\":\"black\"},\"line_dash\":{\"value\":[]},\"line_dash_offset\":{\"value\":0},\"line_join\":{\"value\":\"bevel\"},\"line_width\":{\"value\":1},\"top\":{\"field\":\"sale_price_sqr_foot\"},\"width\":{\"value\":0.8},\"x\":{\"field\":\"neighborhood\"}},\"id\":\"3919\",\"type\":\"VBar\"},{\"attributes\":{},\"id\":\"3934\",\"type\":\"UnionRenderers\"},{\"attributes\":{\"active_multi\":null,\"tools\":[{\"id\":\"3881\"},{\"id\":\"3898\"},{\"id\":\"3899\"},{\"id\":\"3900\"},{\"id\":\"3901\"},{\"id\":\"3902\"}]},\"id\":\"3904\",\"type\":\"Toolbar\"},{\"attributes\":{\"fill_alpha\":{\"value\":0.1},\"fill_color\":{\"value\":\"Crimson\"},\"line_alpha\":{\"value\":0.1},\"top\":{\"field\":\"sale_price_sqr_foot\"},\"width\":{\"value\":0.8},\"x\":{\"field\":\"neighborhood\"}},\"id\":\"3915\",\"type\":\"VBar\"},{\"attributes\":{},\"id\":\"3920\",\"type\":\"CategoricalTickFormatter\"},{\"attributes\":{\"callback\":null,\"renderers\":[{\"id\":\"3917\"}],\"tags\":[\"hv_created\"],\"tooltips\":[[\"neighborhood\",\"@{neighborhood}\"],[\"sale_price_sqr_foot\",\"@{sale_price_sqr_foot}\"]]},\"id\":\"3881\",\"type\":\"HoverTool\"},{\"attributes\":{\"fill_color\":{\"value\":\"Crimson\"},\"top\":{\"field\":\"sale_price_sqr_foot\"},\"width\":{\"value\":0.8},\"x\":{\"field\":\"neighborhood\"}},\"id\":\"3914\",\"type\":\"VBar\"},{\"attributes\":{\"factors\":[\"Union Square District\",\"Merced Heights\",\"Miraloma Park\",\"Pacific Heights\",\"Westwood Park\",\"Telegraph Hill\",\"Presidio Heights\",\"Cow Hollow\",\"Potrero Hill\",\"South Beach\"],\"tags\":[[[\"neighborhood\",\"neighborhood\",null]]]},\"id\":\"3879\",\"type\":\"FactorRange\"},{\"attributes\":{},\"id\":\"3921\",\"type\":\"AllLabels\"},{\"attributes\":{\"source\":{\"id\":\"3911\"}},\"id\":\"3918\",\"type\":\"CDSView\"},{\"attributes\":{\"fill_alpha\":{\"value\":0.2},\"fill_color\":{\"value\":\"Crimson\"},\"line_alpha\":{\"value\":0.2},\"top\":{\"field\":\"sale_price_sqr_foot\"},\"width\":{\"value\":0.8},\"x\":{\"field\":\"neighborhood\"}},\"id\":\"3916\",\"type\":\"VBar\"},{\"attributes\":{},\"id\":\"3925\",\"type\":\"AllLabels\"},{\"attributes\":{\"below\":[{\"id\":\"3891\"}],\"center\":[{\"id\":\"3893\"},{\"id\":\"3897\"}],\"height\":300,\"left\":[{\"id\":\"3894\"}],\"margin\":[5,5,5,5],\"min_border_bottom\":10,\"min_border_left\":10,\"min_border_right\":10,\"min_border_top\":10,\"renderers\":[{\"id\":\"3917\"}],\"sizing_mode\":\"fixed\",\"title\":{\"id\":\"3883\"},\"toolbar\":{\"id\":\"3904\"},\"width\":700,\"x_range\":{\"id\":\"3879\"},\"x_scale\":{\"id\":\"3887\"},\"y_range\":{\"id\":\"3880\"},\"y_scale\":{\"id\":\"3889\"}},\"id\":\"3882\",\"subtype\":\"Figure\",\"type\":\"Plot\"},{\"attributes\":{},\"id\":\"3898\",\"type\":\"SaveTool\"},{\"attributes\":{},\"id\":\"3899\",\"type\":\"PanTool\"},{\"attributes\":{\"margin\":[5,5,5,5],\"name\":\"HSpacer06821\",\"sizing_mode\":\"stretch_width\"},\"id\":\"3878\",\"type\":\"Spacer\"},{\"attributes\":{\"axis_label\":\"Year\",\"formatter\":{\"id\":\"3920\"},\"major_label_orientation\":1.5707963267948966,\"major_label_policy\":{\"id\":\"3921\"},\"ticker\":{\"id\":\"3892\"}},\"id\":\"3891\",\"type\":\"CategoricalAxis\"},{\"attributes\":{},\"id\":\"3902\",\"type\":\"ResetTool\"},{\"attributes\":{},\"id\":\"3900\",\"type\":\"WheelZoomTool\"},{\"attributes\":{\"data_source\":{\"id\":\"3911\"},\"glyph\":{\"id\":\"3914\"},\"hover_glyph\":null,\"muted_glyph\":{\"id\":\"3916\"},\"nonselection_glyph\":{\"id\":\"3915\"},\"selection_glyph\":{\"id\":\"3919\"},\"view\":{\"id\":\"3918\"}},\"id\":\"3917\",\"type\":\"GlyphRenderer\"},{\"attributes\":{\"overlay\":{\"id\":\"3903\"}},\"id\":\"3901\",\"type\":\"BoxZoomTool\"},{\"attributes\":{\"end\":929.3801355198136,\"reset_end\":929.3801355198136,\"reset_start\":0.0,\"tags\":[[[\"sale_price_sqr_foot\",\"sale_price_sqr_foot\",null]]]},\"id\":\"3880\",\"type\":\"Range1d\"},{\"attributes\":{\"data\":{\"neighborhood\":[\"Union Square District\",\"Merced Heights\",\"Miraloma Park\",\"Pacific Heights\",\"Westwood Park\",\"Telegraph Hill\",\"Presidio Heights\",\"Cow Hollow\",\"Potrero Hill\",\"South Beach\"],\"sale_price_sqr_foot\":{\"__ndarray__\":\"JRAUMfI/jEB9IrkvwqaIQFx/3pp8XohAFpsVUHKMhUBr0ERas3iFQL0KhXgNJIVAy835O80ahUALV25bts+EQJrMCuEbsIRAya3y7v5QhEA=\",\"dtype\":\"float64\",\"order\":\"little\",\"shape\":[10]}},\"selected\":{\"id\":\"3912\"},\"selection_policy\":{\"id\":\"3934\"}},\"id\":\"3911\",\"type\":\"ColumnDataSource\"},{\"attributes\":{\"text_color\":\"black\",\"text_font_size\":\"12pt\"},\"id\":\"3883\",\"type\":\"Title\"},{\"attributes\":{\"axis\":{\"id\":\"3891\"},\"grid_line_color\":null,\"ticker\":null},\"id\":\"3893\",\"type\":\"Grid\"},{\"attributes\":{\"children\":[{\"id\":\"3878\"},{\"id\":\"3882\"},{\"id\":\"3946\"}],\"margin\":[0,0,0,0],\"name\":\"Row06817\",\"tags\":[\"embedded\"]},\"id\":\"3877\",\"type\":\"Row\"},{\"attributes\":{},\"id\":\"3895\",\"type\":\"BasicTicker\"},{\"attributes\":{},\"id\":\"3887\",\"type\":\"CategoricalScale\"},{\"attributes\":{},\"id\":\"3923\",\"type\":\"BasicTickFormatter\"},{\"attributes\":{},\"id\":\"3889\",\"type\":\"LinearScale\"},{\"attributes\":{\"margin\":[5,5,5,5],\"name\":\"HSpacer06822\",\"sizing_mode\":\"stretch_width\"},\"id\":\"3946\",\"type\":\"Spacer\"},{\"attributes\":{},\"id\":\"3892\",\"type\":\"CategoricalTicker\"}],\"root_ids\":[\"3877\"]},\"title\":\"Bokeh Application\",\"version\":\"2.3.3\"}};\n",
       "    var render_items = [{\"docid\":\"d2818bd2-3a4c-4bc0-b2d7-dce21cf4652d\",\"root_ids\":[\"3877\"],\"roots\":{\"3877\":\"157a27c1-1e61-404a-825c-ae8ec5cafc03\"}}];\n",
       "    root.Bokeh.embed.embed_items_notebook(docs_json, render_items);\n",
       "  }\n",
       "  if (root.Bokeh !== undefined && root.Bokeh.Panel !== undefined && ( root['Plotly'] !== undefined)) {\n",
       "    embed_document(root);\n",
       "  } else {\n",
       "    var attempts = 0;\n",
       "    var timer = setInterval(function(root) {\n",
       "      if (root.Bokeh !== undefined && root.Bokeh.Panel !== undefined && (root['Plotly'] !== undefined)) {\n",
       "        clearInterval(timer);\n",
       "        embed_document(root);\n",
       "      } else if (document.readyState == \"complete\") {\n",
       "        attempts++;\n",
       "        if (attempts > 200) {\n",
       "          clearInterval(timer);\n",
       "          console.log(\"Bokeh: ERROR: Unable to run BokehJS code because BokehJS library is missing\");\n",
       "        }\n",
       "      }\n",
       "    }, 25, root)\n",
       "  }\n",
       "})(window);</script>"
      ],
      "text/plain": [
       ":Bars   [neighborhood]   (sale_price_sqr_foot)"
      ]
     },
     "execution_count": 228,
     "metadata": {
      "application/vnd.holoviews_exec.v0+json": {
       "id": "3877"
      }
     },
     "output_type": "execute_result"
    }
   ],
   "source": [
    "# Plotting the data from the top 10 expensive neighborhoods\n",
    "most_expensive_10.hvplot(\n",
    "    x='neighborhood',\n",
    "    y='sale_price_sqr_foot',\n",
    "    kind='bar',\n",
    "    xlabel='Year',\n",
    "    ylabel='Average Sale Price per Square Foot',\n",
    "    color = 'Crimson',\n",
    "    rot=90\n",
    ")"
   ]
  },
  {
   "cell_type": "markdown",
   "metadata": {},
   "source": [
    "- - - "
   ]
  },
  {
   "cell_type": "markdown",
   "metadata": {},
   "source": [
    "## Comparing cost to purchase versus rental income\n",
    "\n",
    "In this section, you will use `hvplot` to create an interactive visualization with a dropdown selector for the neighborhood. This visualization will feature a side-by-side comparison of average price per square foot versus average montly rent by year.  \n",
    "\n",
    "**Hint:** Use the `hvplot` parameter, `groupby`, to create a dropdown selector for the neighborhood."
   ]
  },
  {
   "cell_type": "code",
   "execution_count": 229,
   "metadata": {},
   "outputs": [
    {
     "data": {
      "text/html": [
       "<div>\n",
       "<style scoped>\n",
       "    .dataframe tbody tr th:only-of-type {\n",
       "        vertical-align: middle;\n",
       "    }\n",
       "\n",
       "    .dataframe tbody tr th {\n",
       "        vertical-align: top;\n",
       "    }\n",
       "\n",
       "    .dataframe thead th {\n",
       "        text-align: right;\n",
       "    }\n",
       "</style>\n",
       "<table border=\"1\" class=\"dataframe\">\n",
       "  <thead>\n",
       "    <tr style=\"text-align: right;\">\n",
       "      <th></th>\n",
       "      <th>year</th>\n",
       "      <th>neighborhood</th>\n",
       "      <th>sale_price_sqr_foot</th>\n",
       "      <th>gross_rent</th>\n",
       "    </tr>\n",
       "  </thead>\n",
       "  <tbody>\n",
       "    <tr>\n",
       "      <th>0</th>\n",
       "      <td>2010</td>\n",
       "      <td>Alamo Square</td>\n",
       "      <td>291.182945</td>\n",
       "      <td>1239.0</td>\n",
       "    </tr>\n",
       "    <tr>\n",
       "      <th>1</th>\n",
       "      <td>2010</td>\n",
       "      <td>Anza Vista</td>\n",
       "      <td>267.932583</td>\n",
       "      <td>1239.0</td>\n",
       "    </tr>\n",
       "    <tr>\n",
       "      <th>2</th>\n",
       "      <td>2010</td>\n",
       "      <td>Bayview</td>\n",
       "      <td>170.098665</td>\n",
       "      <td>1239.0</td>\n",
       "    </tr>\n",
       "    <tr>\n",
       "      <th>3</th>\n",
       "      <td>2010</td>\n",
       "      <td>Buena Vista Park</td>\n",
       "      <td>347.394919</td>\n",
       "      <td>1239.0</td>\n",
       "    </tr>\n",
       "    <tr>\n",
       "      <th>4</th>\n",
       "      <td>2010</td>\n",
       "      <td>Central Richmond</td>\n",
       "      <td>319.027623</td>\n",
       "      <td>1239.0</td>\n",
       "    </tr>\n",
       "    <tr>\n",
       "      <th>...</th>\n",
       "      <td>...</td>\n",
       "      <td>...</td>\n",
       "      <td>...</td>\n",
       "      <td>...</td>\n",
       "    </tr>\n",
       "    <tr>\n",
       "      <th>392</th>\n",
       "      <td>2016</td>\n",
       "      <td>Telegraph Hill</td>\n",
       "      <td>903.049771</td>\n",
       "      <td>4390.0</td>\n",
       "    </tr>\n",
       "    <tr>\n",
       "      <th>393</th>\n",
       "      <td>2016</td>\n",
       "      <td>Twin Peaks</td>\n",
       "      <td>970.085470</td>\n",
       "      <td>4390.0</td>\n",
       "    </tr>\n",
       "    <tr>\n",
       "      <th>394</th>\n",
       "      <td>2016</td>\n",
       "      <td>Van Ness/ Civic Center</td>\n",
       "      <td>552.602567</td>\n",
       "      <td>4390.0</td>\n",
       "    </tr>\n",
       "    <tr>\n",
       "      <th>395</th>\n",
       "      <td>2016</td>\n",
       "      <td>Visitacion Valley</td>\n",
       "      <td>328.319007</td>\n",
       "      <td>4390.0</td>\n",
       "    </tr>\n",
       "    <tr>\n",
       "      <th>396</th>\n",
       "      <td>2016</td>\n",
       "      <td>Westwood Park</td>\n",
       "      <td>631.195426</td>\n",
       "      <td>4390.0</td>\n",
       "    </tr>\n",
       "  </tbody>\n",
       "</table>\n",
       "<p>397 rows × 4 columns</p>\n",
       "</div>"
      ],
      "text/plain": [
       "     year            neighborhood  sale_price_sqr_foot  gross_rent\n",
       "0    2010            Alamo Square           291.182945      1239.0\n",
       "1    2010              Anza Vista           267.932583      1239.0\n",
       "2    2010                 Bayview           170.098665      1239.0\n",
       "3    2010        Buena Vista Park           347.394919      1239.0\n",
       "4    2010        Central Richmond           319.027623      1239.0\n",
       "..    ...                     ...                  ...         ...\n",
       "392  2016          Telegraph Hill           903.049771      4390.0\n",
       "393  2016              Twin Peaks           970.085470      4390.0\n",
       "394  2016  Van Ness/ Civic Center           552.602567      4390.0\n",
       "395  2016       Visitacion Valley           328.319007      4390.0\n",
       "396  2016           Westwood Park           631.195426      4390.0\n",
       "\n",
       "[397 rows x 4 columns]"
      ]
     },
     "execution_count": 229,
     "metadata": {},
     "output_type": "execute_result"
    }
   ],
   "source": [
    "# Fetch the previously generated DataFrame that was grouped by year and neighborhood\n",
    "avg_prices_nbrhd"
   ]
  },
  {
   "cell_type": "code",
   "execution_count": 230,
   "metadata": {},
   "outputs": [
    {
     "data": {},
     "metadata": {},
     "output_type": "display_data"
    },
    {
     "data": {
      "application/vnd.holoviews_exec.v0+json": "",
      "text/html": [
       "<div id='3998'>\n",
       "\n",
       "\n",
       "\n",
       "\n",
       "\n",
       "  <div class=\"bk-root\" id=\"cfdc1823-4960-4677-992b-54f23c5dd3ca\" data-root-id=\"3998\"></div>\n",
       "</div>\n",
       "<script type=\"application/javascript\">(function(root) {\n",
       "  function embed_document(root) {\n",
       "    var docs_json = {\"eaa84302-b03d-4126-8510-46fe3a0b7ba9\":{\"defs\":[{\"extends\":null,\"module\":null,\"name\":\"ReactiveHTML1\",\"overrides\":[],\"properties\":[]},{\"extends\":null,\"module\":null,\"name\":\"FlexBox1\",\"overrides\":[],\"properties\":[{\"default\":\"flex-start\",\"kind\":null,\"name\":\"align_content\"},{\"default\":\"flex-start\",\"kind\":null,\"name\":\"align_items\"},{\"default\":\"row\",\"kind\":null,\"name\":\"flex_direction\"},{\"default\":\"wrap\",\"kind\":null,\"name\":\"flex_wrap\"},{\"default\":\"flex-start\",\"kind\":null,\"name\":\"justify_content\"}]},{\"extends\":null,\"module\":null,\"name\":\"TemplateActions1\",\"overrides\":[],\"properties\":[{\"default\":0,\"kind\":null,\"name\":\"open_modal\"},{\"default\":0,\"kind\":null,\"name\":\"close_modal\"}]},{\"extends\":null,\"module\":null,\"name\":\"MaterialTemplateActions1\",\"overrides\":[],\"properties\":[{\"default\":0,\"kind\":null,\"name\":\"open_modal\"},{\"default\":0,\"kind\":null,\"name\":\"close_modal\"}]}],\"roots\":{\"references\":[{\"attributes\":{\"bottom\":{\"value\":0},\"fill_alpha\":{\"value\":1.0},\"fill_color\":{\"value\":\"#fc4f30\"},\"hatch_alpha\":{\"value\":1.0},\"hatch_color\":{\"value\":\"black\"},\"hatch_scale\":{\"value\":12.0},\"hatch_weight\":{\"value\":1.0},\"line_alpha\":{\"value\":1.0},\"line_cap\":{\"value\":\"butt\"},\"line_color\":{\"value\":\"black\"},\"line_dash\":{\"value\":[]},\"line_dash_offset\":{\"value\":0},\"line_join\":{\"value\":\"bevel\"},\"line_width\":{\"value\":1},\"top\":{\"field\":\"sale_price_sqr_foot\"},\"width\":{\"value\":0.8},\"x\":{\"field\":\"year\"}},\"id\":\"4082\",\"type\":\"VBar\"},{\"attributes\":{},\"id\":\"4056\",\"type\":\"UnionRenderers\"},{\"attributes\":{\"callback\":null,\"renderers\":[{\"id\":\"4046\"}],\"tags\":[\"hv_created\"],\"tooltips\":[[\"year\",\"@{year}\"],[\"gross_rent\",\"@{gross_rent}\"]]},\"id\":\"4002\",\"type\":\"HoverTool\"},{\"attributes\":{\"label\":{\"value\":\"Average Price Per Square Foot\"},\"renderers\":[{\"id\":\"4067\"}]},\"id\":\"4081\",\"type\":\"LegendItem\"},{\"attributes\":{\"bottom_units\":\"screen\",\"fill_alpha\":0.5,\"fill_color\":\"lightgrey\",\"left_units\":\"screen\",\"level\":\"overlay\",\"line_alpha\":1.0,\"line_color\":\"black\",\"line_dash\":[4,4],\"line_width\":2,\"right_units\":\"screen\",\"syncable\":false,\"top_units\":\"screen\"},\"id\":\"4025\",\"type\":\"BoxAnnotation\"},{\"attributes\":{\"active_multi\":null,\"tools\":[{\"id\":\"4002\"},{\"id\":\"4003\"},{\"id\":\"4020\"},{\"id\":\"4021\"},{\"id\":\"4022\"},{\"id\":\"4023\"},{\"id\":\"4024\"}]},\"id\":\"4026\",\"type\":\"Toolbar\"},{\"attributes\":{\"children\":[{\"id\":\"4199\"},{\"id\":\"4200\"},{\"id\":\"4202\"}],\"margin\":[0,0,0,0],\"name\":\"Column06950\"},\"id\":\"4198\",\"type\":\"Column\"},{\"attributes\":{\"source\":{\"id\":\"4040\"}},\"id\":\"4047\",\"type\":\"CDSView\"},{\"attributes\":{\"data_source\":{\"id\":\"4040\"},\"glyph\":{\"id\":\"4043\"},\"hover_glyph\":null,\"muted_glyph\":{\"id\":\"4045\"},\"nonselection_glyph\":{\"id\":\"4044\"},\"selection_glyph\":{\"id\":\"4060\"},\"view\":{\"id\":\"4047\"}},\"id\":\"4046\",\"type\":\"GlyphRenderer\"},{\"attributes\":{\"callback\":null,\"renderers\":[{\"id\":\"4067\"}],\"tags\":[\"hv_created\"],\"tooltips\":[[\"year\",\"@{year}\"],[\"sale_price_sqr_foot\",\"@{sale_price_sqr_foot}\"]]},\"id\":\"4003\",\"type\":\"HoverTool\"},{\"attributes\":{\"data\":{\"sale_price_sqr_foot\":{\"__ndarray__\":\"DUc7WO0yckCafszcbwhxQIKRs5ot42ZAKDog0LQ8eEAVMinKGEd+QI4V5FDt0IJAVCHcmLVPdUA=\",\"dtype\":\"float64\",\"order\":\"little\",\"shape\":[7]},\"year\":[\"2010\",\"2011\",\"2012\",\"2013\",\"2014\",\"2015\",\"2016\"]},\"selected\":{\"id\":\"4062\"},\"selection_policy\":{\"id\":\"4079\"}},\"id\":\"4061\",\"type\":\"ColumnDataSource\"},{\"attributes\":{\"source\":{\"id\":\"4061\"}},\"id\":\"4068\",\"type\":\"CDSView\"},{\"attributes\":{\"children\":[{\"id\":\"4201\"}],\"css_classes\":[\"panel-widget-box\"],\"margin\":[5,5,5,5],\"name\":\"WidgetBox06943\"},\"id\":\"4200\",\"type\":\"Column\"},{\"attributes\":{},\"id\":\"4020\",\"type\":\"SaveTool\"},{\"attributes\":{},\"id\":\"4039\",\"type\":\"AllLabels\"},{\"attributes\":{\"fill_alpha\":{\"value\":0.2},\"fill_color\":{\"value\":\"#fc4f30\"},\"line_alpha\":{\"value\":0.2},\"top\":{\"field\":\"sale_price_sqr_foot\"},\"width\":{\"value\":0.8},\"x\":{\"field\":\"year\"}},\"id\":\"4066\",\"type\":\"VBar\"},{\"attributes\":{\"data_source\":{\"id\":\"4061\"},\"glyph\":{\"id\":\"4064\"},\"hover_glyph\":null,\"muted_glyph\":{\"id\":\"4066\"},\"nonselection_glyph\":{\"id\":\"4065\"},\"selection_glyph\":{\"id\":\"4082\"},\"view\":{\"id\":\"4068\"}},\"id\":\"4067\",\"type\":\"GlyphRenderer\"},{\"attributes\":{},\"id\":\"4021\",\"type\":\"PanTool\"},{\"attributes\":{\"children\":[{\"id\":\"3999\"},{\"id\":\"4004\"},{\"id\":\"4197\"},{\"id\":\"4198\"}],\"margin\":[0,0,0,0],\"name\":\"Row06942\"},\"id\":\"3998\",\"type\":\"Row\"},{\"attributes\":{\"overlay\":{\"id\":\"4025\"}},\"id\":\"4023\",\"type\":\"BoxZoomTool\"},{\"attributes\":{\"fill_alpha\":{\"value\":0.2},\"fill_color\":{\"value\":\"#30a2da\"},\"line_alpha\":{\"value\":0.2},\"top\":{\"field\":\"gross_rent\"},\"width\":{\"value\":0.8},\"x\":{\"field\":\"year\"}},\"id\":\"4045\",\"type\":\"VBar\"},{\"attributes\":{\"below\":[{\"id\":\"4013\"}],\"center\":[{\"id\":\"4015\"},{\"id\":\"4019\"}],\"height\":300,\"left\":[{\"id\":\"4016\"}],\"margin\":[5,5,5,5],\"min_border_bottom\":10,\"min_border_left\":10,\"min_border_right\":10,\"min_border_top\":10,\"renderers\":[{\"id\":\"4046\"},{\"id\":\"4067\"}],\"right\":[{\"id\":\"4058\"}],\"sizing_mode\":\"fixed\",\"title\":{\"id\":\"4005\"},\"toolbar\":{\"id\":\"4026\"},\"width\":700,\"x_range\":{\"id\":\"4000\"},\"x_scale\":{\"id\":\"4009\"},\"y_range\":{\"id\":\"4001\"},\"y_scale\":{\"id\":\"4011\"}},\"id\":\"4004\",\"subtype\":\"Figure\",\"type\":\"Plot\"},{\"attributes\":{},\"id\":\"4022\",\"type\":\"WheelZoomTool\"},{\"attributes\":{\"text\":\"neighborhood: Alamo Square\",\"text_color\":\"black\",\"text_font_size\":\"12pt\"},\"id\":\"4005\",\"type\":\"Title\"},{\"attributes\":{\"fill_color\":{\"value\":\"#fc4f30\"},\"top\":{\"field\":\"sale_price_sqr_foot\"},\"width\":{\"value\":0.8},\"x\":{\"field\":\"year\"}},\"id\":\"4064\",\"type\":\"VBar\"},{\"attributes\":{},\"id\":\"4037\",\"type\":\"BasicTickFormatter\"},{\"attributes\":{\"click_policy\":\"mute\",\"items\":[{\"id\":\"4059\"},{\"id\":\"4081\"}],\"location\":[0,0]},\"id\":\"4058\",\"type\":\"Legend\"},{\"attributes\":{\"fill_alpha\":{\"value\":0.1},\"fill_color\":{\"value\":\"#fc4f30\"},\"line_alpha\":{\"value\":0.1},\"top\":{\"field\":\"sale_price_sqr_foot\"},\"width\":{\"value\":0.8},\"x\":{\"field\":\"year\"}},\"id\":\"4065\",\"type\":\"VBar\"},{\"attributes\":{},\"id\":\"4041\",\"type\":\"Selection\"},{\"attributes\":{\"axis_label\":\"year\",\"formatter\":{\"id\":\"4034\"},\"major_label_policy\":{\"id\":\"4035\"},\"ticker\":{\"id\":\"4014\"}},\"id\":\"4013\",\"type\":\"CategoricalAxis\"},{\"attributes\":{},\"id\":\"4024\",\"type\":\"ResetTool\"},{\"attributes\":{},\"id\":\"4017\",\"type\":\"BasicTicker\"},{\"attributes\":{\"factors\":[\"2010\",\"2011\",\"2012\",\"2013\",\"2014\",\"2015\",\"2016\"],\"tags\":[[[\"year\",\"year\",null]]]},\"id\":\"4000\",\"type\":\"FactorRange\"},{\"attributes\":{\"axis\":{\"id\":\"4013\"},\"grid_line_color\":null,\"ticker\":null},\"id\":\"4015\",\"type\":\"Grid\"},{\"attributes\":{\"margin\":[5,5,5,5],\"name\":\"VSpacer06948\",\"sizing_mode\":\"stretch_height\"},\"id\":\"4199\",\"type\":\"Spacer\"},{\"attributes\":{\"margin\":[5,5,5,5],\"name\":\"VSpacer06949\",\"sizing_mode\":\"stretch_height\"},\"id\":\"4202\",\"type\":\"Spacer\"},{\"attributes\":{\"fill_color\":{\"value\":\"#30a2da\"},\"top\":{\"field\":\"gross_rent\"},\"width\":{\"value\":0.8},\"x\":{\"field\":\"year\"}},\"id\":\"4043\",\"type\":\"VBar\"},{\"attributes\":{\"margin\":[5,5,5,5],\"name\":\"HSpacer06951\",\"sizing_mode\":\"stretch_width\"},\"id\":\"3999\",\"type\":\"Spacer\"},{\"attributes\":{},\"id\":\"4009\",\"type\":\"CategoricalScale\"},{\"attributes\":{},\"id\":\"4035\",\"type\":\"AllLabels\"},{\"attributes\":{\"bottom\":{\"value\":0},\"fill_alpha\":{\"value\":1.0},\"fill_color\":{\"value\":\"#30a2da\"},\"hatch_alpha\":{\"value\":1.0},\"hatch_color\":{\"value\":\"black\"},\"hatch_scale\":{\"value\":12.0},\"hatch_weight\":{\"value\":1.0},\"line_alpha\":{\"value\":1.0},\"line_cap\":{\"value\":\"butt\"},\"line_color\":{\"value\":\"black\"},\"line_dash\":{\"value\":[]},\"line_dash_offset\":{\"value\":0},\"line_join\":{\"value\":\"bevel\"},\"line_width\":{\"value\":1},\"top\":{\"field\":\"gross_rent\"},\"width\":{\"value\":0.8},\"x\":{\"field\":\"year\"}},\"id\":\"4060\",\"type\":\"VBar\"},{\"attributes\":{\"end\":4810.690068306854,\"reset_end\":4810.690068306854,\"reset_start\":0.0,\"tags\":[[[\"gross_rent\",\"gross_rent\",null]]]},\"id\":\"4001\",\"type\":\"Range1d\"},{\"attributes\":{},\"id\":\"4034\",\"type\":\"CategoricalTickFormatter\"},{\"attributes\":{\"data\":{\"gross_rent\":{\"__ndarray__\":\"AAAAAABck0AAAAAAAOiXQAAAAAAAKKJAAAAAAAA2p0AAAAAAAJCrQAAAAAAANq1AAAAAAAAmsUA=\",\"dtype\":\"float64\",\"order\":\"little\",\"shape\":[7]},\"year\":[\"2010\",\"2011\",\"2012\",\"2013\",\"2014\",\"2015\",\"2016\"]},\"selected\":{\"id\":\"4041\"},\"selection_policy\":{\"id\":\"4056\"}},\"id\":\"4040\",\"type\":\"ColumnDataSource\"},{\"attributes\":{},\"id\":\"4011\",\"type\":\"LinearScale\"},{\"attributes\":{},\"id\":\"4062\",\"type\":\"Selection\"},{\"attributes\":{\"margin\":[5,5,5,5],\"name\":\"HSpacer06952\",\"sizing_mode\":\"stretch_width\"},\"id\":\"4197\",\"type\":\"Spacer\"},{\"attributes\":{\"label\":{\"value\":\"Average Monthly Rent\"},\"renderers\":[{\"id\":\"4046\"}]},\"id\":\"4059\",\"type\":\"LegendItem\"},{\"attributes\":{},\"id\":\"4079\",\"type\":\"UnionRenderers\"},{\"attributes\":{},\"id\":\"4014\",\"type\":\"CategoricalTicker\"},{\"attributes\":{\"client_comm_id\":\"d204297b316e4cb0a20c7e5ab70fc6b2\",\"comm_id\":\"b12478038323485ca25c19f5c0892925\",\"plot_id\":\"3998\"},\"id\":\"4239\",\"type\":\"panel.models.comm_manager.CommManager\"},{\"attributes\":{\"margin\":[20,20,20,20],\"min_width\":250,\"options\":[\"Alamo Square\",\"Anza Vista\",\"Bayview\",\"Buena Vista Park\",\"Central Richmond\",\"Central Sunset\",\"Corona Heights\",\"Cow Hollow\",\"Croker Amazon\",\"Diamond Heights\",\"Downtown \",\"Eureka Valley/Dolores Heights\",\"Excelsior\",\"Financial District North\",\"Financial District South\",\"Forest Knolls\",\"Glen Park\",\"Golden Gate Heights\",\"Haight Ashbury\",\"Hayes Valley\",\"Hunters Point\",\"Ingleside \",\"Inner Mission\",\"Inner Parkside\",\"Inner Richmond\",\"Inner Sunset\",\"Jordan Park/Laurel Heights\",\"Lake --The Presidio\",\"Lone Mountain\",\"Lower Pacific Heights\",\"Marina\",\"Miraloma Park\",\"Mission Bay\",\"Mission Dolores\",\"Mission Terrace\",\"Nob Hill\",\"Noe Valley\",\"Oceanview\",\"Outer Parkside\",\"Outer Richmond \",\"Outer Sunset\",\"Pacific Heights\",\"Park North\",\"Parkside\",\"Parnassus/Ashbury Heights\",\"Portola\",\"Potrero Hill\",\"Presidio Heights\",\"Russian Hill\",\"South Beach\",\"South of Market\",\"Sunnyside\",\"Telegraph Hill\",\"Twin Peaks\",\"Union Square District\",\"Van Ness/ Civic Center\",\"West Portal\",\"Western Addition\",\"Yerba Buena\",\"Bernal Heights \",\"Clarendon Heights\",\"Duboce Triangle\",\"Ingleside Heights\",\"North Beach\",\"North Waterfront\",\"Outer Mission\",\"Westwood Highlands\",\"Merced Heights\",\"Midtown Terrace\",\"Visitacion Valley\",\"Silver Terrace\",\"Westwood Park\",\"Bayview Heights\"],\"title\":\"neighborhood\",\"value\":\"Alamo Square\",\"width\":250},\"id\":\"4201\",\"type\":\"Select\"},{\"attributes\":{\"axis_label\":\"Num Housing Units\",\"formatter\":{\"id\":\"4037\"},\"major_label_policy\":{\"id\":\"4039\"},\"ticker\":{\"id\":\"4017\"}},\"id\":\"4016\",\"type\":\"LinearAxis\"},{\"attributes\":{\"fill_alpha\":{\"value\":0.1},\"fill_color\":{\"value\":\"#30a2da\"},\"line_alpha\":{\"value\":0.1},\"top\":{\"field\":\"gross_rent\"},\"width\":{\"value\":0.8},\"x\":{\"field\":\"year\"}},\"id\":\"4044\",\"type\":\"VBar\"},{\"attributes\":{\"axis\":{\"id\":\"4016\"},\"dimension\":1,\"grid_line_color\":null,\"ticker\":null},\"id\":\"4019\",\"type\":\"Grid\"}],\"root_ids\":[\"3998\",\"4239\"]},\"title\":\"Bokeh Application\",\"version\":\"2.3.3\"}};\n",
       "    var render_items = [{\"docid\":\"eaa84302-b03d-4126-8510-46fe3a0b7ba9\",\"root_ids\":[\"3998\"],\"roots\":{\"3998\":\"cfdc1823-4960-4677-992b-54f23c5dd3ca\"}}];\n",
       "    root.Bokeh.embed.embed_items_notebook(docs_json, render_items);\n",
       "  }\n",
       "  if (root.Bokeh !== undefined && root.Bokeh.Panel !== undefined && ( root['Plotly'] !== undefined)) {\n",
       "    embed_document(root);\n",
       "  } else {\n",
       "    var attempts = 0;\n",
       "    var timer = setInterval(function(root) {\n",
       "      if (root.Bokeh !== undefined && root.Bokeh.Panel !== undefined && (root['Plotly'] !== undefined)) {\n",
       "        clearInterval(timer);\n",
       "        embed_document(root);\n",
       "      } else if (document.readyState == \"complete\") {\n",
       "        attempts++;\n",
       "        if (attempts > 200) {\n",
       "          clearInterval(timer);\n",
       "          console.log(\"Bokeh: ERROR: Unable to run BokehJS code because BokehJS library is missing\");\n",
       "        }\n",
       "      }\n",
       "    }, 25, root)\n",
       "  }\n",
       "})(window);</script>"
      ],
      "text/plain": [
       ":DynamicMap   [neighborhood]\n",
       "   :Overlay\n",
       "      .Bars.Average_Monthly_Rent          :Bars   [year]   (gross_rent)\n",
       "      .Bars.Average_Price_Per_Square_Foot :Bars   [year]   (sale_price_sqr_foot)"
      ]
     },
     "execution_count": 230,
     "metadata": {
      "application/vnd.holoviews_exec.v0+json": {
       "id": "3998"
      }
     },
     "output_type": "execute_result"
    }
   ],
   "source": [
    "# Plotting the data from the top 10 expensive neighborhoods\n",
    "avg_prices_nbrhd.hvplot(\n",
    "    y='gross_rent',\n",
    "    x='year',\n",
    "    kind='bar',\n",
    "    groupby='neighborhood',\n",
    "    ylabel='Num Housing Units',\n",
    "    label=\"Average Monthly Rent\"\n",
    ") * avg_prices_nbrhd.hvplot(\n",
    "    y='sale_price_sqr_foot',\n",
    "    x='year',\n",
    "    kind='bar',\n",
    "    groupby='neighborhood',\n",
    "    ylabel='Num Housing Units',\n",
    "    label=\"Average Price Per Square Foot\"\n",
    ")"
   ]
  },
  {
   "cell_type": "markdown",
   "metadata": {},
   "source": [
    "- - - "
   ]
  },
  {
   "cell_type": "markdown",
   "metadata": {},
   "source": [
    "## Neighborhood Map\n",
    "\n",
    "In this section, you will read in neighborhoods location data and build an interactive map with the average house value per neighborhood. Use a `scatter_mapbox` from Plotly express to create the visualization. Remember, you will need your Mapbox API key for this."
   ]
  },
  {
   "cell_type": "markdown",
   "metadata": {},
   "source": [
    "### Load Location Data"
   ]
  },
  {
   "cell_type": "code",
   "execution_count": 231,
   "metadata": {},
   "outputs": [
    {
     "data": {
      "text/html": [
       "<div>\n",
       "<style scoped>\n",
       "    .dataframe tbody tr th:only-of-type {\n",
       "        vertical-align: middle;\n",
       "    }\n",
       "\n",
       "    .dataframe tbody tr th {\n",
       "        vertical-align: top;\n",
       "    }\n",
       "\n",
       "    .dataframe thead th {\n",
       "        text-align: right;\n",
       "    }\n",
       "</style>\n",
       "<table border=\"1\" class=\"dataframe\">\n",
       "  <thead>\n",
       "    <tr style=\"text-align: right;\">\n",
       "      <th></th>\n",
       "      <th>Lat</th>\n",
       "      <th>Lon</th>\n",
       "    </tr>\n",
       "    <tr>\n",
       "      <th>Neighborhood</th>\n",
       "      <th></th>\n",
       "      <th></th>\n",
       "    </tr>\n",
       "  </thead>\n",
       "  <tbody>\n",
       "    <tr>\n",
       "      <th>Alamo Square</th>\n",
       "      <td>37.791012</td>\n",
       "      <td>-122.402100</td>\n",
       "    </tr>\n",
       "    <tr>\n",
       "      <th>Anza Vista</th>\n",
       "      <td>37.779598</td>\n",
       "      <td>-122.443451</td>\n",
       "    </tr>\n",
       "    <tr>\n",
       "      <th>Bayview</th>\n",
       "      <td>37.734670</td>\n",
       "      <td>-122.401060</td>\n",
       "    </tr>\n",
       "    <tr>\n",
       "      <th>Bayview Heights</th>\n",
       "      <td>37.728740</td>\n",
       "      <td>-122.410980</td>\n",
       "    </tr>\n",
       "    <tr>\n",
       "      <th>Bernal Heights</th>\n",
       "      <td>37.728630</td>\n",
       "      <td>-122.443050</td>\n",
       "    </tr>\n",
       "  </tbody>\n",
       "</table>\n",
       "</div>"
      ],
      "text/plain": [
       "                       Lat         Lon\n",
       "Neighborhood                          \n",
       "Alamo Square     37.791012 -122.402100\n",
       "Anza Vista       37.779598 -122.443451\n",
       "Bayview          37.734670 -122.401060\n",
       "Bayview Heights  37.728740 -122.410980\n",
       "Bernal Heights   37.728630 -122.443050"
      ]
     },
     "execution_count": 231,
     "metadata": {},
     "output_type": "execute_result"
    }
   ],
   "source": [
    "# Load neighborhoods coordinates data\n",
    "file_path = Path(\"Data/neighborhoods_coordinates.csv\")\n",
    "nbrhd_coord = pd.read_csv(file_path, index_col=\"Neighborhood\")\n",
    "nbrhd_coord.head()"
   ]
  },
  {
   "cell_type": "markdown",
   "metadata": {},
   "source": [
    "### Data Preparation\n",
    "\n",
    "You will need to join the location data with the mean values per neighborhood.\n",
    "\n",
    "1. Calculate the mean values for each neighborhood.\n",
    "\n",
    "2. Join the average values with the neighborhood locations."
   ]
  },
  {
   "cell_type": "code",
   "execution_count": 232,
   "metadata": {},
   "outputs": [
    {
     "data": {
      "text/html": [
       "<div>\n",
       "<style scoped>\n",
       "    .dataframe tbody tr th:only-of-type {\n",
       "        vertical-align: middle;\n",
       "    }\n",
       "\n",
       "    .dataframe tbody tr th {\n",
       "        vertical-align: top;\n",
       "    }\n",
       "\n",
       "    .dataframe thead th {\n",
       "        text-align: right;\n",
       "    }\n",
       "</style>\n",
       "<table border=\"1\" class=\"dataframe\">\n",
       "  <thead>\n",
       "    <tr style=\"text-align: right;\">\n",
       "      <th></th>\n",
       "      <th>sale_price_sqr_foot</th>\n",
       "      <th>housing_units</th>\n",
       "      <th>gross_rent</th>\n",
       "    </tr>\n",
       "    <tr>\n",
       "      <th>Neighborhood</th>\n",
       "      <th></th>\n",
       "      <th></th>\n",
       "      <th></th>\n",
       "    </tr>\n",
       "  </thead>\n",
       "  <tbody>\n",
       "    <tr>\n",
       "      <th>Alamo Square</th>\n",
       "      <td>366.020712</td>\n",
       "      <td>378401.00</td>\n",
       "      <td>2817.285714</td>\n",
       "    </tr>\n",
       "    <tr>\n",
       "      <th>Anza Vista</th>\n",
       "      <td>373.382198</td>\n",
       "      <td>379050.00</td>\n",
       "      <td>3031.833333</td>\n",
       "    </tr>\n",
       "    <tr>\n",
       "      <th>Bayview</th>\n",
       "      <td>204.588623</td>\n",
       "      <td>376454.00</td>\n",
       "      <td>2318.400000</td>\n",
       "    </tr>\n",
       "    <tr>\n",
       "      <th>Bayview Heights</th>\n",
       "      <td>590.792839</td>\n",
       "      <td>382295.00</td>\n",
       "      <td>3739.000000</td>\n",
       "    </tr>\n",
       "    <tr>\n",
       "      <th>Bernal Heights</th>\n",
       "      <td>576.746488</td>\n",
       "      <td>379374.50</td>\n",
       "      <td>3080.333333</td>\n",
       "    </tr>\n",
       "    <tr>\n",
       "      <th>...</th>\n",
       "      <td>...</td>\n",
       "      <td>...</td>\n",
       "      <td>...</td>\n",
       "    </tr>\n",
       "    <tr>\n",
       "      <th>West Portal</th>\n",
       "      <td>498.488485</td>\n",
       "      <td>376940.75</td>\n",
       "      <td>2515.500000</td>\n",
       "    </tr>\n",
       "    <tr>\n",
       "      <th>Western Addition</th>\n",
       "      <td>307.562201</td>\n",
       "      <td>377427.50</td>\n",
       "      <td>2555.166667</td>\n",
       "    </tr>\n",
       "    <tr>\n",
       "      <th>Westwood Highlands</th>\n",
       "      <td>533.703935</td>\n",
       "      <td>376454.00</td>\n",
       "      <td>2250.500000</td>\n",
       "    </tr>\n",
       "    <tr>\n",
       "      <th>Westwood Park</th>\n",
       "      <td>687.087575</td>\n",
       "      <td>382295.00</td>\n",
       "      <td>3959.000000</td>\n",
       "    </tr>\n",
       "    <tr>\n",
       "      <th>Yerba Buena</th>\n",
       "      <td>576.709848</td>\n",
       "      <td>377427.50</td>\n",
       "      <td>2555.166667</td>\n",
       "    </tr>\n",
       "  </tbody>\n",
       "</table>\n",
       "<p>73 rows × 3 columns</p>\n",
       "</div>"
      ],
      "text/plain": [
       "                    sale_price_sqr_foot  housing_units   gross_rent\n",
       "Neighborhood                                                       \n",
       "Alamo Square                 366.020712      378401.00  2817.285714\n",
       "Anza Vista                   373.382198      379050.00  3031.833333\n",
       "Bayview                      204.588623      376454.00  2318.400000\n",
       "Bayview Heights              590.792839      382295.00  3739.000000\n",
       "Bernal Heights               576.746488      379374.50  3080.333333\n",
       "...                                 ...            ...          ...\n",
       "West Portal                  498.488485      376940.75  2515.500000\n",
       "Western Addition             307.562201      377427.50  2555.166667\n",
       "Westwood Highlands           533.703935      376454.00  2250.500000\n",
       "Westwood Park                687.087575      382295.00  3959.000000\n",
       "Yerba Buena                  576.709848      377427.50  2555.166667\n",
       "\n",
       "[73 rows x 3 columns]"
      ]
     },
     "execution_count": 232,
     "metadata": {},
     "output_type": "execute_result"
    }
   ],
   "source": [
    "# Calculate the mean values for each neighborhood\n",
    "nbrhd_mean = sfo_data.groupby(['neighborhood'])['sale_price_sqr_foot','housing_units','gross_rent'].mean().reset_index()\n",
    "nbrhd_mean = nbrhd_mean.rename(columns={\"neighborhood\": \"Neighborhood\"})\n",
    "nbrhd_mean = nbrhd_mean.set_index('Neighborhood')\n",
    "nbrhd_mean"
   ]
  },
  {
   "cell_type": "code",
   "execution_count": 233,
   "metadata": {},
   "outputs": [
    {
     "data": {
      "text/html": [
       "<div>\n",
       "<style scoped>\n",
       "    .dataframe tbody tr th:only-of-type {\n",
       "        vertical-align: middle;\n",
       "    }\n",
       "\n",
       "    .dataframe tbody tr th {\n",
       "        vertical-align: top;\n",
       "    }\n",
       "\n",
       "    .dataframe thead th {\n",
       "        text-align: right;\n",
       "    }\n",
       "</style>\n",
       "<table border=\"1\" class=\"dataframe\">\n",
       "  <thead>\n",
       "    <tr style=\"text-align: right;\">\n",
       "      <th></th>\n",
       "      <th>Neighborhood</th>\n",
       "      <th>Lat</th>\n",
       "      <th>Lon</th>\n",
       "      <th>sale_price_sqr_foot</th>\n",
       "      <th>housing_units</th>\n",
       "      <th>gross_rent</th>\n",
       "    </tr>\n",
       "  </thead>\n",
       "  <tbody>\n",
       "    <tr>\n",
       "      <th>0</th>\n",
       "      <td>Alamo Square</td>\n",
       "      <td>37.791012</td>\n",
       "      <td>-122.402100</td>\n",
       "      <td>366.020712</td>\n",
       "      <td>378401.00</td>\n",
       "      <td>2817.285714</td>\n",
       "    </tr>\n",
       "    <tr>\n",
       "      <th>1</th>\n",
       "      <td>Anza Vista</td>\n",
       "      <td>37.779598</td>\n",
       "      <td>-122.443451</td>\n",
       "      <td>373.382198</td>\n",
       "      <td>379050.00</td>\n",
       "      <td>3031.833333</td>\n",
       "    </tr>\n",
       "    <tr>\n",
       "      <th>2</th>\n",
       "      <td>Bayview</td>\n",
       "      <td>37.734670</td>\n",
       "      <td>-122.401060</td>\n",
       "      <td>204.588623</td>\n",
       "      <td>376454.00</td>\n",
       "      <td>2318.400000</td>\n",
       "    </tr>\n",
       "    <tr>\n",
       "      <th>3</th>\n",
       "      <td>Bayview Heights</td>\n",
       "      <td>37.728740</td>\n",
       "      <td>-122.410980</td>\n",
       "      <td>590.792839</td>\n",
       "      <td>382295.00</td>\n",
       "      <td>3739.000000</td>\n",
       "    </tr>\n",
       "    <tr>\n",
       "      <th>4</th>\n",
       "      <td>Buena Vista Park</td>\n",
       "      <td>37.768160</td>\n",
       "      <td>-122.439330</td>\n",
       "      <td>452.680591</td>\n",
       "      <td>378076.50</td>\n",
       "      <td>2698.833333</td>\n",
       "    </tr>\n",
       "    <tr>\n",
       "      <th>...</th>\n",
       "      <td>...</td>\n",
       "      <td>...</td>\n",
       "      <td>...</td>\n",
       "      <td>...</td>\n",
       "      <td>...</td>\n",
       "      <td>...</td>\n",
       "    </tr>\n",
       "    <tr>\n",
       "      <th>64</th>\n",
       "      <td>West Portal</td>\n",
       "      <td>37.740260</td>\n",
       "      <td>-122.463880</td>\n",
       "      <td>498.488485</td>\n",
       "      <td>376940.75</td>\n",
       "      <td>2515.500000</td>\n",
       "    </tr>\n",
       "    <tr>\n",
       "      <th>65</th>\n",
       "      <td>Western Addition</td>\n",
       "      <td>37.792980</td>\n",
       "      <td>-122.435790</td>\n",
       "      <td>307.562201</td>\n",
       "      <td>377427.50</td>\n",
       "      <td>2555.166667</td>\n",
       "    </tr>\n",
       "    <tr>\n",
       "      <th>66</th>\n",
       "      <td>Westwood Highlands</td>\n",
       "      <td>37.734700</td>\n",
       "      <td>-122.456854</td>\n",
       "      <td>533.703935</td>\n",
       "      <td>376454.00</td>\n",
       "      <td>2250.500000</td>\n",
       "    </tr>\n",
       "    <tr>\n",
       "      <th>67</th>\n",
       "      <td>Westwood Park</td>\n",
       "      <td>37.734150</td>\n",
       "      <td>-122.457000</td>\n",
       "      <td>687.087575</td>\n",
       "      <td>382295.00</td>\n",
       "      <td>3959.000000</td>\n",
       "    </tr>\n",
       "    <tr>\n",
       "      <th>68</th>\n",
       "      <td>Yerba Buena</td>\n",
       "      <td>37.792980</td>\n",
       "      <td>-122.396360</td>\n",
       "      <td>576.709848</td>\n",
       "      <td>377427.50</td>\n",
       "      <td>2555.166667</td>\n",
       "    </tr>\n",
       "  </tbody>\n",
       "</table>\n",
       "<p>69 rows × 6 columns</p>\n",
       "</div>"
      ],
      "text/plain": [
       "          Neighborhood        Lat         Lon  sale_price_sqr_foot  \\\n",
       "0         Alamo Square  37.791012 -122.402100           366.020712   \n",
       "1           Anza Vista  37.779598 -122.443451           373.382198   \n",
       "2              Bayview  37.734670 -122.401060           204.588623   \n",
       "3      Bayview Heights  37.728740 -122.410980           590.792839   \n",
       "4     Buena Vista Park  37.768160 -122.439330           452.680591   \n",
       "..                 ...        ...         ...                  ...   \n",
       "64         West Portal  37.740260 -122.463880           498.488485   \n",
       "65    Western Addition  37.792980 -122.435790           307.562201   \n",
       "66  Westwood Highlands  37.734700 -122.456854           533.703935   \n",
       "67       Westwood Park  37.734150 -122.457000           687.087575   \n",
       "68         Yerba Buena  37.792980 -122.396360           576.709848   \n",
       "\n",
       "    housing_units   gross_rent  \n",
       "0       378401.00  2817.285714  \n",
       "1       379050.00  3031.833333  \n",
       "2       376454.00  2318.400000  \n",
       "3       382295.00  3739.000000  \n",
       "4       378076.50  2698.833333  \n",
       "..            ...          ...  \n",
       "64      376940.75  2515.500000  \n",
       "65      377427.50  2555.166667  \n",
       "66      376454.00  2250.500000  \n",
       "67      382295.00  3959.000000  \n",
       "68      377427.50  2555.166667  \n",
       "\n",
       "[69 rows x 6 columns]"
      ]
     },
     "execution_count": 233,
     "metadata": {},
     "output_type": "execute_result"
    }
   ],
   "source": [
    "# Join the average values with the neighborhood locations\n",
    "nbrhd_mean_coord = pd.concat([nbrhd_coord,nbrhd_mean], axis=\"columns\", join=\"inner\").reset_index()\n",
    "nbrhd_mean_coord"
   ]
  },
  {
   "cell_type": "markdown",
   "metadata": {},
   "source": [
    "### Mapbox Visualization\n",
    "\n",
    "Plot the average values per neighborhood using a Plotly express `scatter_mapbox` visualization."
   ]
  },
  {
   "cell_type": "code",
   "execution_count": 234,
   "metadata": {},
   "outputs": [
    {
     "data": {
      "application/vnd.plotly.v1+json": {
       "config": {
        "plotlyServerURL": "https://plot.ly"
       },
       "data": [
        {
         "hovertemplate": "sale_price_sqr_foot=%{marker.size}<br>Lat=%{lat}<br>Lon=%{lon}<br>gross_rent=%{marker.color}<extra></extra>",
         "lat": [
          37.791012,
          37.779598,
          37.73467,
          37.72874,
          37.76816,
          37.77789,
          37.74961,
          37.75331,
          37.78553,
          37.79298,
          37.7228,
          37.72863,
          37.76964,
          37.75554,
          37.72874,
          37.79101,
          37.79101,
          37.75706,
          37.72863,
          37.757912,
          37.76525,
          37.76525,
          37.72551,
          37.72116,
          37.75416,
          37.74961,
          37.769112,
          37.74961,
          37.78553,
          37.80152,
          37.7789,
          37.79298,
          37.79972,
          37.71993,
          37.75331,
          37.73415,
          37.78323,
          37.75184,
          37.72863,
          37.79298,
          37.75331,
          37.80055,
          37.80055,
          37.71993,
          37.7228,
          37.7517,
          37.74961,
          37.79298,
          37.72838,
          37.74961,
          37.76355,
          37.73467,
          37.73196,
          37.78553,
          37.79298,
          37.73467,
          37.78323,
          37.79101,
          37.73415,
          37.80055,
          37.753311,
          37.79101,
          37.77951,
          37.72874,
          37.74026,
          37.79298,
          37.7347,
          37.73415,
          37.79298
         ],
         "legendgroup": "",
         "lon": [
          -122.4021,
          -122.443451,
          -122.40106,
          -122.41098,
          -122.43933,
          -122.44517,
          -122.48999,
          -122.44703,
          -122.456,
          -122.43579,
          -122.43869,
          -122.44305,
          -122.42611,
          -122.43779,
          -122.41098,
          -122.4021,
          -122.4021,
          -122.45509,
          -122.44305,
          -122.46402,
          -122.43596,
          -122.43596,
          -122.37178,
          -122.48707,
          -122.41947,
          -122.48999,
          -122.483566,
          -122.48997,
          -122.456,
          -122.45457,
          -122.45496,
          -122.43579,
          -122.46689,
          -122.46595,
          -122.44703,
          -122.457,
          -122.40065,
          -122.42522,
          -122.44305,
          -122.43579,
          -122.44703,
          -122.40433,
          -122.40433,
          -122.46595,
          -122.43869,
          -122.446,
          -122.48999,
          -122.43579,
          -122.47851,
          -122.48999,
          -122.45765,
          -122.40106,
          -122.38324,
          -122.456,
          -122.43579,
          -122.40106,
          -122.40065,
          -122.4021,
          -122.457,
          -122.40433,
          -122.447029,
          -122.4021,
          -122.42022,
          -122.41098,
          -122.46388,
          -122.43579,
          -122.456854,
          -122.457,
          -122.39636
         ],
         "marker": {
          "color": [
           2817.285714285714,
           3031.8333333333335,
           2318.4,
           3739,
           2698.8333333333335,
           2817.285714285714,
           2817.285714285714,
           2250.5,
           2472,
           2817.285714285714,
           2698.8333333333335,
           2016,
           2780.25,
           2817.285714285714,
           3031.8333333333335,
           2817.285714285714,
           2472,
           1781.5,
           2899.5,
           2601.4,
           2817.285714285714,
           2817.285714285714,
           2489,
           2960,
           2817.285714285714,
           3224,
           2817.285714285714,
           2817.285714285714,
           2817.285714285714,
           2555.1666666666665,
           2555.1666666666665,
           2817.285714285714,
           2817.285714285714,
           3414,
           2647.5,
           2155.25,
           2663.6666666666665,
           2555.1666666666665,
           3173.4,
           2817.285714285714,
           2817.285714285714,
           2990.8,
           2818.4,
           2434,
           2995.75,
           2817.285714285714,
           2817.285714285714,
           2817.285714285714,
           2817.285714285714,
           2555.1666666666665,
           2817.285714285714,
           2318.4,
           2817.285714285714,
           2817.285714285714,
           2817.285714285714,
           3528,
           2099,
           2817.285714285714,
           2899.5,
           2817.285714285714,
           2817.285714285714,
           2555.1666666666665,
           2817.285714285714,
           3657,
           2515.5,
           2555.1666666666665,
           2250.5,
           3959,
           2555.1666666666665
          ],
          "coloraxis": "coloraxis",
          "size": [
           366.02071153227644,
           373.382197826477,
           204.58862288246596,
           590.7928388746803,
           452.6805909308441,
           394.42239878005887,
           423.68792770158234,
           487.2448860262576,
           587.5390673661739,
           665.9640415783227,
           303.0041844084943,
           434.9917394452212,
           502.59915555623616,
           642.2486706357391,
           388.7659270023075,
           391.36253308010487,
           455.83621223779153,
           321.84083657398736,
           623.8261775374349,
           639.3935574881156,
           449.5447622856192,
           355.93282794805776,
           170.62491987132685,
           384.7979281346047,
           397.67371473613446,
           519.3856038526768,
           378.5943139613646,
           413.66751546215943,
           529.3841850673389,
           409.95435219297514,
           478.2285530213679,
           539.237968878326,
           583.7492694814548,
           788.8448175872469,
           550.5103482917151,
           779.810842264425,
           566.1922135483312,
           418.9156225067234,
           523.4662013248023,
           458.2040944846015,
           542.4429128151736,
           411.646875881678,
           498.2697550078768,
           330.0973846552545,
           242.37095202049665,
           485.0270126111035,
           394.21903228550775,
           689.5558168113664,
           373.73285637176303,
           336.172661037069,
           632.740453508577,
           327.1139253464728,
           662.0136128276529,
           675.3502120510033,
           608.9832172374425,
           170.2925485152069,
           650.1244791945729,
           570.2714266991686,
           528.3183317138463,
           676.5065775293257,
           469.39862649935156,
           903.9932576720645,
           404.1501801622257,
           301.46617997450267,
           498.4884848295011,
           307.5622009799607,
           533.7039354359513,
           687.0875745178322,
           576.709848378276
          ],
          "sizemode": "area",
          "sizeref": 2.259983144180161
         },
         "mode": "markers",
         "name": "",
         "showlegend": false,
         "subplot": "mapbox",
         "type": "scattermapbox"
        }
       ],
       "layout": {
        "autosize": true,
        "coloraxis": {
         "colorbar": {
          "title": {
           "text": "gross_rent"
          }
         },
         "colorscale": [
          [
           0,
           "#0d0887"
          ],
          [
           0.1111111111111111,
           "#46039f"
          ],
          [
           0.2222222222222222,
           "#7201a8"
          ],
          [
           0.3333333333333333,
           "#9c179e"
          ],
          [
           0.4444444444444444,
           "#bd3786"
          ],
          [
           0.5555555555555556,
           "#d8576b"
          ],
          [
           0.6666666666666666,
           "#ed7953"
          ],
          [
           0.7777777777777778,
           "#fb9f3a"
          ],
          [
           0.8888888888888888,
           "#fdca26"
          ],
          [
           1,
           "#f0f921"
          ]
         ]
        },
        "legend": {
         "itemsizing": "constant",
         "tracegroupgap": 0
        },
        "mapbox": {
         "accesstoken": "pk.eyJ1IjoiamF5eGNhbyIsImEiOiJja3RqeWk1NWQxZ2xhMnBxamhpZjg5Mnk1In0.zhUeu2g-6iePohGclKbJDg",
         "center": {
          "lat": 37.76064079710145,
          "lon": -122.43826449275363
         },
         "domain": {
          "x": [
           0,
           1
          ],
          "y": [
           0,
           1
          ]
         },
         "zoom": 10
        },
        "template": {
         "data": {
          "bar": [
           {
            "error_x": {
             "color": "#2a3f5f"
            },
            "error_y": {
             "color": "#2a3f5f"
            },
            "marker": {
             "line": {
              "color": "#E5ECF6",
              "width": 0.5
             },
             "pattern": {
              "fillmode": "overlay",
              "size": 10,
              "solidity": 0.2
             }
            },
            "type": "bar"
           }
          ],
          "barpolar": [
           {
            "marker": {
             "line": {
              "color": "#E5ECF6",
              "width": 0.5
             },
             "pattern": {
              "fillmode": "overlay",
              "size": 10,
              "solidity": 0.2
             }
            },
            "type": "barpolar"
           }
          ],
          "carpet": [
           {
            "aaxis": {
             "endlinecolor": "#2a3f5f",
             "gridcolor": "white",
             "linecolor": "white",
             "minorgridcolor": "white",
             "startlinecolor": "#2a3f5f"
            },
            "baxis": {
             "endlinecolor": "#2a3f5f",
             "gridcolor": "white",
             "linecolor": "white",
             "minorgridcolor": "white",
             "startlinecolor": "#2a3f5f"
            },
            "type": "carpet"
           }
          ],
          "choropleth": [
           {
            "colorbar": {
             "outlinewidth": 0,
             "ticks": ""
            },
            "type": "choropleth"
           }
          ],
          "contour": [
           {
            "colorbar": {
             "outlinewidth": 0,
             "ticks": ""
            },
            "colorscale": [
             [
              0,
              "#0d0887"
             ],
             [
              0.1111111111111111,
              "#46039f"
             ],
             [
              0.2222222222222222,
              "#7201a8"
             ],
             [
              0.3333333333333333,
              "#9c179e"
             ],
             [
              0.4444444444444444,
              "#bd3786"
             ],
             [
              0.5555555555555556,
              "#d8576b"
             ],
             [
              0.6666666666666666,
              "#ed7953"
             ],
             [
              0.7777777777777778,
              "#fb9f3a"
             ],
             [
              0.8888888888888888,
              "#fdca26"
             ],
             [
              1,
              "#f0f921"
             ]
            ],
            "type": "contour"
           }
          ],
          "contourcarpet": [
           {
            "colorbar": {
             "outlinewidth": 0,
             "ticks": ""
            },
            "type": "contourcarpet"
           }
          ],
          "heatmap": [
           {
            "colorbar": {
             "outlinewidth": 0,
             "ticks": ""
            },
            "colorscale": [
             [
              0,
              "#0d0887"
             ],
             [
              0.1111111111111111,
              "#46039f"
             ],
             [
              0.2222222222222222,
              "#7201a8"
             ],
             [
              0.3333333333333333,
              "#9c179e"
             ],
             [
              0.4444444444444444,
              "#bd3786"
             ],
             [
              0.5555555555555556,
              "#d8576b"
             ],
             [
              0.6666666666666666,
              "#ed7953"
             ],
             [
              0.7777777777777778,
              "#fb9f3a"
             ],
             [
              0.8888888888888888,
              "#fdca26"
             ],
             [
              1,
              "#f0f921"
             ]
            ],
            "type": "heatmap"
           }
          ],
          "heatmapgl": [
           {
            "colorbar": {
             "outlinewidth": 0,
             "ticks": ""
            },
            "colorscale": [
             [
              0,
              "#0d0887"
             ],
             [
              0.1111111111111111,
              "#46039f"
             ],
             [
              0.2222222222222222,
              "#7201a8"
             ],
             [
              0.3333333333333333,
              "#9c179e"
             ],
             [
              0.4444444444444444,
              "#bd3786"
             ],
             [
              0.5555555555555556,
              "#d8576b"
             ],
             [
              0.6666666666666666,
              "#ed7953"
             ],
             [
              0.7777777777777778,
              "#fb9f3a"
             ],
             [
              0.8888888888888888,
              "#fdca26"
             ],
             [
              1,
              "#f0f921"
             ]
            ],
            "type": "heatmapgl"
           }
          ],
          "histogram": [
           {
            "marker": {
             "pattern": {
              "fillmode": "overlay",
              "size": 10,
              "solidity": 0.2
             }
            },
            "type": "histogram"
           }
          ],
          "histogram2d": [
           {
            "colorbar": {
             "outlinewidth": 0,
             "ticks": ""
            },
            "colorscale": [
             [
              0,
              "#0d0887"
             ],
             [
              0.1111111111111111,
              "#46039f"
             ],
             [
              0.2222222222222222,
              "#7201a8"
             ],
             [
              0.3333333333333333,
              "#9c179e"
             ],
             [
              0.4444444444444444,
              "#bd3786"
             ],
             [
              0.5555555555555556,
              "#d8576b"
             ],
             [
              0.6666666666666666,
              "#ed7953"
             ],
             [
              0.7777777777777778,
              "#fb9f3a"
             ],
             [
              0.8888888888888888,
              "#fdca26"
             ],
             [
              1,
              "#f0f921"
             ]
            ],
            "type": "histogram2d"
           }
          ],
          "histogram2dcontour": [
           {
            "colorbar": {
             "outlinewidth": 0,
             "ticks": ""
            },
            "colorscale": [
             [
              0,
              "#0d0887"
             ],
             [
              0.1111111111111111,
              "#46039f"
             ],
             [
              0.2222222222222222,
              "#7201a8"
             ],
             [
              0.3333333333333333,
              "#9c179e"
             ],
             [
              0.4444444444444444,
              "#bd3786"
             ],
             [
              0.5555555555555556,
              "#d8576b"
             ],
             [
              0.6666666666666666,
              "#ed7953"
             ],
             [
              0.7777777777777778,
              "#fb9f3a"
             ],
             [
              0.8888888888888888,
              "#fdca26"
             ],
             [
              1,
              "#f0f921"
             ]
            ],
            "type": "histogram2dcontour"
           }
          ],
          "mesh3d": [
           {
            "colorbar": {
             "outlinewidth": 0,
             "ticks": ""
            },
            "type": "mesh3d"
           }
          ],
          "parcoords": [
           {
            "line": {
             "colorbar": {
              "outlinewidth": 0,
              "ticks": ""
             }
            },
            "type": "parcoords"
           }
          ],
          "pie": [
           {
            "automargin": true,
            "type": "pie"
           }
          ],
          "scatter": [
           {
            "marker": {
             "colorbar": {
              "outlinewidth": 0,
              "ticks": ""
             }
            },
            "type": "scatter"
           }
          ],
          "scatter3d": [
           {
            "line": {
             "colorbar": {
              "outlinewidth": 0,
              "ticks": ""
             }
            },
            "marker": {
             "colorbar": {
              "outlinewidth": 0,
              "ticks": ""
             }
            },
            "type": "scatter3d"
           }
          ],
          "scattercarpet": [
           {
            "marker": {
             "colorbar": {
              "outlinewidth": 0,
              "ticks": ""
             }
            },
            "type": "scattercarpet"
           }
          ],
          "scattergeo": [
           {
            "marker": {
             "colorbar": {
              "outlinewidth": 0,
              "ticks": ""
             }
            },
            "type": "scattergeo"
           }
          ],
          "scattergl": [
           {
            "marker": {
             "colorbar": {
              "outlinewidth": 0,
              "ticks": ""
             }
            },
            "type": "scattergl"
           }
          ],
          "scattermapbox": [
           {
            "marker": {
             "colorbar": {
              "outlinewidth": 0,
              "ticks": ""
             }
            },
            "type": "scattermapbox"
           }
          ],
          "scatterpolar": [
           {
            "marker": {
             "colorbar": {
              "outlinewidth": 0,
              "ticks": ""
             }
            },
            "type": "scatterpolar"
           }
          ],
          "scatterpolargl": [
           {
            "marker": {
             "colorbar": {
              "outlinewidth": 0,
              "ticks": ""
             }
            },
            "type": "scatterpolargl"
           }
          ],
          "scatterternary": [
           {
            "marker": {
             "colorbar": {
              "outlinewidth": 0,
              "ticks": ""
             }
            },
            "type": "scatterternary"
           }
          ],
          "surface": [
           {
            "colorbar": {
             "outlinewidth": 0,
             "ticks": ""
            },
            "colorscale": [
             [
              0,
              "#0d0887"
             ],
             [
              0.1111111111111111,
              "#46039f"
             ],
             [
              0.2222222222222222,
              "#7201a8"
             ],
             [
              0.3333333333333333,
              "#9c179e"
             ],
             [
              0.4444444444444444,
              "#bd3786"
             ],
             [
              0.5555555555555556,
              "#d8576b"
             ],
             [
              0.6666666666666666,
              "#ed7953"
             ],
             [
              0.7777777777777778,
              "#fb9f3a"
             ],
             [
              0.8888888888888888,
              "#fdca26"
             ],
             [
              1,
              "#f0f921"
             ]
            ],
            "type": "surface"
           }
          ],
          "table": [
           {
            "cells": {
             "fill": {
              "color": "#EBF0F8"
             },
             "line": {
              "color": "white"
             }
            },
            "header": {
             "fill": {
              "color": "#C8D4E3"
             },
             "line": {
              "color": "white"
             }
            },
            "type": "table"
           }
          ]
         },
         "layout": {
          "annotationdefaults": {
           "arrowcolor": "#2a3f5f",
           "arrowhead": 0,
           "arrowwidth": 1
          },
          "autotypenumbers": "strict",
          "coloraxis": {
           "colorbar": {
            "outlinewidth": 0,
            "ticks": ""
           }
          },
          "colorscale": {
           "diverging": [
            [
             0,
             "#8e0152"
            ],
            [
             0.1,
             "#c51b7d"
            ],
            [
             0.2,
             "#de77ae"
            ],
            [
             0.3,
             "#f1b6da"
            ],
            [
             0.4,
             "#fde0ef"
            ],
            [
             0.5,
             "#f7f7f7"
            ],
            [
             0.6,
             "#e6f5d0"
            ],
            [
             0.7,
             "#b8e186"
            ],
            [
             0.8,
             "#7fbc41"
            ],
            [
             0.9,
             "#4d9221"
            ],
            [
             1,
             "#276419"
            ]
           ],
           "sequential": [
            [
             0,
             "#0d0887"
            ],
            [
             0.1111111111111111,
             "#46039f"
            ],
            [
             0.2222222222222222,
             "#7201a8"
            ],
            [
             0.3333333333333333,
             "#9c179e"
            ],
            [
             0.4444444444444444,
             "#bd3786"
            ],
            [
             0.5555555555555556,
             "#d8576b"
            ],
            [
             0.6666666666666666,
             "#ed7953"
            ],
            [
             0.7777777777777778,
             "#fb9f3a"
            ],
            [
             0.8888888888888888,
             "#fdca26"
            ],
            [
             1,
             "#f0f921"
            ]
           ],
           "sequentialminus": [
            [
             0,
             "#0d0887"
            ],
            [
             0.1111111111111111,
             "#46039f"
            ],
            [
             0.2222222222222222,
             "#7201a8"
            ],
            [
             0.3333333333333333,
             "#9c179e"
            ],
            [
             0.4444444444444444,
             "#bd3786"
            ],
            [
             0.5555555555555556,
             "#d8576b"
            ],
            [
             0.6666666666666666,
             "#ed7953"
            ],
            [
             0.7777777777777778,
             "#fb9f3a"
            ],
            [
             0.8888888888888888,
             "#fdca26"
            ],
            [
             1,
             "#f0f921"
            ]
           ]
          },
          "colorway": [
           "#636efa",
           "#EF553B",
           "#00cc96",
           "#ab63fa",
           "#FFA15A",
           "#19d3f3",
           "#FF6692",
           "#B6E880",
           "#FF97FF",
           "#FECB52"
          ],
          "font": {
           "color": "#2a3f5f"
          },
          "geo": {
           "bgcolor": "white",
           "lakecolor": "white",
           "landcolor": "#E5ECF6",
           "showlakes": true,
           "showland": true,
           "subunitcolor": "white"
          },
          "hoverlabel": {
           "align": "left"
          },
          "hovermode": "closest",
          "mapbox": {
           "style": "light"
          },
          "paper_bgcolor": "white",
          "plot_bgcolor": "#E5ECF6",
          "polar": {
           "angularaxis": {
            "gridcolor": "white",
            "linecolor": "white",
            "ticks": ""
           },
           "bgcolor": "#E5ECF6",
           "radialaxis": {
            "gridcolor": "white",
            "linecolor": "white",
            "ticks": ""
           }
          },
          "scene": {
           "xaxis": {
            "backgroundcolor": "#E5ECF6",
            "gridcolor": "white",
            "gridwidth": 2,
            "linecolor": "white",
            "showbackground": true,
            "ticks": "",
            "zerolinecolor": "white"
           },
           "yaxis": {
            "backgroundcolor": "#E5ECF6",
            "gridcolor": "white",
            "gridwidth": 2,
            "linecolor": "white",
            "showbackground": true,
            "ticks": "",
            "zerolinecolor": "white"
           },
           "zaxis": {
            "backgroundcolor": "#E5ECF6",
            "gridcolor": "white",
            "gridwidth": 2,
            "linecolor": "white",
            "showbackground": true,
            "ticks": "",
            "zerolinecolor": "white"
           }
          },
          "shapedefaults": {
           "line": {
            "color": "#2a3f5f"
           }
          },
          "ternary": {
           "aaxis": {
            "gridcolor": "white",
            "linecolor": "white",
            "ticks": ""
           },
           "baxis": {
            "gridcolor": "white",
            "linecolor": "white",
            "ticks": ""
           },
           "bgcolor": "#E5ECF6",
           "caxis": {
            "gridcolor": "white",
            "linecolor": "white",
            "ticks": ""
           }
          },
          "title": {
           "x": 0.05
          },
          "xaxis": {
           "automargin": true,
           "gridcolor": "white",
           "linecolor": "white",
           "ticks": "",
           "title": {
            "standoff": 15
           },
           "zerolinecolor": "white",
           "zerolinewidth": 2
          },
          "yaxis": {
           "automargin": true,
           "gridcolor": "white",
           "linecolor": "white",
           "ticks": "",
           "title": {
            "standoff": 15
           },
           "zerolinecolor": "white",
           "zerolinewidth": 2
          }
         }
        },
        "title": {
         "text": "Average Sale Price Per Square Foot and Gross Rent in San Francisco"
        }
       }
      },
      "image/png": "[encoded data removed]",
      "text/html": [
       "<div>                            <div id=\"321e58ec-3f9c-45ff-bc68-30ef2b46649e\" class=\"plotly-graph-div\" style=\"height:525px; width:100%;\"></div>            <script type=\"text/javascript\">                require([\"plotly\"], function(Plotly) {                    window.PLOTLYENV=window.PLOTLYENV || {};                                    if (document.getElementById(\"321e58ec-3f9c-45ff-bc68-30ef2b46649e\")) {                    Plotly.newPlot(                        \"321e58ec-3f9c-45ff-bc68-30ef2b46649e\",                        [{\"hovertemplate\":\"sale_price_sqr_foot=%{marker.size}<br>Lat=%{lat}<br>Lon=%{lon}<br>gross_rent=%{marker.color}<extra></extra>\",\"lat\":[37.791012,37.779598,37.73467,37.72874,37.76816,37.77789,37.74961,37.75331,37.78553,37.79298,37.7228,37.72863,37.76964,37.75554,37.72874,37.79101,37.79101,37.75706,37.72863,37.757912,37.76525,37.76525,37.72551,37.72116,37.75416,37.74961,37.769112,37.74961,37.78553,37.80152,37.7789,37.79298,37.79972,37.71993,37.75331,37.73415,37.78323,37.75184,37.72863,37.79298,37.75331,37.80055,37.80055,37.71993,37.7228,37.7517,37.74961,37.79298,37.72838,37.74961,37.76355,37.73467,37.73196,37.78553,37.79298,37.73467,37.78323,37.79101,37.73415,37.80055,37.753311,37.79101,37.77951,37.72874,37.74026,37.79298,37.7347,37.73415,37.79298],\"legendgroup\":\"\",\"lon\":[-122.4021,-122.443451,-122.40106,-122.41098,-122.43933,-122.44517,-122.48999,-122.44703,-122.456,-122.43579,-122.43869,-122.44305,-122.42611,-122.43779,-122.41098,-122.4021,-122.4021,-122.45509,-122.44305,-122.46402,-122.43596,-122.43596,-122.37178,-122.48707,-122.41947,-122.48999,-122.483566,-122.48997,-122.456,-122.45457,-122.45496,-122.43579,-122.46689,-122.46595,-122.44703,-122.457,-122.40065,-122.42522,-122.44305,-122.43579,-122.44703,-122.40433,-122.40433,-122.46595,-122.43869,-122.446,-122.48999,-122.43579,-122.47851,-122.48999,-122.45765,-122.40106,-122.38324,-122.456,-122.43579,-122.40106,-122.40065,-122.4021,-122.457,-122.40433,-122.447029,-122.4021,-122.42022,-122.41098,-122.46388,-122.43579,-122.456854,-122.457,-122.39636],\"marker\":{\"color\":[2817.285714285714,3031.8333333333335,2318.4,3739.0,2698.8333333333335,2817.285714285714,2817.285714285714,2250.5,2472.0,2817.285714285714,2698.8333333333335,2016.0,2780.25,2817.285714285714,3031.8333333333335,2817.285714285714,2472.0,1781.5,2899.5,2601.4,2817.285714285714,2817.285714285714,2489.0,2960.0,2817.285714285714,3224.0,2817.285714285714,2817.285714285714,2817.285714285714,2555.1666666666665,2555.1666666666665,2817.285714285714,2817.285714285714,3414.0,2647.5,2155.25,2663.6666666666665,2555.1666666666665,3173.4,2817.285714285714,2817.285714285714,2990.8,2818.4,2434.0,2995.75,2817.285714285714,2817.285714285714,2817.285714285714,2817.285714285714,2555.1666666666665,2817.285714285714,2318.4,2817.285714285714,2817.285714285714,2817.285714285714,3528.0,2099.0,2817.285714285714,2899.5,2817.285714285714,2817.285714285714,2555.1666666666665,2817.285714285714,3657.0,2515.5,2555.1666666666665,2250.5,3959.0,2555.1666666666665],\"coloraxis\":\"coloraxis\",\"size\":[366.02071153227644,373.382197826477,204.58862288246596,590.7928388746803,452.6805909308441,394.42239878005887,423.68792770158234,487.2448860262576,587.5390673661739,665.9640415783227,303.0041844084943,434.9917394452212,502.59915555623616,642.2486706357391,388.7659270023075,391.36253308010487,455.83621223779153,321.84083657398736,623.8261775374349,639.3935574881156,449.5447622856192,355.93282794805776,170.62491987132685,384.7979281346047,397.67371473613446,519.3856038526768,378.5943139613646,413.66751546215943,529.3841850673389,409.95435219297514,478.2285530213679,539.237968878326,583.7492694814548,788.8448175872469,550.5103482917151,779.810842264425,566.1922135483312,418.9156225067234,523.4662013248023,458.2040944846015,542.4429128151736,411.646875881678,498.2697550078768,330.0973846552545,242.37095202049665,485.0270126111035,394.21903228550775,689.5558168113664,373.73285637176303,336.172661037069,632.740453508577,327.1139253464728,662.0136128276529,675.3502120510033,608.9832172374425,170.2925485152069,650.1244791945729,570.2714266991686,528.3183317138463,676.5065775293257,469.39862649935156,903.9932576720645,404.1501801622257,301.46617997450267,498.4884848295011,307.5622009799607,533.7039354359513,687.0875745178322,576.709848378276],\"sizemode\":\"area\",\"sizeref\":2.259983144180161},\"mode\":\"markers\",\"name\":\"\",\"showlegend\":false,\"subplot\":\"mapbox\",\"type\":\"scattermapbox\"}],                        {\"coloraxis\":{\"colorbar\":{\"title\":{\"text\":\"gross_rent\"}},\"colorscale\":[[0.0,\"#0d0887\"],[0.1111111111111111,\"#46039f\"],[0.2222222222222222,\"#7201a8\"],[0.3333333333333333,\"#9c179e\"],[0.4444444444444444,\"#bd3786\"],[0.5555555555555556,\"#d8576b\"],[0.6666666666666666,\"#ed7953\"],[0.7777777777777778,\"#fb9f3a\"],[0.8888888888888888,\"#fdca26\"],[1.0,\"#f0f921\"]]},\"legend\":{\"itemsizing\":\"constant\",\"tracegroupgap\":0},\"mapbox\":{\"accesstoken\":\"pk.eyJ1IjoiamF5eGNhbyIsImEiOiJja3RqeWk1NWQxZ2xhMnBxamhpZjg5Mnk1In0.zhUeu2g-6iePohGclKbJDg\",\"center\":{\"lat\":37.76064079710145,\"lon\":-122.43826449275363},\"domain\":{\"x\":[0.0,1.0],\"y\":[0.0,1.0]},\"zoom\":10},\"template\":{\"data\":{\"bar\":[{\"error_x\":{\"color\":\"#2a3f5f\"},\"error_y\":{\"color\":\"#2a3f5f\"},\"marker\":{\"line\":{\"color\":\"#E5ECF6\",\"width\":0.5},\"pattern\":{\"fillmode\":\"overlay\",\"size\":10,\"solidity\":0.2}},\"type\":\"bar\"}],\"barpolar\":[{\"marker\":{\"line\":{\"color\":\"#E5ECF6\",\"width\":0.5},\"pattern\":{\"fillmode\":\"overlay\",\"size\":10,\"solidity\":0.2}},\"type\":\"barpolar\"}],\"carpet\":[{\"aaxis\":{\"endlinecolor\":\"#2a3f5f\",\"gridcolor\":\"white\",\"linecolor\":\"white\",\"minorgridcolor\":\"white\",\"startlinecolor\":\"#2a3f5f\"},\"baxis\":{\"endlinecolor\":\"#2a3f5f\",\"gridcolor\":\"white\",\"linecolor\":\"white\",\"minorgridcolor\":\"white\",\"startlinecolor\":\"#2a3f5f\"},\"type\":\"carpet\"}],\"choropleth\":[{\"colorbar\":{\"outlinewidth\":0,\"ticks\":\"\"},\"type\":\"choropleth\"}],\"contour\":[{\"colorbar\":{\"outlinewidth\":0,\"ticks\":\"\"},\"colorscale\":[[0.0,\"#0d0887\"],[0.1111111111111111,\"#46039f\"],[0.2222222222222222,\"#7201a8\"],[0.3333333333333333,\"#9c179e\"],[0.4444444444444444,\"#bd3786\"],[0.5555555555555556,\"#d8576b\"],[0.6666666666666666,\"#ed7953\"],[0.7777777777777778,\"#fb9f3a\"],[0.8888888888888888,\"#fdca26\"],[1.0,\"#f0f921\"]],\"type\":\"contour\"}],\"contourcarpet\":[{\"colorbar\":{\"outlinewidth\":0,\"ticks\":\"\"},\"type\":\"contourcarpet\"}],\"heatmap\":[{\"colorbar\":{\"outlinewidth\":0,\"ticks\":\"\"},\"colorscale\":[[0.0,\"#0d0887\"],[0.1111111111111111,\"#46039f\"],[0.2222222222222222,\"#7201a8\"],[0.3333333333333333,\"#9c179e\"],[0.4444444444444444,\"#bd3786\"],[0.5555555555555556,\"#d8576b\"],[0.6666666666666666,\"#ed7953\"],[0.7777777777777778,\"#fb9f3a\"],[0.8888888888888888,\"#fdca26\"],[1.0,\"#f0f921\"]],\"type\":\"heatmap\"}],\"heatmapgl\":[{\"colorbar\":{\"outlinewidth\":0,\"ticks\":\"\"},\"colorscale\":[[0.0,\"#0d0887\"],[0.1111111111111111,\"#46039f\"],[0.2222222222222222,\"#7201a8\"],[0.3333333333333333,\"#9c179e\"],[0.4444444444444444,\"#bd3786\"],[0.5555555555555556,\"#d8576b\"],[0.6666666666666666,\"#ed7953\"],[0.7777777777777778,\"#fb9f3a\"],[0.8888888888888888,\"#fdca26\"],[1.0,\"#f0f921\"]],\"type\":\"heatmapgl\"}],\"histogram\":[{\"marker\":{\"pattern\":{\"fillmode\":\"overlay\",\"size\":10,\"solidity\":0.2}},\"type\":\"histogram\"}],\"histogram2d\":[{\"colorbar\":{\"outlinewidth\":0,\"ticks\":\"\"},\"colorscale\":[[0.0,\"#0d0887\"],[0.1111111111111111,\"#46039f\"],[0.2222222222222222,\"#7201a8\"],[0.3333333333333333,\"#9c179e\"],[0.4444444444444444,\"#bd3786\"],[0.5555555555555556,\"#d8576b\"],[0.6666666666666666,\"#ed7953\"],[0.7777777777777778,\"#fb9f3a\"],[0.8888888888888888,\"#fdca26\"],[1.0,\"#f0f921\"]],\"type\":\"histogram2d\"}],\"histogram2dcontour\":[{\"colorbar\":{\"outlinewidth\":0,\"ticks\":\"\"},\"colorscale\":[[0.0,\"#0d0887\"],[0.1111111111111111,\"#46039f\"],[0.2222222222222222,\"#7201a8\"],[0.3333333333333333,\"#9c179e\"],[0.4444444444444444,\"#bd3786\"],[0.5555555555555556,\"#d8576b\"],[0.6666666666666666,\"#ed7953\"],[0.7777777777777778,\"#fb9f3a\"],[0.8888888888888888,\"#fdca26\"],[1.0,\"#f0f921\"]],\"type\":\"histogram2dcontour\"}],\"mesh3d\":[{\"colorbar\":{\"outlinewidth\":0,\"ticks\":\"\"},\"type\":\"mesh3d\"}],\"parcoords\":[{\"line\":{\"colorbar\":{\"outlinewidth\":0,\"ticks\":\"\"}},\"type\":\"parcoords\"}],\"pie\":[{\"automargin\":true,\"type\":\"pie\"}],\"scatter\":[{\"marker\":{\"colorbar\":{\"outlinewidth\":0,\"ticks\":\"\"}},\"type\":\"scatter\"}],\"scatter3d\":[{\"line\":{\"colorbar\":{\"outlinewidth\":0,\"ticks\":\"\"}},\"marker\":{\"colorbar\":{\"outlinewidth\":0,\"ticks\":\"\"}},\"type\":\"scatter3d\"}],\"scattercarpet\":[{\"marker\":{\"colorbar\":{\"outlinewidth\":0,\"ticks\":\"\"}},\"type\":\"scattercarpet\"}],\"scattergeo\":[{\"marker\":{\"colorbar\":{\"outlinewidth\":0,\"ticks\":\"\"}},\"type\":\"scattergeo\"}],\"scattergl\":[{\"marker\":{\"colorbar\":{\"outlinewidth\":0,\"ticks\":\"\"}},\"type\":\"scattergl\"}],\"scattermapbox\":[{\"marker\":{\"colorbar\":{\"outlinewidth\":0,\"ticks\":\"\"}},\"type\":\"scattermapbox\"}],\"scatterpolar\":[{\"marker\":{\"colorbar\":{\"outlinewidth\":0,\"ticks\":\"\"}},\"type\":\"scatterpolar\"}],\"scatterpolargl\":[{\"marker\":{\"colorbar\":{\"outlinewidth\":0,\"ticks\":\"\"}},\"type\":\"scatterpolargl\"}],\"scatterternary\":[{\"marker\":{\"colorbar\":{\"outlinewidth\":0,\"ticks\":\"\"}},\"type\":\"scatterternary\"}],\"surface\":[{\"colorbar\":{\"outlinewidth\":0,\"ticks\":\"\"},\"colorscale\":[[0.0,\"#0d0887\"],[0.1111111111111111,\"#46039f\"],[0.2222222222222222,\"#7201a8\"],[0.3333333333333333,\"#9c179e\"],[0.4444444444444444,\"#bd3786\"],[0.5555555555555556,\"#d8576b\"],[0.6666666666666666,\"#ed7953\"],[0.7777777777777778,\"#fb9f3a\"],[0.8888888888888888,\"#fdca26\"],[1.0,\"#f0f921\"]],\"type\":\"surface\"}],\"table\":[{\"cells\":{\"fill\":{\"color\":\"#EBF0F8\"},\"line\":{\"color\":\"white\"}},\"header\":{\"fill\":{\"color\":\"#C8D4E3\"},\"line\":{\"color\":\"white\"}},\"type\":\"table\"}]},\"layout\":{\"annotationdefaults\":{\"arrowcolor\":\"#2a3f5f\",\"arrowhead\":0,\"arrowwidth\":1},\"autotypenumbers\":\"strict\",\"coloraxis\":{\"colorbar\":{\"outlinewidth\":0,\"ticks\":\"\"}},\"colorscale\":{\"diverging\":[[0,\"#8e0152\"],[0.1,\"#c51b7d\"],[0.2,\"#de77ae\"],[0.3,\"#f1b6da\"],[0.4,\"#fde0ef\"],[0.5,\"#f7f7f7\"],[0.6,\"#e6f5d0\"],[0.7,\"#b8e186\"],[0.8,\"#7fbc41\"],[0.9,\"#4d9221\"],[1,\"#276419\"]],\"sequential\":[[0.0,\"#0d0887\"],[0.1111111111111111,\"#46039f\"],[0.2222222222222222,\"#7201a8\"],[0.3333333333333333,\"#9c179e\"],[0.4444444444444444,\"#bd3786\"],[0.5555555555555556,\"#d8576b\"],[0.6666666666666666,\"#ed7953\"],[0.7777777777777778,\"#fb9f3a\"],[0.8888888888888888,\"#fdca26\"],[1.0,\"#f0f921\"]],\"sequentialminus\":[[0.0,\"#0d0887\"],[0.1111111111111111,\"#46039f\"],[0.2222222222222222,\"#7201a8\"],[0.3333333333333333,\"#9c179e\"],[0.4444444444444444,\"#bd3786\"],[0.5555555555555556,\"#d8576b\"],[0.6666666666666666,\"#ed7953\"],[0.7777777777777778,\"#fb9f3a\"],[0.8888888888888888,\"#fdca26\"],[1.0,\"#f0f921\"]]},\"colorway\":[\"#636efa\",\"#EF553B\",\"#00cc96\",\"#ab63fa\",\"#FFA15A\",\"#19d3f3\",\"#FF6692\",\"#B6E880\",\"#FF97FF\",\"#FECB52\"],\"font\":{\"color\":\"#2a3f5f\"},\"geo\":{\"bgcolor\":\"white\",\"lakecolor\":\"white\",\"landcolor\":\"#E5ECF6\",\"showlakes\":true,\"showland\":true,\"subunitcolor\":\"white\"},\"hoverlabel\":{\"align\":\"left\"},\"hovermode\":\"closest\",\"mapbox\":{\"style\":\"light\"},\"paper_bgcolor\":\"white\",\"plot_bgcolor\":\"#E5ECF6\",\"polar\":{\"angularaxis\":{\"gridcolor\":\"white\",\"linecolor\":\"white\",\"ticks\":\"\"},\"bgcolor\":\"#E5ECF6\",\"radialaxis\":{\"gridcolor\":\"white\",\"linecolor\":\"white\",\"ticks\":\"\"}},\"scene\":{\"xaxis\":{\"backgroundcolor\":\"#E5ECF6\",\"gridcolor\":\"white\",\"gridwidth\":2,\"linecolor\":\"white\",\"showbackground\":true,\"ticks\":\"\",\"zerolinecolor\":\"white\"},\"yaxis\":{\"backgroundcolor\":\"#E5ECF6\",\"gridcolor\":\"white\",\"gridwidth\":2,\"linecolor\":\"white\",\"showbackground\":true,\"ticks\":\"\",\"zerolinecolor\":\"white\"},\"zaxis\":{\"backgroundcolor\":\"#E5ECF6\",\"gridcolor\":\"white\",\"gridwidth\":2,\"linecolor\":\"white\",\"showbackground\":true,\"ticks\":\"\",\"zerolinecolor\":\"white\"}},\"shapedefaults\":{\"line\":{\"color\":\"#2a3f5f\"}},\"ternary\":{\"aaxis\":{\"gridcolor\":\"white\",\"linecolor\":\"white\",\"ticks\":\"\"},\"baxis\":{\"gridcolor\":\"white\",\"linecolor\":\"white\",\"ticks\":\"\"},\"bgcolor\":\"#E5ECF6\",\"caxis\":{\"gridcolor\":\"white\",\"linecolor\":\"white\",\"ticks\":\"\"}},\"title\":{\"x\":0.05},\"xaxis\":{\"automargin\":true,\"gridcolor\":\"white\",\"linecolor\":\"white\",\"ticks\":\"\",\"title\":{\"standoff\":15},\"zerolinecolor\":\"white\",\"zerolinewidth\":2},\"yaxis\":{\"automargin\":true,\"gridcolor\":\"white\",\"linecolor\":\"white\",\"ticks\":\"\",\"title\":{\"standoff\":15},\"zerolinecolor\":\"white\",\"zerolinewidth\":2}}},\"title\":{\"text\":\"Average Sale Price Per Square Foot and Gross Rent in San Francisco\"}},                        {\"responsive\": true}                    ).then(function(){\n",
       "                            \n",
       "var gd = document.getElementById('321e58ec-3f9c-45ff-bc68-30ef2b46649e');\n",
       "var x = new MutationObserver(function (mutations, observer) {{\n",
       "        var display = window.getComputedStyle(gd).display;\n",
       "        if (!display || display === 'none') {{\n",
       "            console.log([gd, 'removed!']);\n",
       "            Plotly.purge(gd);\n",
       "            observer.disconnect();\n",
       "        }}\n",
       "}});\n",
       "\n",
       "// Listen for the removal of the full notebook cells\n",
       "var notebookContainer = gd.closest('#notebook-container');\n",
       "if (notebookContainer) {{\n",
       "    x.observe(notebookContainer, {childList: true});\n",
       "}}\n",
       "\n",
       "// Listen for the clearing of the current output cell\n",
       "var outputEl = gd.closest('.output');\n",
       "if (outputEl) {{\n",
       "    x.observe(outputEl, {childList: true});\n",
       "}}\n",
       "\n",
       "                        })                };                });            </script>        </div>"
      ]
     },
     "metadata": {},
     "output_type": "display_data"
    }
   ],
   "source": [
    "# Set the mapbox access token\n",
    "map_box_api = os.getenv(\"MAPBOX_API_KEY\")\n",
    "px.set_mapbox_access_token(map_box_api)\n",
    "\n",
    "# Create a scatter mapbox to analyze neighborhood info\n",
    "px.scatter_mapbox(\n",
    "    nbrhd_mean_coord,\n",
    "    lat = \"Lat\",\n",
    "    lon = \"Lon\",\n",
    "    color = \"gross_rent\",\n",
    "    size = 'sale_price_sqr_foot',\n",
    "    zoom = 10,\n",
    "    title = \"Average Sale Price Per Square Foot and Gross Rent in San Francisco\"\n",
    ")"
   ]
  },
  {
   "cell_type": "markdown",
   "metadata": {},
   "source": [
    "- - -"
   ]
  },
  {
   "cell_type": "markdown",
   "metadata": {},
   "source": [
    "## Cost Analysis - Optional Challenge\n",
    "\n",
    "In this section, you will use Plotly express to create visualizations that investors can use to interactively filter and explore various factors related to the house value of the San Francisco's neighborhoods. \n",
    "\n",
    "### Create a DataFrame showing the most expensive neighborhoods in San Francisco by year"
   ]
  },
  {
   "cell_type": "code",
   "execution_count": 235,
   "metadata": {},
   "outputs": [
    {
     "data": {
      "text/html": [
       "<div>\n",
       "<style scoped>\n",
       "    .dataframe tbody tr th:only-of-type {\n",
       "        vertical-align: middle;\n",
       "    }\n",
       "\n",
       "    .dataframe tbody tr th {\n",
       "        vertical-align: top;\n",
       "    }\n",
       "\n",
       "    .dataframe thead th {\n",
       "        text-align: right;\n",
       "    }\n",
       "</style>\n",
       "<table border=\"1\" class=\"dataframe\">\n",
       "  <thead>\n",
       "    <tr style=\"text-align: right;\">\n",
       "      <th></th>\n",
       "      <th>year</th>\n",
       "      <th>neighborhood</th>\n",
       "      <th>sale_price_sqr_foot</th>\n",
       "      <th>housing_units</th>\n",
       "      <th>gross_rent</th>\n",
       "    </tr>\n",
       "  </thead>\n",
       "  <tbody>\n",
       "    <tr>\n",
       "      <th>0</th>\n",
       "      <td>2010</td>\n",
       "      <td>Cow Hollow</td>\n",
       "      <td>569.379968</td>\n",
       "      <td>372560</td>\n",
       "      <td>1239</td>\n",
       "    </tr>\n",
       "    <tr>\n",
       "      <th>1</th>\n",
       "      <td>2010</td>\n",
       "      <td>Miraloma Park</td>\n",
       "      <td>680.608729</td>\n",
       "      <td>372560</td>\n",
       "      <td>1239</td>\n",
       "    </tr>\n",
       "    <tr>\n",
       "      <th>2</th>\n",
       "      <td>2010</td>\n",
       "      <td>Pacific Heights</td>\n",
       "      <td>496.516014</td>\n",
       "      <td>372560</td>\n",
       "      <td>1239</td>\n",
       "    </tr>\n",
       "    <tr>\n",
       "      <th>3</th>\n",
       "      <td>2010</td>\n",
       "      <td>Potrero Hill</td>\n",
       "      <td>491.450004</td>\n",
       "      <td>372560</td>\n",
       "      <td>1239</td>\n",
       "    </tr>\n",
       "    <tr>\n",
       "      <th>4</th>\n",
       "      <td>2010</td>\n",
       "      <td>Presidio Heights</td>\n",
       "      <td>549.417931</td>\n",
       "      <td>372560</td>\n",
       "      <td>1239</td>\n",
       "    </tr>\n",
       "  </tbody>\n",
       "</table>\n",
       "</div>"
      ],
      "text/plain": [
       "   year      neighborhood  sale_price_sqr_foot  housing_units  gross_rent\n",
       "0  2010        Cow Hollow           569.379968         372560        1239\n",
       "1  2010     Miraloma Park           680.608729         372560        1239\n",
       "2  2010   Pacific Heights           496.516014         372560        1239\n",
       "3  2010      Potrero Hill           491.450004         372560        1239\n",
       "4  2010  Presidio Heights           549.417931         372560        1239"
      ]
     },
     "execution_count": 235,
     "metadata": {},
     "output_type": "execute_result"
    }
   ],
   "source": [
    "# Fetch the data from all expensive neighborhoods per year.\n",
    "df_expensive_neighborhoods_per_year = most_expensive[most_expensive[\"neighborhood\"].isin(most_expensive_10[\"neighborhood\"])].reset_index().dropna()\n",
    "df_expensive_neighborhoods_per_year.head()\n",
    "\n",
    "df_expensive_neighborhoods = sfo_data[sfo_data[\"neighborhood\"].isin(most_expensive_10[\"neighborhood\"])].reset_index().dropna()\n",
    "df_expensive_neighborhoods.head()"
   ]
  },
  {
   "cell_type": "markdown",
   "metadata": {},
   "source": [
    "### Create a parallel coordinates plot and parallel categories plot of most expensive neighborhoods in San Francisco per year\n"
   ]
  },
  {
   "cell_type": "code",
   "execution_count": 236,
   "metadata": {},
   "outputs": [
    {
     "data": {
      "application/vnd.plotly.v1+json": {
       "config": {
        "plotlyServerURL": "https://plot.ly"
       },
       "data": [
        {
         "dimensions": [
          {
           "label": "neighborhood",
           "values": [
            "Cow Hollow",
            "Merced Heights",
            "Miraloma Park",
            "Pacific Heights",
            "Potrero Hill",
            "Presidio Heights",
            "South Beach",
            "Telegraph Hill",
            "Union Square District",
            "Westwood Park"
           ]
          },
          {
           "label": "sale_price_sqr_foot",
           "values": [
            665.9640415783227,
            788.8448175872469,
            779.810842264425,
            689.5558168113664,
            662.0136128276529,
            675.3502120510033,
            650.1244791945729,
            676.5065775293257,
            903.9932576720645,
            687.0875745178322
           ]
          },
          {
           "label": "housing_units",
           "values": [
            378401,
            380348,
            375967.25,
            378401,
            378401,
            378401,
            375805,
            378401,
            377427.5,
            382295
           ]
          },
          {
           "label": "gross_rent",
           "values": [
            2817.285714285714,
            3414,
            2155.25,
            2817.285714285714,
            2817.285714285714,
            2817.285714285714,
            2099,
            2817.285714285714,
            2555.1666666666665,
            3959
           ]
          }
         ],
         "domain": {
          "x": [
           0,
           1
          ],
          "y": [
           0,
           1
          ]
         },
         "line": {
          "color": [
           665.9640415783227,
           788.8448175872469,
           779.810842264425,
           689.5558168113664,
           662.0136128276529,
           675.3502120510033,
           650.1244791945729,
           676.5065775293257,
           903.9932576720645,
           687.0875745178322
          ],
          "coloraxis": "coloraxis"
         },
         "name": "",
         "type": "parcats"
        }
       ],
       "layout": {
        "autosize": true,
        "coloraxis": {
         "colorbar": {
          "title": {
           "text": "sale_price_sqr_foot"
          }
         },
         "colorscale": [
          [
           0,
           "#0d0887"
          ],
          [
           0.1111111111111111,
           "#46039f"
          ],
          [
           0.2222222222222222,
           "#7201a8"
          ],
          [
           0.3333333333333333,
           "#9c179e"
          ],
          [
           0.4444444444444444,
           "#bd3786"
          ],
          [
           0.5555555555555556,
           "#d8576b"
          ],
          [
           0.6666666666666666,
           "#ed7953"
          ],
          [
           0.7777777777777778,
           "#fb9f3a"
          ],
          [
           0.8888888888888888,
           "#fdca26"
          ],
          [
           1,
           "#f0f921"
          ]
         ]
        },
        "legend": {
         "tracegroupgap": 0
        },
        "margin": {
         "t": 60
        },
        "template": {
         "data": {
          "bar": [
           {
            "error_x": {
             "color": "#2a3f5f"
            },
            "error_y": {
             "color": "#2a3f5f"
            },
            "marker": {
             "line": {
              "color": "#E5ECF6",
              "width": 0.5
             },
             "pattern": {
              "fillmode": "overlay",
              "size": 10,
              "solidity": 0.2
             }
            },
            "type": "bar"
           }
          ],
          "barpolar": [
           {
            "marker": {
             "line": {
              "color": "#E5ECF6",
              "width": 0.5
             },
             "pattern": {
              "fillmode": "overlay",
              "size": 10,
              "solidity": 0.2
             }
            },
            "type": "barpolar"
           }
          ],
          "carpet": [
           {
            "aaxis": {
             "endlinecolor": "#2a3f5f",
             "gridcolor": "white",
             "linecolor": "white",
             "minorgridcolor": "white",
             "startlinecolor": "#2a3f5f"
            },
            "baxis": {
             "endlinecolor": "#2a3f5f",
             "gridcolor": "white",
             "linecolor": "white",
             "minorgridcolor": "white",
             "startlinecolor": "#2a3f5f"
            },
            "type": "carpet"
           }
          ],
          "choropleth": [
           {
            "colorbar": {
             "outlinewidth": 0,
             "ticks": ""
            },
            "type": "choropleth"
           }
          ],
          "contour": [
           {
            "colorbar": {
             "outlinewidth": 0,
             "ticks": ""
            },
            "colorscale": [
             [
              0,
              "#0d0887"
             ],
             [
              0.1111111111111111,
              "#46039f"
             ],
             [
              0.2222222222222222,
              "#7201a8"
             ],
             [
              0.3333333333333333,
              "#9c179e"
             ],
             [
              0.4444444444444444,
              "#bd3786"
             ],
             [
              0.5555555555555556,
              "#d8576b"
             ],
             [
              0.6666666666666666,
              "#ed7953"
             ],
             [
              0.7777777777777778,
              "#fb9f3a"
             ],
             [
              0.8888888888888888,
              "#fdca26"
             ],
             [
              1,
              "#f0f921"
             ]
            ],
            "type": "contour"
           }
          ],
          "contourcarpet": [
           {
            "colorbar": {
             "outlinewidth": 0,
             "ticks": ""
            },
            "type": "contourcarpet"
           }
          ],
          "heatmap": [
           {
            "colorbar": {
             "outlinewidth": 0,
             "ticks": ""
            },
            "colorscale": [
             [
              0,
              "#0d0887"
             ],
             [
              0.1111111111111111,
              "#46039f"
             ],
             [
              0.2222222222222222,
              "#7201a8"
             ],
             [
              0.3333333333333333,
              "#9c179e"
             ],
             [
              0.4444444444444444,
              "#bd3786"
             ],
             [
              0.5555555555555556,
              "#d8576b"
             ],
             [
              0.6666666666666666,
              "#ed7953"
             ],
             [
              0.7777777777777778,
              "#fb9f3a"
             ],
             [
              0.8888888888888888,
              "#fdca26"
             ],
             [
              1,
              "#f0f921"
             ]
            ],
            "type": "heatmap"
           }
          ],
          "heatmapgl": [
           {
            "colorbar": {
             "outlinewidth": 0,
             "ticks": ""
            },
            "colorscale": [
             [
              0,
              "#0d0887"
             ],
             [
              0.1111111111111111,
              "#46039f"
             ],
             [
              0.2222222222222222,
              "#7201a8"
             ],
             [
              0.3333333333333333,
              "#9c179e"
             ],
             [
              0.4444444444444444,
              "#bd3786"
             ],
             [
              0.5555555555555556,
              "#d8576b"
             ],
             [
              0.6666666666666666,
              "#ed7953"
             ],
             [
              0.7777777777777778,
              "#fb9f3a"
             ],
             [
              0.8888888888888888,
              "#fdca26"
             ],
             [
              1,
              "#f0f921"
             ]
            ],
            "type": "heatmapgl"
           }
          ],
          "histogram": [
           {
            "marker": {
             "pattern": {
              "fillmode": "overlay",
              "size": 10,
              "solidity": 0.2
             }
            },
            "type": "histogram"
           }
          ],
          "histogram2d": [
           {
            "colorbar": {
             "outlinewidth": 0,
             "ticks": ""
            },
            "colorscale": [
             [
              0,
              "#0d0887"
             ],
             [
              0.1111111111111111,
              "#46039f"
             ],
             [
              0.2222222222222222,
              "#7201a8"
             ],
             [
              0.3333333333333333,
              "#9c179e"
             ],
             [
              0.4444444444444444,
              "#bd3786"
             ],
             [
              0.5555555555555556,
              "#d8576b"
             ],
             [
              0.6666666666666666,
              "#ed7953"
             ],
             [
              0.7777777777777778,
              "#fb9f3a"
             ],
             [
              0.8888888888888888,
              "#fdca26"
             ],
             [
              1,
              "#f0f921"
             ]
            ],
            "type": "histogram2d"
           }
          ],
          "histogram2dcontour": [
           {
            "colorbar": {
             "outlinewidth": 0,
             "ticks": ""
            },
            "colorscale": [
             [
              0,
              "#0d0887"
             ],
             [
              0.1111111111111111,
              "#46039f"
             ],
             [
              0.2222222222222222,
              "#7201a8"
             ],
             [
              0.3333333333333333,
              "#9c179e"
             ],
             [
              0.4444444444444444,
              "#bd3786"
             ],
             [
              0.5555555555555556,
              "#d8576b"
             ],
             [
              0.6666666666666666,
              "#ed7953"
             ],
             [
              0.7777777777777778,
              "#fb9f3a"
             ],
             [
              0.8888888888888888,
              "#fdca26"
             ],
             [
              1,
              "#f0f921"
             ]
            ],
            "type": "histogram2dcontour"
           }
          ],
          "mesh3d": [
           {
            "colorbar": {
             "outlinewidth": 0,
             "ticks": ""
            },
            "type": "mesh3d"
           }
          ],
          "parcoords": [
           {
            "line": {
             "colorbar": {
              "outlinewidth": 0,
              "ticks": ""
             }
            },
            "type": "parcoords"
           }
          ],
          "pie": [
           {
            "automargin": true,
            "type": "pie"
           }
          ],
          "scatter": [
           {
            "marker": {
             "colorbar": {
              "outlinewidth": 0,
              "ticks": ""
             }
            },
            "type": "scatter"
           }
          ],
          "scatter3d": [
           {
            "line": {
             "colorbar": {
              "outlinewidth": 0,
              "ticks": ""
             }
            },
            "marker": {
             "colorbar": {
              "outlinewidth": 0,
              "ticks": ""
             }
            },
            "type": "scatter3d"
           }
          ],
          "scattercarpet": [
           {
            "marker": {
             "colorbar": {
              "outlinewidth": 0,
              "ticks": ""
             }
            },
            "type": "scattercarpet"
           }
          ],
          "scattergeo": [
           {
            "marker": {
             "colorbar": {
              "outlinewidth": 0,
              "ticks": ""
             }
            },
            "type": "scattergeo"
           }
          ],
          "scattergl": [
           {
            "marker": {
             "colorbar": {
              "outlinewidth": 0,
              "ticks": ""
             }
            },
            "type": "scattergl"
           }
          ],
          "scattermapbox": [
           {
            "marker": {
             "colorbar": {
              "outlinewidth": 0,
              "ticks": ""
             }
            },
            "type": "scattermapbox"
           }
          ],
          "scatterpolar": [
           {
            "marker": {
             "colorbar": {
              "outlinewidth": 0,
              "ticks": ""
             }
            },
            "type": "scatterpolar"
           }
          ],
          "scatterpolargl": [
           {
            "marker": {
             "colorbar": {
              "outlinewidth": 0,
              "ticks": ""
             }
            },
            "type": "scatterpolargl"
           }
          ],
          "scatterternary": [
           {
            "marker": {
             "colorbar": {
              "outlinewidth": 0,
              "ticks": ""
             }
            },
            "type": "scatterternary"
           }
          ],
          "surface": [
           {
            "colorbar": {
             "outlinewidth": 0,
             "ticks": ""
            },
            "colorscale": [
             [
              0,
              "#0d0887"
             ],
             [
              0.1111111111111111,
              "#46039f"
             ],
             [
              0.2222222222222222,
              "#7201a8"
             ],
             [
              0.3333333333333333,
              "#9c179e"
             ],
             [
              0.4444444444444444,
              "#bd3786"
             ],
             [
              0.5555555555555556,
              "#d8576b"
             ],
             [
              0.6666666666666666,
              "#ed7953"
             ],
             [
              0.7777777777777778,
              "#fb9f3a"
             ],
             [
              0.8888888888888888,
              "#fdca26"
             ],
             [
              1,
              "#f0f921"
             ]
            ],
            "type": "surface"
           }
          ],
          "table": [
           {
            "cells": {
             "fill": {
              "color": "#EBF0F8"
             },
             "line": {
              "color": "white"
             }
            },
            "header": {
             "fill": {
              "color": "#C8D4E3"
             },
             "line": {
              "color": "white"
             }
            },
            "type": "table"
           }
          ]
         },
         "layout": {
          "annotationdefaults": {
           "arrowcolor": "#2a3f5f",
           "arrowhead": 0,
           "arrowwidth": 1
          },
          "autotypenumbers": "strict",
          "coloraxis": {
           "colorbar": {
            "outlinewidth": 0,
            "ticks": ""
           }
          },
          "colorscale": {
           "diverging": [
            [
             0,
             "#8e0152"
            ],
            [
             0.1,
             "#c51b7d"
            ],
            [
             0.2,
             "#de77ae"
            ],
            [
             0.3,
             "#f1b6da"
            ],
            [
             0.4,
             "#fde0ef"
            ],
            [
             0.5,
             "#f7f7f7"
            ],
            [
             0.6,
             "#e6f5d0"
            ],
            [
             0.7,
             "#b8e186"
            ],
            [
             0.8,
             "#7fbc41"
            ],
            [
             0.9,
             "#4d9221"
            ],
            [
             1,
             "#276419"
            ]
           ],
           "sequential": [
            [
             0,
             "#0d0887"
            ],
            [
             0.1111111111111111,
             "#46039f"
            ],
            [
             0.2222222222222222,
             "#7201a8"
            ],
            [
             0.3333333333333333,
             "#9c179e"
            ],
            [
             0.4444444444444444,
             "#bd3786"
            ],
            [
             0.5555555555555556,
             "#d8576b"
            ],
            [
             0.6666666666666666,
             "#ed7953"
            ],
            [
             0.7777777777777778,
             "#fb9f3a"
            ],
            [
             0.8888888888888888,
             "#fdca26"
            ],
            [
             1,
             "#f0f921"
            ]
           ],
           "sequentialminus": [
            [
             0,
             "#0d0887"
            ],
            [
             0.1111111111111111,
             "#46039f"
            ],
            [
             0.2222222222222222,
             "#7201a8"
            ],
            [
             0.3333333333333333,
             "#9c179e"
            ],
            [
             0.4444444444444444,
             "#bd3786"
            ],
            [
             0.5555555555555556,
             "#d8576b"
            ],
            [
             0.6666666666666666,
             "#ed7953"
            ],
            [
             0.7777777777777778,
             "#fb9f3a"
            ],
            [
             0.8888888888888888,
             "#fdca26"
            ],
            [
             1,
             "#f0f921"
            ]
           ]
          },
          "colorway": [
           "#636efa",
           "#EF553B",
           "#00cc96",
           "#ab63fa",
           "#FFA15A",
           "#19d3f3",
           "#FF6692",
           "#B6E880",
           "#FF97FF",
           "#FECB52"
          ],
          "font": {
           "color": "#2a3f5f"
          },
          "geo": {
           "bgcolor": "white",
           "lakecolor": "white",
           "landcolor": "#E5ECF6",
           "showlakes": true,
           "showland": true,
           "subunitcolor": "white"
          },
          "hoverlabel": {
           "align": "left"
          },
          "hovermode": "closest",
          "mapbox": {
           "style": "light"
          },
          "paper_bgcolor": "white",
          "plot_bgcolor": "#E5ECF6",
          "polar": {
           "angularaxis": {
            "gridcolor": "white",
            "linecolor": "white",
            "ticks": ""
           },
           "bgcolor": "#E5ECF6",
           "radialaxis": {
            "gridcolor": "white",
            "linecolor": "white",
            "ticks": ""
           }
          },
          "scene": {
           "xaxis": {
            "backgroundcolor": "#E5ECF6",
            "gridcolor": "white",
            "gridwidth": 2,
            "linecolor": "white",
            "showbackground": true,
            "ticks": "",
            "zerolinecolor": "white"
           },
           "yaxis": {
            "backgroundcolor": "#E5ECF6",
            "gridcolor": "white",
            "gridwidth": 2,
            "linecolor": "white",
            "showbackground": true,
            "ticks": "",
            "zerolinecolor": "white"
           },
           "zaxis": {
            "backgroundcolor": "#E5ECF6",
            "gridcolor": "white",
            "gridwidth": 2,
            "linecolor": "white",
            "showbackground": true,
            "ticks": "",
            "zerolinecolor": "white"
           }
          },
          "shapedefaults": {
           "line": {
            "color": "#2a3f5f"
           }
          },
          "ternary": {
           "aaxis": {
            "gridcolor": "white",
            "linecolor": "white",
            "ticks": ""
           },
           "baxis": {
            "gridcolor": "white",
            "linecolor": "white",
            "ticks": ""
           },
           "bgcolor": "#E5ECF6",
           "caxis": {
            "gridcolor": "white",
            "linecolor": "white",
            "ticks": ""
           }
          },
          "title": {
           "x": 0.05
          },
          "xaxis": {
           "automargin": true,
           "gridcolor": "white",
           "linecolor": "white",
           "ticks": "",
           "title": {
            "standoff": 15
           },
           "zerolinecolor": "white",
           "zerolinewidth": 2
          },
          "yaxis": {
           "automargin": true,
           "gridcolor": "white",
           "linecolor": "white",
           "ticks": "",
           "title": {
            "standoff": 15
           },
           "zerolinecolor": "white",
           "zerolinewidth": 2
          }
         }
        }
       }
      },
      "image/png": "[encoded data removed]",
      "text/html": [
       "<div>                            <div id=\"940e49ee-9bd5-40ce-aaa7-1d012ff07e9b\" class=\"plotly-graph-div\" style=\"height:525px; width:100%;\"></div>            <script type=\"text/javascript\">                require([\"plotly\"], function(Plotly) {                    window.PLOTLYENV=window.PLOTLYENV || {};                                    if (document.getElementById(\"940e49ee-9bd5-40ce-aaa7-1d012ff07e9b\")) {                    Plotly.newPlot(                        \"940e49ee-9bd5-40ce-aaa7-1d012ff07e9b\",                        [{\"dimensions\":[{\"label\":\"neighborhood\",\"values\":[\"Cow Hollow\",\"Merced Heights\",\"Miraloma Park\",\"Pacific Heights\",\"Potrero Hill\",\"Presidio Heights\",\"South Beach\",\"Telegraph Hill\",\"Union Square District\",\"Westwood Park\"]},{\"label\":\"sale_price_sqr_foot\",\"values\":[665.9640415783227,788.8448175872469,779.810842264425,689.5558168113664,662.0136128276529,675.3502120510033,650.1244791945729,676.5065775293257,903.9932576720645,687.0875745178322]},{\"label\":\"housing_units\",\"values\":[378401.0,380348.0,375967.25,378401.0,378401.0,378401.0,375805.0,378401.0,377427.5,382295.0]},{\"label\":\"gross_rent\",\"values\":[2817.285714285714,3414.0,2155.25,2817.285714285714,2817.285714285714,2817.285714285714,2099.0,2817.285714285714,2555.1666666666665,3959.0]}],\"domain\":{\"x\":[0.0,1.0],\"y\":[0.0,1.0]},\"line\":{\"color\":[665.9640415783227,788.8448175872469,779.810842264425,689.5558168113664,662.0136128276529,675.3502120510033,650.1244791945729,676.5065775293257,903.9932576720645,687.0875745178322],\"coloraxis\":\"coloraxis\"},\"name\":\"\",\"type\":\"parcats\"}],                        {\"coloraxis\":{\"colorbar\":{\"title\":{\"text\":\"sale_price_sqr_foot\"}},\"colorscale\":[[0.0,\"#0d0887\"],[0.1111111111111111,\"#46039f\"],[0.2222222222222222,\"#7201a8\"],[0.3333333333333333,\"#9c179e\"],[0.4444444444444444,\"#bd3786\"],[0.5555555555555556,\"#d8576b\"],[0.6666666666666666,\"#ed7953\"],[0.7777777777777778,\"#fb9f3a\"],[0.8888888888888888,\"#fdca26\"],[1.0,\"#f0f921\"]]},\"legend\":{\"tracegroupgap\":0},\"margin\":{\"t\":60},\"template\":{\"data\":{\"bar\":[{\"error_x\":{\"color\":\"#2a3f5f\"},\"error_y\":{\"color\":\"#2a3f5f\"},\"marker\":{\"line\":{\"color\":\"#E5ECF6\",\"width\":0.5},\"pattern\":{\"fillmode\":\"overlay\",\"size\":10,\"solidity\":0.2}},\"type\":\"bar\"}],\"barpolar\":[{\"marker\":{\"line\":{\"color\":\"#E5ECF6\",\"width\":0.5},\"pattern\":{\"fillmode\":\"overlay\",\"size\":10,\"solidity\":0.2}},\"type\":\"barpolar\"}],\"carpet\":[{\"aaxis\":{\"endlinecolor\":\"#2a3f5f\",\"gridcolor\":\"white\",\"linecolor\":\"white\",\"minorgridcolor\":\"white\",\"startlinecolor\":\"#2a3f5f\"},\"baxis\":{\"endlinecolor\":\"#2a3f5f\",\"gridcolor\":\"white\",\"linecolor\":\"white\",\"minorgridcolor\":\"white\",\"startlinecolor\":\"#2a3f5f\"},\"type\":\"carpet\"}],\"choropleth\":[{\"colorbar\":{\"outlinewidth\":0,\"ticks\":\"\"},\"type\":\"choropleth\"}],\"contour\":[{\"colorbar\":{\"outlinewidth\":0,\"ticks\":\"\"},\"colorscale\":[[0.0,\"#0d0887\"],[0.1111111111111111,\"#46039f\"],[0.2222222222222222,\"#7201a8\"],[0.3333333333333333,\"#9c179e\"],[0.4444444444444444,\"#bd3786\"],[0.5555555555555556,\"#d8576b\"],[0.6666666666666666,\"#ed7953\"],[0.7777777777777778,\"#fb9f3a\"],[0.8888888888888888,\"#fdca26\"],[1.0,\"#f0f921\"]],\"type\":\"contour\"}],\"contourcarpet\":[{\"colorbar\":{\"outlinewidth\":0,\"ticks\":\"\"},\"type\":\"contourcarpet\"}],\"heatmap\":[{\"colorbar\":{\"outlinewidth\":0,\"ticks\":\"\"},\"colorscale\":[[0.0,\"#0d0887\"],[0.1111111111111111,\"#46039f\"],[0.2222222222222222,\"#7201a8\"],[0.3333333333333333,\"#9c179e\"],[0.4444444444444444,\"#bd3786\"],[0.5555555555555556,\"#d8576b\"],[0.6666666666666666,\"#ed7953\"],[0.7777777777777778,\"#fb9f3a\"],[0.8888888888888888,\"#fdca26\"],[1.0,\"#f0f921\"]],\"type\":\"heatmap\"}],\"heatmapgl\":[{\"colorbar\":{\"outlinewidth\":0,\"ticks\":\"\"},\"colorscale\":[[0.0,\"#0d0887\"],[0.1111111111111111,\"#46039f\"],[0.2222222222222222,\"#7201a8\"],[0.3333333333333333,\"#9c179e\"],[0.4444444444444444,\"#bd3786\"],[0.5555555555555556,\"#d8576b\"],[0.6666666666666666,\"#ed7953\"],[0.7777777777777778,\"#fb9f3a\"],[0.8888888888888888,\"#fdca26\"],[1.0,\"#f0f921\"]],\"type\":\"heatmapgl\"}],\"histogram\":[{\"marker\":{\"pattern\":{\"fillmode\":\"overlay\",\"size\":10,\"solidity\":0.2}},\"type\":\"histogram\"}],\"histogram2d\":[{\"colorbar\":{\"outlinewidth\":0,\"ticks\":\"\"},\"colorscale\":[[0.0,\"#0d0887\"],[0.1111111111111111,\"#46039f\"],[0.2222222222222222,\"#7201a8\"],[0.3333333333333333,\"#9c179e\"],[0.4444444444444444,\"#bd3786\"],[0.5555555555555556,\"#d8576b\"],[0.6666666666666666,\"#ed7953\"],[0.7777777777777778,\"#fb9f3a\"],[0.8888888888888888,\"#fdca26\"],[1.0,\"#f0f921\"]],\"type\":\"histogram2d\"}],\"histogram2dcontour\":[{\"colorbar\":{\"outlinewidth\":0,\"ticks\":\"\"},\"colorscale\":[[0.0,\"#0d0887\"],[0.1111111111111111,\"#46039f\"],[0.2222222222222222,\"#7201a8\"],[0.3333333333333333,\"#9c179e\"],[0.4444444444444444,\"#bd3786\"],[0.5555555555555556,\"#d8576b\"],[0.6666666666666666,\"#ed7953\"],[0.7777777777777778,\"#fb9f3a\"],[0.8888888888888888,\"#fdca26\"],[1.0,\"#f0f921\"]],\"type\":\"histogram2dcontour\"}],\"mesh3d\":[{\"colorbar\":{\"outlinewidth\":0,\"ticks\":\"\"},\"type\":\"mesh3d\"}],\"parcoords\":[{\"line\":{\"colorbar\":{\"outlinewidth\":0,\"ticks\":\"\"}},\"type\":\"parcoords\"}],\"pie\":[{\"automargin\":true,\"type\":\"pie\"}],\"scatter\":[{\"marker\":{\"colorbar\":{\"outlinewidth\":0,\"ticks\":\"\"}},\"type\":\"scatter\"}],\"scatter3d\":[{\"line\":{\"colorbar\":{\"outlinewidth\":0,\"ticks\":\"\"}},\"marker\":{\"colorbar\":{\"outlinewidth\":0,\"ticks\":\"\"}},\"type\":\"scatter3d\"}],\"scattercarpet\":[{\"marker\":{\"colorbar\":{\"outlinewidth\":0,\"ticks\":\"\"}},\"type\":\"scattercarpet\"}],\"scattergeo\":[{\"marker\":{\"colorbar\":{\"outlinewidth\":0,\"ticks\":\"\"}},\"type\":\"scattergeo\"}],\"scattergl\":[{\"marker\":{\"colorbar\":{\"outlinewidth\":0,\"ticks\":\"\"}},\"type\":\"scattergl\"}],\"scattermapbox\":[{\"marker\":{\"colorbar\":{\"outlinewidth\":0,\"ticks\":\"\"}},\"type\":\"scattermapbox\"}],\"scatterpolar\":[{\"marker\":{\"colorbar\":{\"outlinewidth\":0,\"ticks\":\"\"}},\"type\":\"scatterpolar\"}],\"scatterpolargl\":[{\"marker\":{\"colorbar\":{\"outlinewidth\":0,\"ticks\":\"\"}},\"type\":\"scatterpolargl\"}],\"scatterternary\":[{\"marker\":{\"colorbar\":{\"outlinewidth\":0,\"ticks\":\"\"}},\"type\":\"scatterternary\"}],\"surface\":[{\"colorbar\":{\"outlinewidth\":0,\"ticks\":\"\"},\"colorscale\":[[0.0,\"#0d0887\"],[0.1111111111111111,\"#46039f\"],[0.2222222222222222,\"#7201a8\"],[0.3333333333333333,\"#9c179e\"],[0.4444444444444444,\"#bd3786\"],[0.5555555555555556,\"#d8576b\"],[0.6666666666666666,\"#ed7953\"],[0.7777777777777778,\"#fb9f3a\"],[0.8888888888888888,\"#fdca26\"],[1.0,\"#f0f921\"]],\"type\":\"surface\"}],\"table\":[{\"cells\":{\"fill\":{\"color\":\"#EBF0F8\"},\"line\":{\"color\":\"white\"}},\"header\":{\"fill\":{\"color\":\"#C8D4E3\"},\"line\":{\"color\":\"white\"}},\"type\":\"table\"}]},\"layout\":{\"annotationdefaults\":{\"arrowcolor\":\"#2a3f5f\",\"arrowhead\":0,\"arrowwidth\":1},\"autotypenumbers\":\"strict\",\"coloraxis\":{\"colorbar\":{\"outlinewidth\":0,\"ticks\":\"\"}},\"colorscale\":{\"diverging\":[[0,\"#8e0152\"],[0.1,\"#c51b7d\"],[0.2,\"#de77ae\"],[0.3,\"#f1b6da\"],[0.4,\"#fde0ef\"],[0.5,\"#f7f7f7\"],[0.6,\"#e6f5d0\"],[0.7,\"#b8e186\"],[0.8,\"#7fbc41\"],[0.9,\"#4d9221\"],[1,\"#276419\"]],\"sequential\":[[0.0,\"#0d0887\"],[0.1111111111111111,\"#46039f\"],[0.2222222222222222,\"#7201a8\"],[0.3333333333333333,\"#9c179e\"],[0.4444444444444444,\"#bd3786\"],[0.5555555555555556,\"#d8576b\"],[0.6666666666666666,\"#ed7953\"],[0.7777777777777778,\"#fb9f3a\"],[0.8888888888888888,\"#fdca26\"],[1.0,\"#f0f921\"]],\"sequentialminus\":[[0.0,\"#0d0887\"],[0.1111111111111111,\"#46039f\"],[0.2222222222222222,\"#7201a8\"],[0.3333333333333333,\"#9c179e\"],[0.4444444444444444,\"#bd3786\"],[0.5555555555555556,\"#d8576b\"],[0.6666666666666666,\"#ed7953\"],[0.7777777777777778,\"#fb9f3a\"],[0.8888888888888888,\"#fdca26\"],[1.0,\"#f0f921\"]]},\"colorway\":[\"#636efa\",\"#EF553B\",\"#00cc96\",\"#ab63fa\",\"#FFA15A\",\"#19d3f3\",\"#FF6692\",\"#B6E880\",\"#FF97FF\",\"#FECB52\"],\"font\":{\"color\":\"#2a3f5f\"},\"geo\":{\"bgcolor\":\"white\",\"lakecolor\":\"white\",\"landcolor\":\"#E5ECF6\",\"showlakes\":true,\"showland\":true,\"subunitcolor\":\"white\"},\"hoverlabel\":{\"align\":\"left\"},\"hovermode\":\"closest\",\"mapbox\":{\"style\":\"light\"},\"paper_bgcolor\":\"white\",\"plot_bgcolor\":\"#E5ECF6\",\"polar\":{\"angularaxis\":{\"gridcolor\":\"white\",\"linecolor\":\"white\",\"ticks\":\"\"},\"bgcolor\":\"#E5ECF6\",\"radialaxis\":{\"gridcolor\":\"white\",\"linecolor\":\"white\",\"ticks\":\"\"}},\"scene\":{\"xaxis\":{\"backgroundcolor\":\"#E5ECF6\",\"gridcolor\":\"white\",\"gridwidth\":2,\"linecolor\":\"white\",\"showbackground\":true,\"ticks\":\"\",\"zerolinecolor\":\"white\"},\"yaxis\":{\"backgroundcolor\":\"#E5ECF6\",\"gridcolor\":\"white\",\"gridwidth\":2,\"linecolor\":\"white\",\"showbackground\":true,\"ticks\":\"\",\"zerolinecolor\":\"white\"},\"zaxis\":{\"backgroundcolor\":\"#E5ECF6\",\"gridcolor\":\"white\",\"gridwidth\":2,\"linecolor\":\"white\",\"showbackground\":true,\"ticks\":\"\",\"zerolinecolor\":\"white\"}},\"shapedefaults\":{\"line\":{\"color\":\"#2a3f5f\"}},\"ternary\":{\"aaxis\":{\"gridcolor\":\"white\",\"linecolor\":\"white\",\"ticks\":\"\"},\"baxis\":{\"gridcolor\":\"white\",\"linecolor\":\"white\",\"ticks\":\"\"},\"bgcolor\":\"#E5ECF6\",\"caxis\":{\"gridcolor\":\"white\",\"linecolor\":\"white\",\"ticks\":\"\"}},\"title\":{\"x\":0.05},\"xaxis\":{\"automargin\":true,\"gridcolor\":\"white\",\"linecolor\":\"white\",\"ticks\":\"\",\"title\":{\"standoff\":15},\"zerolinecolor\":\"white\",\"zerolinewidth\":2},\"yaxis\":{\"automargin\":true,\"gridcolor\":\"white\",\"linecolor\":\"white\",\"ticks\":\"\",\"title\":{\"standoff\":15},\"zerolinecolor\":\"white\",\"zerolinewidth\":2}}}},                        {\"responsive\": true}                    ).then(function(){\n",
       "                            \n",
       "var gd = document.getElementById('940e49ee-9bd5-40ce-aaa7-1d012ff07e9b');\n",
       "var x = new MutationObserver(function (mutations, observer) {{\n",
       "        var display = window.getComputedStyle(gd).display;\n",
       "        if (!display || display === 'none') {{\n",
       "            console.log([gd, 'removed!']);\n",
       "            Plotly.purge(gd);\n",
       "            observer.disconnect();\n",
       "        }}\n",
       "}});\n",
       "\n",
       "// Listen for the removal of the full notebook cells\n",
       "var notebookContainer = gd.closest('#notebook-container');\n",
       "if (notebookContainer) {{\n",
       "    x.observe(notebookContainer, {childList: true});\n",
       "}}\n",
       "\n",
       "// Listen for the clearing of the current output cell\n",
       "var outputEl = gd.closest('.output');\n",
       "if (outputEl) {{\n",
       "    x.observe(outputEl, {childList: true});\n",
       "}}\n",
       "\n",
       "                        })                };                });            </script>        </div>"
      ]
     },
     "metadata": {},
     "output_type": "display_data"
    }
   ],
   "source": [
    "# Parallel Categories Plot\n",
    "px.parallel_categories(\n",
    "    df_expensive_neighborhoods_per_year,\n",
    "    dimensions=[\"neighborhood\", \"sale_price_sqr_foot\", \"housing_units\", \"gross_rent\"],\n",
    "    color=\"sale_price_sqr_foot\",\n",
    ")"
   ]
  },
  {
   "cell_type": "code",
   "execution_count": 237,
   "metadata": {},
   "outputs": [
    {
     "data": {
      "application/vnd.plotly.v1+json": {
       "config": {
        "plotlyServerURL": "https://plot.ly"
       },
       "data": [
        {
         "dimensions": [
          {
           "label": "sale_price_sqr_foot",
           "values": [
            665.9640415783227,
            788.8448175872469,
            779.810842264425,
            689.5558168113664,
            662.0136128276529,
            675.3502120510033,
            650.1244791945729,
            676.5065775293257,
            903.9932576720645,
            687.0875745178322
           ]
          },
          {
           "label": "housing_units",
           "values": [
            378401,
            380348,
            375967.25,
            378401,
            378401,
            378401,
            375805,
            378401,
            377427.5,
            382295
           ]
          },
          {
           "label": "gross_rent",
           "values": [
            2817.285714285714,
            3414,
            2155.25,
            2817.285714285714,
            2817.285714285714,
            2817.285714285714,
            2099,
            2817.285714285714,
            2555.1666666666665,
            3959
           ]
          }
         ],
         "domain": {
          "x": [
           0,
           1
          ],
          "y": [
           0,
           1
          ]
         },
         "line": {
          "color": [
           665.9640415783227,
           788.8448175872469,
           779.810842264425,
           689.5558168113664,
           662.0136128276529,
           675.3502120510033,
           650.1244791945729,
           676.5065775293257,
           903.9932576720645,
           687.0875745178322
          ],
          "coloraxis": "coloraxis"
         },
         "name": "",
         "type": "parcoords"
        }
       ],
       "layout": {
        "autosize": true,
        "coloraxis": {
         "colorbar": {
          "title": {
           "text": "sale_price_sqr_foot"
          }
         },
         "colorscale": [
          [
           0,
           "#0d0887"
          ],
          [
           0.1111111111111111,
           "#46039f"
          ],
          [
           0.2222222222222222,
           "#7201a8"
          ],
          [
           0.3333333333333333,
           "#9c179e"
          ],
          [
           0.4444444444444444,
           "#bd3786"
          ],
          [
           0.5555555555555556,
           "#d8576b"
          ],
          [
           0.6666666666666666,
           "#ed7953"
          ],
          [
           0.7777777777777778,
           "#fb9f3a"
          ],
          [
           0.8888888888888888,
           "#fdca26"
          ],
          [
           1,
           "#f0f921"
          ]
         ]
        },
        "legend": {
         "tracegroupgap": 0
        },
        "margin": {
         "t": 60
        },
        "template": {
         "data": {
          "bar": [
           {
            "error_x": {
             "color": "#2a3f5f"
            },
            "error_y": {
             "color": "#2a3f5f"
            },
            "marker": {
             "line": {
              "color": "#E5ECF6",
              "width": 0.5
             },
             "pattern": {
              "fillmode": "overlay",
              "size": 10,
              "solidity": 0.2
             }
            },
            "type": "bar"
           }
          ],
          "barpolar": [
           {
            "marker": {
             "line": {
              "color": "#E5ECF6",
              "width": 0.5
             },
             "pattern": {
              "fillmode": "overlay",
              "size": 10,
              "solidity": 0.2
             }
            },
            "type": "barpolar"
           }
          ],
          "carpet": [
           {
            "aaxis": {
             "endlinecolor": "#2a3f5f",
             "gridcolor": "white",
             "linecolor": "white",
             "minorgridcolor": "white",
             "startlinecolor": "#2a3f5f"
            },
            "baxis": {
             "endlinecolor": "#2a3f5f",
             "gridcolor": "white",
             "linecolor": "white",
             "minorgridcolor": "white",
             "startlinecolor": "#2a3f5f"
            },
            "type": "carpet"
           }
          ],
          "choropleth": [
           {
            "colorbar": {
             "outlinewidth": 0,
             "ticks": ""
            },
            "type": "choropleth"
           }
          ],
          "contour": [
           {
            "colorbar": {
             "outlinewidth": 0,
             "ticks": ""
            },
            "colorscale": [
             [
              0,
              "#0d0887"
             ],
             [
              0.1111111111111111,
              "#46039f"
             ],
             [
              0.2222222222222222,
              "#7201a8"
             ],
             [
              0.3333333333333333,
              "#9c179e"
             ],
             [
              0.4444444444444444,
              "#bd3786"
             ],
             [
              0.5555555555555556,
              "#d8576b"
             ],
             [
              0.6666666666666666,
              "#ed7953"
             ],
             [
              0.7777777777777778,
              "#fb9f3a"
             ],
             [
              0.8888888888888888,
              "#fdca26"
             ],
             [
              1,
              "#f0f921"
             ]
            ],
            "type": "contour"
           }
          ],
          "contourcarpet": [
           {
            "colorbar": {
             "outlinewidth": 0,
             "ticks": ""
            },
            "type": "contourcarpet"
           }
          ],
          "heatmap": [
           {
            "colorbar": {
             "outlinewidth": 0,
             "ticks": ""
            },
            "colorscale": [
             [
              0,
              "#0d0887"
             ],
             [
              0.1111111111111111,
              "#46039f"
             ],
             [
              0.2222222222222222,
              "#7201a8"
             ],
             [
              0.3333333333333333,
              "#9c179e"
             ],
             [
              0.4444444444444444,
              "#bd3786"
             ],
             [
              0.5555555555555556,
              "#d8576b"
             ],
             [
              0.6666666666666666,
              "#ed7953"
             ],
             [
              0.7777777777777778,
              "#fb9f3a"
             ],
             [
              0.8888888888888888,
              "#fdca26"
             ],
             [
              1,
              "#f0f921"
             ]
            ],
            "type": "heatmap"
           }
          ],
          "heatmapgl": [
           {
            "colorbar": {
             "outlinewidth": 0,
             "ticks": ""
            },
            "colorscale": [
             [
              0,
              "#0d0887"
             ],
             [
              0.1111111111111111,
              "#46039f"
             ],
             [
              0.2222222222222222,
              "#7201a8"
             ],
             [
              0.3333333333333333,
              "#9c179e"
             ],
             [
              0.4444444444444444,
              "#bd3786"
             ],
             [
              0.5555555555555556,
              "#d8576b"
             ],
             [
              0.6666666666666666,
              "#ed7953"
             ],
             [
              0.7777777777777778,
              "#fb9f3a"
             ],
             [
              0.8888888888888888,
              "#fdca26"
             ],
             [
              1,
              "#f0f921"
             ]
            ],
            "type": "heatmapgl"
           }
          ],
          "histogram": [
           {
            "marker": {
             "pattern": {
              "fillmode": "overlay",
              "size": 10,
              "solidity": 0.2
             }
            },
            "type": "histogram"
           }
          ],
          "histogram2d": [
           {
            "colorbar": {
             "outlinewidth": 0,
             "ticks": ""
            },
            "colorscale": [
             [
              0,
              "#0d0887"
             ],
             [
              0.1111111111111111,
              "#46039f"
             ],
             [
              0.2222222222222222,
              "#7201a8"
             ],
             [
              0.3333333333333333,
              "#9c179e"
             ],
             [
              0.4444444444444444,
              "#bd3786"
             ],
             [
              0.5555555555555556,
              "#d8576b"
             ],
             [
              0.6666666666666666,
              "#ed7953"
             ],
             [
              0.7777777777777778,
              "#fb9f3a"
             ],
             [
              0.8888888888888888,
              "#fdca26"
             ],
             [
              1,
              "#f0f921"
             ]
            ],
            "type": "histogram2d"
           }
          ],
          "histogram2dcontour": [
           {
            "colorbar": {
             "outlinewidth": 0,
             "ticks": ""
            },
            "colorscale": [
             [
              0,
              "#0d0887"
             ],
             [
              0.1111111111111111,
              "#46039f"
             ],
             [
              0.2222222222222222,
              "#7201a8"
             ],
             [
              0.3333333333333333,
              "#9c179e"
             ],
             [
              0.4444444444444444,
              "#bd3786"
             ],
             [
              0.5555555555555556,
              "#d8576b"
             ],
             [
              0.6666666666666666,
              "#ed7953"
             ],
             [
              0.7777777777777778,
              "#fb9f3a"
             ],
             [
              0.8888888888888888,
              "#fdca26"
             ],
             [
              1,
              "#f0f921"
             ]
            ],
            "type": "histogram2dcontour"
           }
          ],
          "mesh3d": [
           {
            "colorbar": {
             "outlinewidth": 0,
             "ticks": ""
            },
            "type": "mesh3d"
           }
          ],
          "parcoords": [
           {
            "line": {
             "colorbar": {
              "outlinewidth": 0,
              "ticks": ""
             }
            },
            "type": "parcoords"
           }
          ],
          "pie": [
           {
            "automargin": true,
            "type": "pie"
           }
          ],
          "scatter": [
           {
            "marker": {
             "colorbar": {
              "outlinewidth": 0,
              "ticks": ""
             }
            },
            "type": "scatter"
           }
          ],
          "scatter3d": [
           {
            "line": {
             "colorbar": {
              "outlinewidth": 0,
              "ticks": ""
             }
            },
            "marker": {
             "colorbar": {
              "outlinewidth": 0,
              "ticks": ""
             }
            },
            "type": "scatter3d"
           }
          ],
          "scattercarpet": [
           {
            "marker": {
             "colorbar": {
              "outlinewidth": 0,
              "ticks": ""
             }
            },
            "type": "scattercarpet"
           }
          ],
          "scattergeo": [
           {
            "marker": {
             "colorbar": {
              "outlinewidth": 0,
              "ticks": ""
             }
            },
            "type": "scattergeo"
           }
          ],
          "scattergl": [
           {
            "marker": {
             "colorbar": {
              "outlinewidth": 0,
              "ticks": ""
             }
            },
            "type": "scattergl"
           }
          ],
          "scattermapbox": [
           {
            "marker": {
             "colorbar": {
              "outlinewidth": 0,
              "ticks": ""
             }
            },
            "type": "scattermapbox"
           }
          ],
          "scatterpolar": [
           {
            "marker": {
             "colorbar": {
              "outlinewidth": 0,
              "ticks": ""
             }
            },
            "type": "scatterpolar"
           }
          ],
          "scatterpolargl": [
           {
            "marker": {
             "colorbar": {
              "outlinewidth": 0,
              "ticks": ""
             }
            },
            "type": "scatterpolargl"
           }
          ],
          "scatterternary": [
           {
            "marker": {
             "colorbar": {
              "outlinewidth": 0,
              "ticks": ""
             }
            },
            "type": "scatterternary"
           }
          ],
          "surface": [
           {
            "colorbar": {
             "outlinewidth": 0,
             "ticks": ""
            },
            "colorscale": [
             [
              0,
              "#0d0887"
             ],
             [
              0.1111111111111111,
              "#46039f"
             ],
             [
              0.2222222222222222,
              "#7201a8"
             ],
             [
              0.3333333333333333,
              "#9c179e"
             ],
             [
              0.4444444444444444,
              "#bd3786"
             ],
             [
              0.5555555555555556,
              "#d8576b"
             ],
             [
              0.6666666666666666,
              "#ed7953"
             ],
             [
              0.7777777777777778,
              "#fb9f3a"
             ],
             [
              0.8888888888888888,
              "#fdca26"
             ],
             [
              1,
              "#f0f921"
             ]
            ],
            "type": "surface"
           }
          ],
          "table": [
           {
            "cells": {
             "fill": {
              "color": "#EBF0F8"
             },
             "line": {
              "color": "white"
             }
            },
            "header": {
             "fill": {
              "color": "#C8D4E3"
             },
             "line": {
              "color": "white"
             }
            },
            "type": "table"
           }
          ]
         },
         "layout": {
          "annotationdefaults": {
           "arrowcolor": "#2a3f5f",
           "arrowhead": 0,
           "arrowwidth": 1
          },
          "autotypenumbers": "strict",
          "coloraxis": {
           "colorbar": {
            "outlinewidth": 0,
            "ticks": ""
           }
          },
          "colorscale": {
           "diverging": [
            [
             0,
             "#8e0152"
            ],
            [
             0.1,
             "#c51b7d"
            ],
            [
             0.2,
             "#de77ae"
            ],
            [
             0.3,
             "#f1b6da"
            ],
            [
             0.4,
             "#fde0ef"
            ],
            [
             0.5,
             "#f7f7f7"
            ],
            [
             0.6,
             "#e6f5d0"
            ],
            [
             0.7,
             "#b8e186"
            ],
            [
             0.8,
             "#7fbc41"
            ],
            [
             0.9,
             "#4d9221"
            ],
            [
             1,
             "#276419"
            ]
           ],
           "sequential": [
            [
             0,
             "#0d0887"
            ],
            [
             0.1111111111111111,
             "#46039f"
            ],
            [
             0.2222222222222222,
             "#7201a8"
            ],
            [
             0.3333333333333333,
             "#9c179e"
            ],
            [
             0.4444444444444444,
             "#bd3786"
            ],
            [
             0.5555555555555556,
             "#d8576b"
            ],
            [
             0.6666666666666666,
             "#ed7953"
            ],
            [
             0.7777777777777778,
             "#fb9f3a"
            ],
            [
             0.8888888888888888,
             "#fdca26"
            ],
            [
             1,
             "#f0f921"
            ]
           ],
           "sequentialminus": [
            [
             0,
             "#0d0887"
            ],
            [
             0.1111111111111111,
             "#46039f"
            ],
            [
             0.2222222222222222,
             "#7201a8"
            ],
            [
             0.3333333333333333,
             "#9c179e"
            ],
            [
             0.4444444444444444,
             "#bd3786"
            ],
            [
             0.5555555555555556,
             "#d8576b"
            ],
            [
             0.6666666666666666,
             "#ed7953"
            ],
            [
             0.7777777777777778,
             "#fb9f3a"
            ],
            [
             0.8888888888888888,
             "#fdca26"
            ],
            [
             1,
             "#f0f921"
            ]
           ]
          },
          "colorway": [
           "#636efa",
           "#EF553B",
           "#00cc96",
           "#ab63fa",
           "#FFA15A",
           "#19d3f3",
           "#FF6692",
           "#B6E880",
           "#FF97FF",
           "#FECB52"
          ],
          "font": {
           "color": "#2a3f5f"
          },
          "geo": {
           "bgcolor": "white",
           "lakecolor": "white",
           "landcolor": "#E5ECF6",
           "showlakes": true,
           "showland": true,
           "subunitcolor": "white"
          },
          "hoverlabel": {
           "align": "left"
          },
          "hovermode": "closest",
          "mapbox": {
           "style": "light"
          },
          "paper_bgcolor": "white",
          "plot_bgcolor": "#E5ECF6",
          "polar": {
           "angularaxis": {
            "gridcolor": "white",
            "linecolor": "white",
            "ticks": ""
           },
           "bgcolor": "#E5ECF6",
           "radialaxis": {
            "gridcolor": "white",
            "linecolor": "white",
            "ticks": ""
           }
          },
          "scene": {
           "xaxis": {
            "backgroundcolor": "#E5ECF6",
            "gridcolor": "white",
            "gridwidth": 2,
            "linecolor": "white",
            "showbackground": true,
            "ticks": "",
            "zerolinecolor": "white"
           },
           "yaxis": {
            "backgroundcolor": "#E5ECF6",
            "gridcolor": "white",
            "gridwidth": 2,
            "linecolor": "white",
            "showbackground": true,
            "ticks": "",
            "zerolinecolor": "white"
           },
           "zaxis": {
            "backgroundcolor": "#E5ECF6",
            "gridcolor": "white",
            "gridwidth": 2,
            "linecolor": "white",
            "showbackground": true,
            "ticks": "",
            "zerolinecolor": "white"
           }
          },
          "shapedefaults": {
           "line": {
            "color": "#2a3f5f"
           }
          },
          "ternary": {
           "aaxis": {
            "gridcolor": "white",
            "linecolor": "white",
            "ticks": ""
           },
           "baxis": {
            "gridcolor": "white",
            "linecolor": "white",
            "ticks": ""
           },
           "bgcolor": "#E5ECF6",
           "caxis": {
            "gridcolor": "white",
            "linecolor": "white",
            "ticks": ""
           }
          },
          "title": {
           "x": 0.05
          },
          "xaxis": {
           "automargin": true,
           "gridcolor": "white",
           "linecolor": "white",
           "ticks": "",
           "title": {
            "standoff": 15
           },
           "zerolinecolor": "white",
           "zerolinewidth": 2
          },
          "yaxis": {
           "automargin": true,
           "gridcolor": "white",
           "linecolor": "white",
           "ticks": "",
           "title": {
            "standoff": 15
           },
           "zerolinecolor": "white",
           "zerolinewidth": 2
          }
         }
        }
       }
      },
      "image/png": "[encoded data removed]",
      "text/html": [
       "<div>                            <div id=\"6f467525-40fa-4b35-a583-aa4211dd1a17\" class=\"plotly-graph-div\" style=\"height:525px; width:100%;\"></div>            <script type=\"text/javascript\">                require([\"plotly\"], function(Plotly) {                    window.PLOTLYENV=window.PLOTLYENV || {};                                    if (document.getElementById(\"6f467525-40fa-4b35-a583-aa4211dd1a17\")) {                    Plotly.newPlot(                        \"6f467525-40fa-4b35-a583-aa4211dd1a17\",                        [{\"dimensions\":[{\"label\":\"sale_price_sqr_foot\",\"values\":[665.9640415783227,788.8448175872469,779.810842264425,689.5558168113664,662.0136128276529,675.3502120510033,650.1244791945729,676.5065775293257,903.9932576720645,687.0875745178322]},{\"label\":\"housing_units\",\"values\":[378401.0,380348.0,375967.25,378401.0,378401.0,378401.0,375805.0,378401.0,377427.5,382295.0]},{\"label\":\"gross_rent\",\"values\":[2817.285714285714,3414.0,2155.25,2817.285714285714,2817.285714285714,2817.285714285714,2099.0,2817.285714285714,2555.1666666666665,3959.0]}],\"domain\":{\"x\":[0.0,1.0],\"y\":[0.0,1.0]},\"line\":{\"color\":[665.9640415783227,788.8448175872469,779.810842264425,689.5558168113664,662.0136128276529,675.3502120510033,650.1244791945729,676.5065775293257,903.9932576720645,687.0875745178322],\"coloraxis\":\"coloraxis\"},\"name\":\"\",\"type\":\"parcoords\"}],                        {\"coloraxis\":{\"colorbar\":{\"title\":{\"text\":\"sale_price_sqr_foot\"}},\"colorscale\":[[0.0,\"#0d0887\"],[0.1111111111111111,\"#46039f\"],[0.2222222222222222,\"#7201a8\"],[0.3333333333333333,\"#9c179e\"],[0.4444444444444444,\"#bd3786\"],[0.5555555555555556,\"#d8576b\"],[0.6666666666666666,\"#ed7953\"],[0.7777777777777778,\"#fb9f3a\"],[0.8888888888888888,\"#fdca26\"],[1.0,\"#f0f921\"]]},\"legend\":{\"tracegroupgap\":0},\"margin\":{\"t\":60},\"template\":{\"data\":{\"bar\":[{\"error_x\":{\"color\":\"#2a3f5f\"},\"error_y\":{\"color\":\"#2a3f5f\"},\"marker\":{\"line\":{\"color\":\"#E5ECF6\",\"width\":0.5},\"pattern\":{\"fillmode\":\"overlay\",\"size\":10,\"solidity\":0.2}},\"type\":\"bar\"}],\"barpolar\":[{\"marker\":{\"line\":{\"color\":\"#E5ECF6\",\"width\":0.5},\"pattern\":{\"fillmode\":\"overlay\",\"size\":10,\"solidity\":0.2}},\"type\":\"barpolar\"}],\"carpet\":[{\"aaxis\":{\"endlinecolor\":\"#2a3f5f\",\"gridcolor\":\"white\",\"linecolor\":\"white\",\"minorgridcolor\":\"white\",\"startlinecolor\":\"#2a3f5f\"},\"baxis\":{\"endlinecolor\":\"#2a3f5f\",\"gridcolor\":\"white\",\"linecolor\":\"white\",\"minorgridcolor\":\"white\",\"startlinecolor\":\"#2a3f5f\"},\"type\":\"carpet\"}],\"choropleth\":[{\"colorbar\":{\"outlinewidth\":0,\"ticks\":\"\"},\"type\":\"choropleth\"}],\"contour\":[{\"colorbar\":{\"outlinewidth\":0,\"ticks\":\"\"},\"colorscale\":[[0.0,\"#0d0887\"],[0.1111111111111111,\"#46039f\"],[0.2222222222222222,\"#7201a8\"],[0.3333333333333333,\"#9c179e\"],[0.4444444444444444,\"#bd3786\"],[0.5555555555555556,\"#d8576b\"],[0.6666666666666666,\"#ed7953\"],[0.7777777777777778,\"#fb9f3a\"],[0.8888888888888888,\"#fdca26\"],[1.0,\"#f0f921\"]],\"type\":\"contour\"}],\"contourcarpet\":[{\"colorbar\":{\"outlinewidth\":0,\"ticks\":\"\"},\"type\":\"contourcarpet\"}],\"heatmap\":[{\"colorbar\":{\"outlinewidth\":0,\"ticks\":\"\"},\"colorscale\":[[0.0,\"#0d0887\"],[0.1111111111111111,\"#46039f\"],[0.2222222222222222,\"#7201a8\"],[0.3333333333333333,\"#9c179e\"],[0.4444444444444444,\"#bd3786\"],[0.5555555555555556,\"#d8576b\"],[0.6666666666666666,\"#ed7953\"],[0.7777777777777778,\"#fb9f3a\"],[0.8888888888888888,\"#fdca26\"],[1.0,\"#f0f921\"]],\"type\":\"heatmap\"}],\"heatmapgl\":[{\"colorbar\":{\"outlinewidth\":0,\"ticks\":\"\"},\"colorscale\":[[0.0,\"#0d0887\"],[0.1111111111111111,\"#46039f\"],[0.2222222222222222,\"#7201a8\"],[0.3333333333333333,\"#9c179e\"],[0.4444444444444444,\"#bd3786\"],[0.5555555555555556,\"#d8576b\"],[0.6666666666666666,\"#ed7953\"],[0.7777777777777778,\"#fb9f3a\"],[0.8888888888888888,\"#fdca26\"],[1.0,\"#f0f921\"]],\"type\":\"heatmapgl\"}],\"histogram\":[{\"marker\":{\"pattern\":{\"fillmode\":\"overlay\",\"size\":10,\"solidity\":0.2}},\"type\":\"histogram\"}],\"histogram2d\":[{\"colorbar\":{\"outlinewidth\":0,\"ticks\":\"\"},\"colorscale\":[[0.0,\"#0d0887\"],[0.1111111111111111,\"#46039f\"],[0.2222222222222222,\"#7201a8\"],[0.3333333333333333,\"#9c179e\"],[0.4444444444444444,\"#bd3786\"],[0.5555555555555556,\"#d8576b\"],[0.6666666666666666,\"#ed7953\"],[0.7777777777777778,\"#fb9f3a\"],[0.8888888888888888,\"#fdca26\"],[1.0,\"#f0f921\"]],\"type\":\"histogram2d\"}],\"histogram2dcontour\":[{\"colorbar\":{\"outlinewidth\":0,\"ticks\":\"\"},\"colorscale\":[[0.0,\"#0d0887\"],[0.1111111111111111,\"#46039f\"],[0.2222222222222222,\"#7201a8\"],[0.3333333333333333,\"#9c179e\"],[0.4444444444444444,\"#bd3786\"],[0.5555555555555556,\"#d8576b\"],[0.6666666666666666,\"#ed7953\"],[0.7777777777777778,\"#fb9f3a\"],[0.8888888888888888,\"#fdca26\"],[1.0,\"#f0f921\"]],\"type\":\"histogram2dcontour\"}],\"mesh3d\":[{\"colorbar\":{\"outlinewidth\":0,\"ticks\":\"\"},\"type\":\"mesh3d\"}],\"parcoords\":[{\"line\":{\"colorbar\":{\"outlinewidth\":0,\"ticks\":\"\"}},\"type\":\"parcoords\"}],\"pie\":[{\"automargin\":true,\"type\":\"pie\"}],\"scatter\":[{\"marker\":{\"colorbar\":{\"outlinewidth\":0,\"ticks\":\"\"}},\"type\":\"scatter\"}],\"scatter3d\":[{\"line\":{\"colorbar\":{\"outlinewidth\":0,\"ticks\":\"\"}},\"marker\":{\"colorbar\":{\"outlinewidth\":0,\"ticks\":\"\"}},\"type\":\"scatter3d\"}],\"scattercarpet\":[{\"marker\":{\"colorbar\":{\"outlinewidth\":0,\"ticks\":\"\"}},\"type\":\"scattercarpet\"}],\"scattergeo\":[{\"marker\":{\"colorbar\":{\"outlinewidth\":0,\"ticks\":\"\"}},\"type\":\"scattergeo\"}],\"scattergl\":[{\"marker\":{\"colorbar\":{\"outlinewidth\":0,\"ticks\":\"\"}},\"type\":\"scattergl\"}],\"scattermapbox\":[{\"marker\":{\"colorbar\":{\"outlinewidth\":0,\"ticks\":\"\"}},\"type\":\"scattermapbox\"}],\"scatterpolar\":[{\"marker\":{\"colorbar\":{\"outlinewidth\":0,\"ticks\":\"\"}},\"type\":\"scatterpolar\"}],\"scatterpolargl\":[{\"marker\":{\"colorbar\":{\"outlinewidth\":0,\"ticks\":\"\"}},\"type\":\"scatterpolargl\"}],\"scatterternary\":[{\"marker\":{\"colorbar\":{\"outlinewidth\":0,\"ticks\":\"\"}},\"type\":\"scatterternary\"}],\"surface\":[{\"colorbar\":{\"outlinewidth\":0,\"ticks\":\"\"},\"colorscale\":[[0.0,\"#0d0887\"],[0.1111111111111111,\"#46039f\"],[0.2222222222222222,\"#7201a8\"],[0.3333333333333333,\"#9c179e\"],[0.4444444444444444,\"#bd3786\"],[0.5555555555555556,\"#d8576b\"],[0.6666666666666666,\"#ed7953\"],[0.7777777777777778,\"#fb9f3a\"],[0.8888888888888888,\"#fdca26\"],[1.0,\"#f0f921\"]],\"type\":\"surface\"}],\"table\":[{\"cells\":{\"fill\":{\"color\":\"#EBF0F8\"},\"line\":{\"color\":\"white\"}},\"header\":{\"fill\":{\"color\":\"#C8D4E3\"},\"line\":{\"color\":\"white\"}},\"type\":\"table\"}]},\"layout\":{\"annotationdefaults\":{\"arrowcolor\":\"#2a3f5f\",\"arrowhead\":0,\"arrowwidth\":1},\"autotypenumbers\":\"strict\",\"coloraxis\":{\"colorbar\":{\"outlinewidth\":0,\"ticks\":\"\"}},\"colorscale\":{\"diverging\":[[0,\"#8e0152\"],[0.1,\"#c51b7d\"],[0.2,\"#de77ae\"],[0.3,\"#f1b6da\"],[0.4,\"#fde0ef\"],[0.5,\"#f7f7f7\"],[0.6,\"#e6f5d0\"],[0.7,\"#b8e186\"],[0.8,\"#7fbc41\"],[0.9,\"#4d9221\"],[1,\"#276419\"]],\"sequential\":[[0.0,\"#0d0887\"],[0.1111111111111111,\"#46039f\"],[0.2222222222222222,\"#7201a8\"],[0.3333333333333333,\"#9c179e\"],[0.4444444444444444,\"#bd3786\"],[0.5555555555555556,\"#d8576b\"],[0.6666666666666666,\"#ed7953\"],[0.7777777777777778,\"#fb9f3a\"],[0.8888888888888888,\"#fdca26\"],[1.0,\"#f0f921\"]],\"sequentialminus\":[[0.0,\"#0d0887\"],[0.1111111111111111,\"#46039f\"],[0.2222222222222222,\"#7201a8\"],[0.3333333333333333,\"#9c179e\"],[0.4444444444444444,\"#bd3786\"],[0.5555555555555556,\"#d8576b\"],[0.6666666666666666,\"#ed7953\"],[0.7777777777777778,\"#fb9f3a\"],[0.8888888888888888,\"#fdca26\"],[1.0,\"#f0f921\"]]},\"colorway\":[\"#636efa\",\"#EF553B\",\"#00cc96\",\"#ab63fa\",\"#FFA15A\",\"#19d3f3\",\"#FF6692\",\"#B6E880\",\"#FF97FF\",\"#FECB52\"],\"font\":{\"color\":\"#2a3f5f\"},\"geo\":{\"bgcolor\":\"white\",\"lakecolor\":\"white\",\"landcolor\":\"#E5ECF6\",\"showlakes\":true,\"showland\":true,\"subunitcolor\":\"white\"},\"hoverlabel\":{\"align\":\"left\"},\"hovermode\":\"closest\",\"mapbox\":{\"style\":\"light\"},\"paper_bgcolor\":\"white\",\"plot_bgcolor\":\"#E5ECF6\",\"polar\":{\"angularaxis\":{\"gridcolor\":\"white\",\"linecolor\":\"white\",\"ticks\":\"\"},\"bgcolor\":\"#E5ECF6\",\"radialaxis\":{\"gridcolor\":\"white\",\"linecolor\":\"white\",\"ticks\":\"\"}},\"scene\":{\"xaxis\":{\"backgroundcolor\":\"#E5ECF6\",\"gridcolor\":\"white\",\"gridwidth\":2,\"linecolor\":\"white\",\"showbackground\":true,\"ticks\":\"\",\"zerolinecolor\":\"white\"},\"yaxis\":{\"backgroundcolor\":\"#E5ECF6\",\"gridcolor\":\"white\",\"gridwidth\":2,\"linecolor\":\"white\",\"showbackground\":true,\"ticks\":\"\",\"zerolinecolor\":\"white\"},\"zaxis\":{\"backgroundcolor\":\"#E5ECF6\",\"gridcolor\":\"white\",\"gridwidth\":2,\"linecolor\":\"white\",\"showbackground\":true,\"ticks\":\"\",\"zerolinecolor\":\"white\"}},\"shapedefaults\":{\"line\":{\"color\":\"#2a3f5f\"}},\"ternary\":{\"aaxis\":{\"gridcolor\":\"white\",\"linecolor\":\"white\",\"ticks\":\"\"},\"baxis\":{\"gridcolor\":\"white\",\"linecolor\":\"white\",\"ticks\":\"\"},\"bgcolor\":\"#E5ECF6\",\"caxis\":{\"gridcolor\":\"white\",\"linecolor\":\"white\",\"ticks\":\"\"}},\"title\":{\"x\":0.05},\"xaxis\":{\"automargin\":true,\"gridcolor\":\"white\",\"linecolor\":\"white\",\"ticks\":\"\",\"title\":{\"standoff\":15},\"zerolinecolor\":\"white\",\"zerolinewidth\":2},\"yaxis\":{\"automargin\":true,\"gridcolor\":\"white\",\"linecolor\":\"white\",\"ticks\":\"\",\"title\":{\"standoff\":15},\"zerolinecolor\":\"white\",\"zerolinewidth\":2}}}},                        {\"responsive\": true}                    ).then(function(){\n",
       "                            \n",
       "var gd = document.getElementById('6f467525-40fa-4b35-a583-aa4211dd1a17');\n",
       "var x = new MutationObserver(function (mutations, observer) {{\n",
       "        var display = window.getComputedStyle(gd).display;\n",
       "        if (!display || display === 'none') {{\n",
       "            console.log([gd, 'removed!']);\n",
       "            Plotly.purge(gd);\n",
       "            observer.disconnect();\n",
       "        }}\n",
       "}});\n",
       "\n",
       "// Listen for the removal of the full notebook cells\n",
       "var notebookContainer = gd.closest('#notebook-container');\n",
       "if (notebookContainer) {{\n",
       "    x.observe(notebookContainer, {childList: true});\n",
       "}}\n",
       "\n",
       "// Listen for the clearing of the current output cell\n",
       "var outputEl = gd.closest('.output');\n",
       "if (outputEl) {{\n",
       "    x.observe(outputEl, {childList: true});\n",
       "}}\n",
       "\n",
       "                        })                };                });            </script>        </div>"
      ]
     },
     "metadata": {},
     "output_type": "display_data"
    }
   ],
   "source": [
    "# Parallel Coordinates Plot\n",
    "px.parallel_coordinates(df_expensive_neighborhoods_per_year[['sale_price_sqr_foot','housing_units','gross_rent']], color = 'sale_price_sqr_foot')"
   ]
  },
  {
   "cell_type": "markdown",
   "metadata": {},
   "source": [
    "### Create a sunburst chart to conduct a costs analysis of most expensive neighborhoods in San Francisco per year"
   ]
  },
  {
   "cell_type": "code",
   "execution_count": 238,
   "metadata": {},
   "outputs": [
    {
     "data": {
      "application/vnd.plotly.v1+json": {
       "config": {
        "plotlyServerURL": "https://plot.ly"
       },
       "data": [
        {
         "branchvalues": "total",
         "customdata": [
          [
           1239
          ],
          [
           1529.9999999999998
          ],
          [
           2324
          ],
          [
           2971
          ],
          [
           3527.9999999999995
          ],
          [
           3739.0000000000005
          ],
          [
           4390
          ],
          [
           2324
          ],
          [
           3528
          ],
          [
           4390
          ],
          [
           1239
          ],
          [
           1530
          ],
          [
           2324
          ],
          [
           3528.0000000000005
          ],
          [
           1239
          ],
          [
           1530
          ],
          [
           2324
          ],
          [
           2971
          ],
          [
           3528
          ],
          [
           3739
          ],
          [
           4390
          ],
          [
           1239
          ],
          [
           1530
          ],
          [
           2324
          ],
          [
           2971
          ],
          [
           3528
          ],
          [
           3739
          ],
          [
           4390
          ],
          [
           1239
          ],
          [
           1530
          ],
          [
           2324
          ],
          [
           2971
          ],
          [
           3528
          ],
          [
           4390
          ],
          [
           1239
          ],
          [
           1529.9999999999998
          ],
          [
           3528
          ],
          [
           1239
          ],
          [
           1530
          ],
          [
           2324
          ],
          [
           2971
          ],
          [
           3527.9999999999995
          ],
          [
           3739
          ],
          [
           4390
          ],
          [
           1239
          ],
          [
           1530
          ],
          [
           2324
          ],
          [
           2971
          ],
          [
           3528
          ],
          [
           3739.0000000000005
          ],
          [
           3528.0000000000005
          ],
          [
           4390
          ],
          [
           1238.9999999999998
          ],
          [
           1530
          ],
          [
           2323.9999999999995
          ],
          [
           2971
          ],
          [
           3528
          ],
          [
           3739
          ],
          [
           4390
          ]
         ],
         "domain": {
          "x": [
           0,
           1
          ],
          "y": [
           0,
           1
          ]
         },
         "hovertemplate": "labels=%{label}<br>sale_price_sqr_foot=%{value}<br>parent=%{parent}<br>id=%{id}<br>gross_rent=%{color}<extra></extra>",
         "ids": [
          "2010/Cow Hollow",
          "2011/Cow Hollow",
          "2012/Cow Hollow",
          "2013/Cow Hollow",
          "2014/Cow Hollow",
          "2015/Cow Hollow",
          "2016/Cow Hollow",
          "2012/Merced Heights",
          "2014/Merced Heights",
          "2016/Merced Heights",
          "2010/Miraloma Park",
          "2011/Miraloma Park",
          "2012/Miraloma Park",
          "2014/Miraloma Park",
          "2010/Pacific Heights",
          "2011/Pacific Heights",
          "2012/Pacific Heights",
          "2013/Pacific Heights",
          "2014/Pacific Heights",
          "2015/Pacific Heights",
          "2016/Pacific Heights",
          "2010/Potrero Hill",
          "2011/Potrero Hill",
          "2012/Potrero Hill",
          "2013/Potrero Hill",
          "2014/Potrero Hill",
          "2015/Potrero Hill",
          "2016/Potrero Hill",
          "2010/Presidio Heights",
          "2011/Presidio Heights",
          "2012/Presidio Heights",
          "2013/Presidio Heights",
          "2014/Presidio Heights",
          "2016/Presidio Heights",
          "2010/South Beach",
          "2011/South Beach",
          "2014/South Beach",
          "2010/Telegraph Hill",
          "2011/Telegraph Hill",
          "2012/Telegraph Hill",
          "2013/Telegraph Hill",
          "2014/Telegraph Hill",
          "2015/Telegraph Hill",
          "2016/Telegraph Hill",
          "2010/Union Square District",
          "2011/Union Square District",
          "2012/Union Square District",
          "2013/Union Square District",
          "2014/Union Square District",
          "2015/Union Square District",
          "2014/Westwood Park",
          "2016/Westwood Park",
          "2010",
          "2011",
          "2012",
          "2013",
          "2014",
          "2015",
          "2016"
         ],
         "labels": [
          "Cow Hollow",
          "Cow Hollow",
          "Cow Hollow",
          "Cow Hollow",
          "Cow Hollow",
          "Cow Hollow",
          "Cow Hollow",
          "Merced Heights",
          "Merced Heights",
          "Merced Heights",
          "Miraloma Park",
          "Miraloma Park",
          "Miraloma Park",
          "Miraloma Park",
          "Pacific Heights",
          "Pacific Heights",
          "Pacific Heights",
          "Pacific Heights",
          "Pacific Heights",
          "Pacific Heights",
          "Pacific Heights",
          "Potrero Hill",
          "Potrero Hill",
          "Potrero Hill",
          "Potrero Hill",
          "Potrero Hill",
          "Potrero Hill",
          "Potrero Hill",
          "Presidio Heights",
          "Presidio Heights",
          "Presidio Heights",
          "Presidio Heights",
          "Presidio Heights",
          "Presidio Heights",
          "South Beach",
          "South Beach",
          "South Beach",
          "Telegraph Hill",
          "Telegraph Hill",
          "Telegraph Hill",
          "Telegraph Hill",
          "Telegraph Hill",
          "Telegraph Hill",
          "Telegraph Hill",
          "Union Square District",
          "Union Square District",
          "Union Square District",
          "Union Square District",
          "Union Square District",
          "Union Square District",
          "Westwood Park",
          "Westwood Park",
          "2010",
          "2011",
          "2012",
          "2013",
          "2014",
          "2015",
          "2016"
         ],
         "marker": {
          "coloraxis": "coloraxis",
          "colors": [
           1239,
           1529.9999999999998,
           2324,
           2971,
           3527.9999999999995,
           3739.0000000000005,
           4390,
           2324,
           3528,
           4390,
           1239,
           1530,
           2324,
           3528.0000000000005,
           1239,
           1530,
           2324,
           2971,
           3528,
           3739,
           4390,
           1239,
           1530,
           2324,
           2971,
           3528,
           3739,
           4390,
           1239,
           1530,
           2324,
           2971,
           3528,
           4390,
           1239,
           1529.9999999999998,
           3528,
           1239,
           1530,
           2324,
           2971,
           3527.9999999999995,
           3739,
           4390,
           1239,
           1530,
           2324,
           2971,
           3528,
           3739.0000000000005,
           3528.0000000000005,
           4390,
           1238.9999999999998,
           1530,
           2323.9999999999995,
           2971,
           3528,
           3739,
           4390
          ]
         },
         "name": "",
         "parents": [
          "2010",
          "2011",
          "2012",
          "2013",
          "2014",
          "2015",
          "2016",
          "2012",
          "2014",
          "2016",
          "2010",
          "2011",
          "2012",
          "2014",
          "2010",
          "2011",
          "2012",
          "2013",
          "2014",
          "2015",
          "2016",
          "2010",
          "2011",
          "2012",
          "2013",
          "2014",
          "2015",
          "2016",
          "2010",
          "2011",
          "2012",
          "2013",
          "2014",
          "2016",
          "2010",
          "2011",
          "2014",
          "2010",
          "2011",
          "2012",
          "2013",
          "2014",
          "2015",
          "2016",
          "2010",
          "2011",
          "2012",
          "2013",
          "2014",
          "2015",
          "2014",
          "2016",
          "",
          "",
          "",
          "",
          "",
          "",
          ""
         ],
         "type": "sunburst",
         "values": [
          569.3799679261333,
          390.5956530284181,
          644.8183066758802,
          707.4028088888208,
          691.8654114838455,
          598.6205414959002,
          1059.0656015492618,
          421.1412447061912,
          528.7265413888829,
          1416.6666666666667,
          680.6087291389301,
          414.6760647760375,
          756.1923725098497,
          1267.7662026328828,
          496.5160141469498,
          509.0214800287398,
          586.2182148097696,
          503.8992613300536,
          824.6586936349588,
          910.1876901656898,
          996.3893635634032,
          491.45000385678617,
          503.13850456030497,
          466.6478402167172,
          598.704795328917,
          1045.2015459222662,
          821.3009904764873,
          707.6516094320913,
          549.4179312485746,
          493.814917282618,
          426.6085920717133,
          512.8402484358224,
          603.4509968798565,
          1465.9685863874345,
          1037.0997886617895,
          388.6443367815386,
          524.6293121403909,
          524.7935090952678,
          483.4057725178001,
          465.8021216317738,
          653.3116166908643,
          708.1930316849231,
          996.9902204858652,
          903.0497705987848,
          569.1934475267735,
          302.1232528096913,
          445.1967876448792,
          1290.472106646641,
          558.2711194060469,
          2258.702831998355,
          742.9797231632552,
          631.1954258724091,
          4918.459391601205,
          3485.419981785148,
          4212.6254802667745,
          4266.6308373211195,
          7495.742578337309,
          5585.802274622298,
          7179.987024070051
         ]
        }
       ],
       "layout": {
        "autosize": true,
        "coloraxis": {
         "colorbar": {
          "title": {
           "text": "gross_rent"
          }
         },
         "colorscale": [
          [
           0,
           "#0d0887"
          ],
          [
           0.1111111111111111,
           "#46039f"
          ],
          [
           0.2222222222222222,
           "#7201a8"
          ],
          [
           0.3333333333333333,
           "#9c179e"
          ],
          [
           0.4444444444444444,
           "#bd3786"
          ],
          [
           0.5555555555555556,
           "#d8576b"
          ],
          [
           0.6666666666666666,
           "#ed7953"
          ],
          [
           0.7777777777777778,
           "#fb9f3a"
          ],
          [
           0.8888888888888888,
           "#fdca26"
          ],
          [
           1,
           "#f0f921"
          ]
         ]
        },
        "legend": {
         "tracegroupgap": 0
        },
        "template": {
         "data": {
          "bar": [
           {
            "error_x": {
             "color": "#2a3f5f"
            },
            "error_y": {
             "color": "#2a3f5f"
            },
            "marker": {
             "line": {
              "color": "#E5ECF6",
              "width": 0.5
             },
             "pattern": {
              "fillmode": "overlay",
              "size": 10,
              "solidity": 0.2
             }
            },
            "type": "bar"
           }
          ],
          "barpolar": [
           {
            "marker": {
             "line": {
              "color": "#E5ECF6",
              "width": 0.5
             },
             "pattern": {
              "fillmode": "overlay",
              "size": 10,
              "solidity": 0.2
             }
            },
            "type": "barpolar"
           }
          ],
          "carpet": [
           {
            "aaxis": {
             "endlinecolor": "#2a3f5f",
             "gridcolor": "white",
             "linecolor": "white",
             "minorgridcolor": "white",
             "startlinecolor": "#2a3f5f"
            },
            "baxis": {
             "endlinecolor": "#2a3f5f",
             "gridcolor": "white",
             "linecolor": "white",
             "minorgridcolor": "white",
             "startlinecolor": "#2a3f5f"
            },
            "type": "carpet"
           }
          ],
          "choropleth": [
           {
            "colorbar": {
             "outlinewidth": 0,
             "ticks": ""
            },
            "type": "choropleth"
           }
          ],
          "contour": [
           {
            "colorbar": {
             "outlinewidth": 0,
             "ticks": ""
            },
            "colorscale": [
             [
              0,
              "#0d0887"
             ],
             [
              0.1111111111111111,
              "#46039f"
             ],
             [
              0.2222222222222222,
              "#7201a8"
             ],
             [
              0.3333333333333333,
              "#9c179e"
             ],
             [
              0.4444444444444444,
              "#bd3786"
             ],
             [
              0.5555555555555556,
              "#d8576b"
             ],
             [
              0.6666666666666666,
              "#ed7953"
             ],
             [
              0.7777777777777778,
              "#fb9f3a"
             ],
             [
              0.8888888888888888,
              "#fdca26"
             ],
             [
              1,
              "#f0f921"
             ]
            ],
            "type": "contour"
           }
          ],
          "contourcarpet": [
           {
            "colorbar": {
             "outlinewidth": 0,
             "ticks": ""
            },
            "type": "contourcarpet"
           }
          ],
          "heatmap": [
           {
            "colorbar": {
             "outlinewidth": 0,
             "ticks": ""
            },
            "colorscale": [
             [
              0,
              "#0d0887"
             ],
             [
              0.1111111111111111,
              "#46039f"
             ],
             [
              0.2222222222222222,
              "#7201a8"
             ],
             [
              0.3333333333333333,
              "#9c179e"
             ],
             [
              0.4444444444444444,
              "#bd3786"
             ],
             [
              0.5555555555555556,
              "#d8576b"
             ],
             [
              0.6666666666666666,
              "#ed7953"
             ],
             [
              0.7777777777777778,
              "#fb9f3a"
             ],
             [
              0.8888888888888888,
              "#fdca26"
             ],
             [
              1,
              "#f0f921"
             ]
            ],
            "type": "heatmap"
           }
          ],
          "heatmapgl": [
           {
            "colorbar": {
             "outlinewidth": 0,
             "ticks": ""
            },
            "colorscale": [
             [
              0,
              "#0d0887"
             ],
             [
              0.1111111111111111,
              "#46039f"
             ],
             [
              0.2222222222222222,
              "#7201a8"
             ],
             [
              0.3333333333333333,
              "#9c179e"
             ],
             [
              0.4444444444444444,
              "#bd3786"
             ],
             [
              0.5555555555555556,
              "#d8576b"
             ],
             [
              0.6666666666666666,
              "#ed7953"
             ],
             [
              0.7777777777777778,
              "#fb9f3a"
             ],
             [
              0.8888888888888888,
              "#fdca26"
             ],
             [
              1,
              "#f0f921"
             ]
            ],
            "type": "heatmapgl"
           }
          ],
          "histogram": [
           {
            "marker": {
             "pattern": {
              "fillmode": "overlay",
              "size": 10,
              "solidity": 0.2
             }
            },
            "type": "histogram"
           }
          ],
          "histogram2d": [
           {
            "colorbar": {
             "outlinewidth": 0,
             "ticks": ""
            },
            "colorscale": [
             [
              0,
              "#0d0887"
             ],
             [
              0.1111111111111111,
              "#46039f"
             ],
             [
              0.2222222222222222,
              "#7201a8"
             ],
             [
              0.3333333333333333,
              "#9c179e"
             ],
             [
              0.4444444444444444,
              "#bd3786"
             ],
             [
              0.5555555555555556,
              "#d8576b"
             ],
             [
              0.6666666666666666,
              "#ed7953"
             ],
             [
              0.7777777777777778,
              "#fb9f3a"
             ],
             [
              0.8888888888888888,
              "#fdca26"
             ],
             [
              1,
              "#f0f921"
             ]
            ],
            "type": "histogram2d"
           }
          ],
          "histogram2dcontour": [
           {
            "colorbar": {
             "outlinewidth": 0,
             "ticks": ""
            },
            "colorscale": [
             [
              0,
              "#0d0887"
             ],
             [
              0.1111111111111111,
              "#46039f"
             ],
             [
              0.2222222222222222,
              "#7201a8"
             ],
             [
              0.3333333333333333,
              "#9c179e"
             ],
             [
              0.4444444444444444,
              "#bd3786"
             ],
             [
              0.5555555555555556,
              "#d8576b"
             ],
             [
              0.6666666666666666,
              "#ed7953"
             ],
             [
              0.7777777777777778,
              "#fb9f3a"
             ],
             [
              0.8888888888888888,
              "#fdca26"
             ],
             [
              1,
              "#f0f921"
             ]
            ],
            "type": "histogram2dcontour"
           }
          ],
          "mesh3d": [
           {
            "colorbar": {
             "outlinewidth": 0,
             "ticks": ""
            },
            "type": "mesh3d"
           }
          ],
          "parcoords": [
           {
            "line": {
             "colorbar": {
              "outlinewidth": 0,
              "ticks": ""
             }
            },
            "type": "parcoords"
           }
          ],
          "pie": [
           {
            "automargin": true,
            "type": "pie"
           }
          ],
          "scatter": [
           {
            "marker": {
             "colorbar": {
              "outlinewidth": 0,
              "ticks": ""
             }
            },
            "type": "scatter"
           }
          ],
          "scatter3d": [
           {
            "line": {
             "colorbar": {
              "outlinewidth": 0,
              "ticks": ""
             }
            },
            "marker": {
             "colorbar": {
              "outlinewidth": 0,
              "ticks": ""
             }
            },
            "type": "scatter3d"
           }
          ],
          "scattercarpet": [
           {
            "marker": {
             "colorbar": {
              "outlinewidth": 0,
              "ticks": ""
             }
            },
            "type": "scattercarpet"
           }
          ],
          "scattergeo": [
           {
            "marker": {
             "colorbar": {
              "outlinewidth": 0,
              "ticks": ""
             }
            },
            "type": "scattergeo"
           }
          ],
          "scattergl": [
           {
            "marker": {
             "colorbar": {
              "outlinewidth": 0,
              "ticks": ""
             }
            },
            "type": "scattergl"
           }
          ],
          "scattermapbox": [
           {
            "marker": {
             "colorbar": {
              "outlinewidth": 0,
              "ticks": ""
             }
            },
            "type": "scattermapbox"
           }
          ],
          "scatterpolar": [
           {
            "marker": {
             "colorbar": {
              "outlinewidth": 0,
              "ticks": ""
             }
            },
            "type": "scatterpolar"
           }
          ],
          "scatterpolargl": [
           {
            "marker": {
             "colorbar": {
              "outlinewidth": 0,
              "ticks": ""
             }
            },
            "type": "scatterpolargl"
           }
          ],
          "scatterternary": [
           {
            "marker": {
             "colorbar": {
              "outlinewidth": 0,
              "ticks": ""
             }
            },
            "type": "scatterternary"
           }
          ],
          "surface": [
           {
            "colorbar": {
             "outlinewidth": 0,
             "ticks": ""
            },
            "colorscale": [
             [
              0,
              "#0d0887"
             ],
             [
              0.1111111111111111,
              "#46039f"
             ],
             [
              0.2222222222222222,
              "#7201a8"
             ],
             [
              0.3333333333333333,
              "#9c179e"
             ],
             [
              0.4444444444444444,
              "#bd3786"
             ],
             [
              0.5555555555555556,
              "#d8576b"
             ],
             [
              0.6666666666666666,
              "#ed7953"
             ],
             [
              0.7777777777777778,
              "#fb9f3a"
             ],
             [
              0.8888888888888888,
              "#fdca26"
             ],
             [
              1,
              "#f0f921"
             ]
            ],
            "type": "surface"
           }
          ],
          "table": [
           {
            "cells": {
             "fill": {
              "color": "#EBF0F8"
             },
             "line": {
              "color": "white"
             }
            },
            "header": {
             "fill": {
              "color": "#C8D4E3"
             },
             "line": {
              "color": "white"
             }
            },
            "type": "table"
           }
          ]
         },
         "layout": {
          "annotationdefaults": {
           "arrowcolor": "#2a3f5f",
           "arrowhead": 0,
           "arrowwidth": 1
          },
          "autotypenumbers": "strict",
          "coloraxis": {
           "colorbar": {
            "outlinewidth": 0,
            "ticks": ""
           }
          },
          "colorscale": {
           "diverging": [
            [
             0,
             "#8e0152"
            ],
            [
             0.1,
             "#c51b7d"
            ],
            [
             0.2,
             "#de77ae"
            ],
            [
             0.3,
             "#f1b6da"
            ],
            [
             0.4,
             "#fde0ef"
            ],
            [
             0.5,
             "#f7f7f7"
            ],
            [
             0.6,
             "#e6f5d0"
            ],
            [
             0.7,
             "#b8e186"
            ],
            [
             0.8,
             "#7fbc41"
            ],
            [
             0.9,
             "#4d9221"
            ],
            [
             1,
             "#276419"
            ]
           ],
           "sequential": [
            [
             0,
             "#0d0887"
            ],
            [
             0.1111111111111111,
             "#46039f"
            ],
            [
             0.2222222222222222,
             "#7201a8"
            ],
            [
             0.3333333333333333,
             "#9c179e"
            ],
            [
             0.4444444444444444,
             "#bd3786"
            ],
            [
             0.5555555555555556,
             "#d8576b"
            ],
            [
             0.6666666666666666,
             "#ed7953"
            ],
            [
             0.7777777777777778,
             "#fb9f3a"
            ],
            [
             0.8888888888888888,
             "#fdca26"
            ],
            [
             1,
             "#f0f921"
            ]
           ],
           "sequentialminus": [
            [
             0,
             "#0d0887"
            ],
            [
             0.1111111111111111,
             "#46039f"
            ],
            [
             0.2222222222222222,
             "#7201a8"
            ],
            [
             0.3333333333333333,
             "#9c179e"
            ],
            [
             0.4444444444444444,
             "#bd3786"
            ],
            [
             0.5555555555555556,
             "#d8576b"
            ],
            [
             0.6666666666666666,
             "#ed7953"
            ],
            [
             0.7777777777777778,
             "#fb9f3a"
            ],
            [
             0.8888888888888888,
             "#fdca26"
            ],
            [
             1,
             "#f0f921"
            ]
           ]
          },
          "colorway": [
           "#636efa",
           "#EF553B",
           "#00cc96",
           "#ab63fa",
           "#FFA15A",
           "#19d3f3",
           "#FF6692",
           "#B6E880",
           "#FF97FF",
           "#FECB52"
          ],
          "font": {
           "color": "#2a3f5f"
          },
          "geo": {
           "bgcolor": "white",
           "lakecolor": "white",
           "landcolor": "#E5ECF6",
           "showlakes": true,
           "showland": true,
           "subunitcolor": "white"
          },
          "hoverlabel": {
           "align": "left"
          },
          "hovermode": "closest",
          "mapbox": {
           "style": "light"
          },
          "paper_bgcolor": "white",
          "plot_bgcolor": "#E5ECF6",
          "polar": {
           "angularaxis": {
            "gridcolor": "white",
            "linecolor": "white",
            "ticks": ""
           },
           "bgcolor": "#E5ECF6",
           "radialaxis": {
            "gridcolor": "white",
            "linecolor": "white",
            "ticks": ""
           }
          },
          "scene": {
           "xaxis": {
            "backgroundcolor": "#E5ECF6",
            "gridcolor": "white",
            "gridwidth": 2,
            "linecolor": "white",
            "showbackground": true,
            "ticks": "",
            "zerolinecolor": "white"
           },
           "yaxis": {
            "backgroundcolor": "#E5ECF6",
            "gridcolor": "white",
            "gridwidth": 2,
            "linecolor": "white",
            "showbackground": true,
            "ticks": "",
            "zerolinecolor": "white"
           },
           "zaxis": {
            "backgroundcolor": "#E5ECF6",
            "gridcolor": "white",
            "gridwidth": 2,
            "linecolor": "white",
            "showbackground": true,
            "ticks": "",
            "zerolinecolor": "white"
           }
          },
          "shapedefaults": {
           "line": {
            "color": "#2a3f5f"
           }
          },
          "ternary": {
           "aaxis": {
            "gridcolor": "white",
            "linecolor": "white",
            "ticks": ""
           },
           "baxis": {
            "gridcolor": "white",
            "linecolor": "white",
            "ticks": ""
           },
           "bgcolor": "#E5ECF6",
           "caxis": {
            "gridcolor": "white",
            "linecolor": "white",
            "ticks": ""
           }
          },
          "title": {
           "x": 0.05
          },
          "xaxis": {
           "automargin": true,
           "gridcolor": "white",
           "linecolor": "white",
           "ticks": "",
           "title": {
            "standoff": 15
           },
           "zerolinecolor": "white",
           "zerolinewidth": 2
          },
          "yaxis": {
           "automargin": true,
           "gridcolor": "white",
           "linecolor": "white",
           "ticks": "",
           "title": {
            "standoff": 15
           },
           "zerolinecolor": "white",
           "zerolinewidth": 2
          }
         }
        },
        "title": {
         "text": "Cost Analysis of Most Expensive neighborhoods in San Francisco per Year"
        }
       }
      },
      "image/png": "[encoded data removed]",
      "text/html": [
       "<div>                            <div id=\"64e63e0c-c01e-41ba-89c5-2fd14f789ab0\" class=\"plotly-graph-div\" style=\"height:525px; width:50px;\"></div>            <script type=\"text/javascript\">                require([\"plotly\"], function(Plotly) {                    window.PLOTLYENV=window.PLOTLYENV || {};                                    if (document.getElementById(\"64e63e0c-c01e-41ba-89c5-2fd14f789ab0\")) {                    Plotly.newPlot(                        \"64e63e0c-c01e-41ba-89c5-2fd14f789ab0\",                        [{\"branchvalues\":\"total\",\"customdata\":[[1239.0],[1529.9999999999998],[2324.0],[2971.0],[3527.9999999999995],[3739.0000000000005],[4390.0],[2324.0],[3528.0],[4390.0],[1239.0],[1530.0],[2324.0],[3528.0000000000005],[1239.0],[1530.0],[2324.0],[2971.0],[3528.0],[3739.0],[4390.0],[1239.0],[1530.0],[2324.0],[2971.0],[3528.0],[3739.0],[4390.0],[1239.0],[1530.0],[2324.0],[2971.0],[3528.0],[4390.0],[1239.0],[1529.9999999999998],[3528.0],[1239.0],[1530.0],[2324.0],[2971.0],[3527.9999999999995],[3739.0],[4390.0],[1239.0],[1530.0],[2324.0],[2971.0],[3528.0],[3739.0000000000005],[3528.0000000000005],[4390.0],[1238.9999999999998],[1530.0],[2323.9999999999995],[2971.0],[3528.0],[3739.0],[4390.0]],\"domain\":{\"x\":[0.0,1.0],\"y\":[0.0,1.0]},\"hovertemplate\":\"labels=%{label}<br>sale_price_sqr_foot=%{value}<br>parent=%{parent}<br>id=%{id}<br>gross_rent=%{color}<extra></extra>\",\"ids\":[\"2010/Cow Hollow\",\"2011/Cow Hollow\",\"2012/Cow Hollow\",\"2013/Cow Hollow\",\"2014/Cow Hollow\",\"2015/Cow Hollow\",\"2016/Cow Hollow\",\"2012/Merced Heights\",\"2014/Merced Heights\",\"2016/Merced Heights\",\"2010/Miraloma Park\",\"2011/Miraloma Park\",\"2012/Miraloma Park\",\"2014/Miraloma Park\",\"2010/Pacific Heights\",\"2011/Pacific Heights\",\"2012/Pacific Heights\",\"2013/Pacific Heights\",\"2014/Pacific Heights\",\"2015/Pacific Heights\",\"2016/Pacific Heights\",\"2010/Potrero Hill\",\"2011/Potrero Hill\",\"2012/Potrero Hill\",\"2013/Potrero Hill\",\"2014/Potrero Hill\",\"2015/Potrero Hill\",\"2016/Potrero Hill\",\"2010/Presidio Heights\",\"2011/Presidio Heights\",\"2012/Presidio Heights\",\"2013/Presidio Heights\",\"2014/Presidio Heights\",\"2016/Presidio Heights\",\"2010/South Beach\",\"2011/South Beach\",\"2014/South Beach\",\"2010/Telegraph Hill\",\"2011/Telegraph Hill\",\"2012/Telegraph Hill\",\"2013/Telegraph Hill\",\"2014/Telegraph Hill\",\"2015/Telegraph Hill\",\"2016/Telegraph Hill\",\"2010/Union Square District\",\"2011/Union Square District\",\"2012/Union Square District\",\"2013/Union Square District\",\"2014/Union Square District\",\"2015/Union Square District\",\"2014/Westwood Park\",\"2016/Westwood Park\",\"2010\",\"2011\",\"2012\",\"2013\",\"2014\",\"2015\",\"2016\"],\"labels\":[\"Cow Hollow\",\"Cow Hollow\",\"Cow Hollow\",\"Cow Hollow\",\"Cow Hollow\",\"Cow Hollow\",\"Cow Hollow\",\"Merced Heights\",\"Merced Heights\",\"Merced Heights\",\"Miraloma Park\",\"Miraloma Park\",\"Miraloma Park\",\"Miraloma Park\",\"Pacific Heights\",\"Pacific Heights\",\"Pacific Heights\",\"Pacific Heights\",\"Pacific Heights\",\"Pacific Heights\",\"Pacific Heights\",\"Potrero Hill\",\"Potrero Hill\",\"Potrero Hill\",\"Potrero Hill\",\"Potrero Hill\",\"Potrero Hill\",\"Potrero Hill\",\"Presidio Heights\",\"Presidio Heights\",\"Presidio Heights\",\"Presidio Heights\",\"Presidio Heights\",\"Presidio Heights\",\"South Beach\",\"South Beach\",\"South Beach\",\"Telegraph Hill\",\"Telegraph Hill\",\"Telegraph Hill\",\"Telegraph Hill\",\"Telegraph Hill\",\"Telegraph Hill\",\"Telegraph Hill\",\"Union Square District\",\"Union Square District\",\"Union Square District\",\"Union Square District\",\"Union Square District\",\"Union Square District\",\"Westwood Park\",\"Westwood Park\",\"2010\",\"2011\",\"2012\",\"2013\",\"2014\",\"2015\",\"2016\"],\"marker\":{\"coloraxis\":\"coloraxis\",\"colors\":[1239.0,1529.9999999999998,2324.0,2971.0,3527.9999999999995,3739.0000000000005,4390.0,2324.0,3528.0,4390.0,1239.0,1530.0,2324.0,3528.0000000000005,1239.0,1530.0,2324.0,2971.0,3528.0,3739.0,4390.0,1239.0,1530.0,2324.0,2971.0,3528.0,3739.0,4390.0,1239.0,1530.0,2324.0,2971.0,3528.0,4390.0,1239.0,1529.9999999999998,3528.0,1239.0,1530.0,2324.0,2971.0,3527.9999999999995,3739.0,4390.0,1239.0,1530.0,2324.0,2971.0,3528.0,3739.0000000000005,3528.0000000000005,4390.0,1238.9999999999998,1530.0,2323.9999999999995,2971.0,3528.0,3739.0,4390.0]},\"name\":\"\",\"parents\":[\"2010\",\"2011\",\"2012\",\"2013\",\"2014\",\"2015\",\"2016\",\"2012\",\"2014\",\"2016\",\"2010\",\"2011\",\"2012\",\"2014\",\"2010\",\"2011\",\"2012\",\"2013\",\"2014\",\"2015\",\"2016\",\"2010\",\"2011\",\"2012\",\"2013\",\"2014\",\"2015\",\"2016\",\"2010\",\"2011\",\"2012\",\"2013\",\"2014\",\"2016\",\"2010\",\"2011\",\"2014\",\"2010\",\"2011\",\"2012\",\"2013\",\"2014\",\"2015\",\"2016\",\"2010\",\"2011\",\"2012\",\"2013\",\"2014\",\"2015\",\"2014\",\"2016\",\"\",\"\",\"\",\"\",\"\",\"\",\"\"],\"type\":\"sunburst\",\"values\":[569.3799679261333,390.5956530284181,644.8183066758802,707.4028088888208,691.8654114838455,598.6205414959002,1059.0656015492618,421.1412447061912,528.7265413888829,1416.6666666666667,680.6087291389301,414.6760647760375,756.1923725098497,1267.7662026328828,496.5160141469498,509.0214800287398,586.2182148097696,503.8992613300536,824.6586936349588,910.1876901656898,996.3893635634032,491.45000385678617,503.13850456030497,466.6478402167172,598.704795328917,1045.2015459222662,821.3009904764873,707.6516094320913,549.4179312485746,493.814917282618,426.6085920717133,512.8402484358224,603.4509968798565,1465.9685863874345,1037.0997886617895,388.6443367815386,524.6293121403909,524.7935090952678,483.4057725178001,465.8021216317738,653.3116166908643,708.1930316849231,996.9902204858652,903.0497705987848,569.1934475267735,302.1232528096913,445.1967876448792,1290.472106646641,558.2711194060469,2258.702831998355,742.9797231632552,631.1954258724091,4918.459391601205,3485.419981785148,4212.6254802667745,4266.6308373211195,7495.742578337309,5585.802274622298,7179.987024070051]}],                        {\"coloraxis\":{\"colorbar\":{\"title\":{\"text\":\"gross_rent\"}},\"colorscale\":[[0.0,\"#0d0887\"],[0.1111111111111111,\"#46039f\"],[0.2222222222222222,\"#7201a8\"],[0.3333333333333333,\"#9c179e\"],[0.4444444444444444,\"#bd3786\"],[0.5555555555555556,\"#d8576b\"],[0.6666666666666666,\"#ed7953\"],[0.7777777777777778,\"#fb9f3a\"],[0.8888888888888888,\"#fdca26\"],[1.0,\"#f0f921\"]]},\"legend\":{\"tracegroupgap\":0},\"template\":{\"data\":{\"bar\":[{\"error_x\":{\"color\":\"#2a3f5f\"},\"error_y\":{\"color\":\"#2a3f5f\"},\"marker\":{\"line\":{\"color\":\"#E5ECF6\",\"width\":0.5},\"pattern\":{\"fillmode\":\"overlay\",\"size\":10,\"solidity\":0.2}},\"type\":\"bar\"}],\"barpolar\":[{\"marker\":{\"line\":{\"color\":\"#E5ECF6\",\"width\":0.5},\"pattern\":{\"fillmode\":\"overlay\",\"size\":10,\"solidity\":0.2}},\"type\":\"barpolar\"}],\"carpet\":[{\"aaxis\":{\"endlinecolor\":\"#2a3f5f\",\"gridcolor\":\"white\",\"linecolor\":\"white\",\"minorgridcolor\":\"white\",\"startlinecolor\":\"#2a3f5f\"},\"baxis\":{\"endlinecolor\":\"#2a3f5f\",\"gridcolor\":\"white\",\"linecolor\":\"white\",\"minorgridcolor\":\"white\",\"startlinecolor\":\"#2a3f5f\"},\"type\":\"carpet\"}],\"choropleth\":[{\"colorbar\":{\"outlinewidth\":0,\"ticks\":\"\"},\"type\":\"choropleth\"}],\"contour\":[{\"colorbar\":{\"outlinewidth\":0,\"ticks\":\"\"},\"colorscale\":[[0.0,\"#0d0887\"],[0.1111111111111111,\"#46039f\"],[0.2222222222222222,\"#7201a8\"],[0.3333333333333333,\"#9c179e\"],[0.4444444444444444,\"#bd3786\"],[0.5555555555555556,\"#d8576b\"],[0.6666666666666666,\"#ed7953\"],[0.7777777777777778,\"#fb9f3a\"],[0.8888888888888888,\"#fdca26\"],[1.0,\"#f0f921\"]],\"type\":\"contour\"}],\"contourcarpet\":[{\"colorbar\":{\"outlinewidth\":0,\"ticks\":\"\"},\"type\":\"contourcarpet\"}],\"heatmap\":[{\"colorbar\":{\"outlinewidth\":0,\"ticks\":\"\"},\"colorscale\":[[0.0,\"#0d0887\"],[0.1111111111111111,\"#46039f\"],[0.2222222222222222,\"#7201a8\"],[0.3333333333333333,\"#9c179e\"],[0.4444444444444444,\"#bd3786\"],[0.5555555555555556,\"#d8576b\"],[0.6666666666666666,\"#ed7953\"],[0.7777777777777778,\"#fb9f3a\"],[0.8888888888888888,\"#fdca26\"],[1.0,\"#f0f921\"]],\"type\":\"heatmap\"}],\"heatmapgl\":[{\"colorbar\":{\"outlinewidth\":0,\"ticks\":\"\"},\"colorscale\":[[0.0,\"#0d0887\"],[0.1111111111111111,\"#46039f\"],[0.2222222222222222,\"#7201a8\"],[0.3333333333333333,\"#9c179e\"],[0.4444444444444444,\"#bd3786\"],[0.5555555555555556,\"#d8576b\"],[0.6666666666666666,\"#ed7953\"],[0.7777777777777778,\"#fb9f3a\"],[0.8888888888888888,\"#fdca26\"],[1.0,\"#f0f921\"]],\"type\":\"heatmapgl\"}],\"histogram\":[{\"marker\":{\"pattern\":{\"fillmode\":\"overlay\",\"size\":10,\"solidity\":0.2}},\"type\":\"histogram\"}],\"histogram2d\":[{\"colorbar\":{\"outlinewidth\":0,\"ticks\":\"\"},\"colorscale\":[[0.0,\"#0d0887\"],[0.1111111111111111,\"#46039f\"],[0.2222222222222222,\"#7201a8\"],[0.3333333333333333,\"#9c179e\"],[0.4444444444444444,\"#bd3786\"],[0.5555555555555556,\"#d8576b\"],[0.6666666666666666,\"#ed7953\"],[0.7777777777777778,\"#fb9f3a\"],[0.8888888888888888,\"#fdca26\"],[1.0,\"#f0f921\"]],\"type\":\"histogram2d\"}],\"histogram2dcontour\":[{\"colorbar\":{\"outlinewidth\":0,\"ticks\":\"\"},\"colorscale\":[[0.0,\"#0d0887\"],[0.1111111111111111,\"#46039f\"],[0.2222222222222222,\"#7201a8\"],[0.3333333333333333,\"#9c179e\"],[0.4444444444444444,\"#bd3786\"],[0.5555555555555556,\"#d8576b\"],[0.6666666666666666,\"#ed7953\"],[0.7777777777777778,\"#fb9f3a\"],[0.8888888888888888,\"#fdca26\"],[1.0,\"#f0f921\"]],\"type\":\"histogram2dcontour\"}],\"mesh3d\":[{\"colorbar\":{\"outlinewidth\":0,\"ticks\":\"\"},\"type\":\"mesh3d\"}],\"parcoords\":[{\"line\":{\"colorbar\":{\"outlinewidth\":0,\"ticks\":\"\"}},\"type\":\"parcoords\"}],\"pie\":[{\"automargin\":true,\"type\":\"pie\"}],\"scatter\":[{\"marker\":{\"colorbar\":{\"outlinewidth\":0,\"ticks\":\"\"}},\"type\":\"scatter\"}],\"scatter3d\":[{\"line\":{\"colorbar\":{\"outlinewidth\":0,\"ticks\":\"\"}},\"marker\":{\"colorbar\":{\"outlinewidth\":0,\"ticks\":\"\"}},\"type\":\"scatter3d\"}],\"scattercarpet\":[{\"marker\":{\"colorbar\":{\"outlinewidth\":0,\"ticks\":\"\"}},\"type\":\"scattercarpet\"}],\"scattergeo\":[{\"marker\":{\"colorbar\":{\"outlinewidth\":0,\"ticks\":\"\"}},\"type\":\"scattergeo\"}],\"scattergl\":[{\"marker\":{\"colorbar\":{\"outlinewidth\":0,\"ticks\":\"\"}},\"type\":\"scattergl\"}],\"scattermapbox\":[{\"marker\":{\"colorbar\":{\"outlinewidth\":0,\"ticks\":\"\"}},\"type\":\"scattermapbox\"}],\"scatterpolar\":[{\"marker\":{\"colorbar\":{\"outlinewidth\":0,\"ticks\":\"\"}},\"type\":\"scatterpolar\"}],\"scatterpolargl\":[{\"marker\":{\"colorbar\":{\"outlinewidth\":0,\"ticks\":\"\"}},\"type\":\"scatterpolargl\"}],\"scatterternary\":[{\"marker\":{\"colorbar\":{\"outlinewidth\":0,\"ticks\":\"\"}},\"type\":\"scatterternary\"}],\"surface\":[{\"colorbar\":{\"outlinewidth\":0,\"ticks\":\"\"},\"colorscale\":[[0.0,\"#0d0887\"],[0.1111111111111111,\"#46039f\"],[0.2222222222222222,\"#7201a8\"],[0.3333333333333333,\"#9c179e\"],[0.4444444444444444,\"#bd3786\"],[0.5555555555555556,\"#d8576b\"],[0.6666666666666666,\"#ed7953\"],[0.7777777777777778,\"#fb9f3a\"],[0.8888888888888888,\"#fdca26\"],[1.0,\"#f0f921\"]],\"type\":\"surface\"}],\"table\":[{\"cells\":{\"fill\":{\"color\":\"#EBF0F8\"},\"line\":{\"color\":\"white\"}},\"header\":{\"fill\":{\"color\":\"#C8D4E3\"},\"line\":{\"color\":\"white\"}},\"type\":\"table\"}]},\"layout\":{\"annotationdefaults\":{\"arrowcolor\":\"#2a3f5f\",\"arrowhead\":0,\"arrowwidth\":1},\"autotypenumbers\":\"strict\",\"coloraxis\":{\"colorbar\":{\"outlinewidth\":0,\"ticks\":\"\"}},\"colorscale\":{\"diverging\":[[0,\"#8e0152\"],[0.1,\"#c51b7d\"],[0.2,\"#de77ae\"],[0.3,\"#f1b6da\"],[0.4,\"#fde0ef\"],[0.5,\"#f7f7f7\"],[0.6,\"#e6f5d0\"],[0.7,\"#b8e186\"],[0.8,\"#7fbc41\"],[0.9,\"#4d9221\"],[1,\"#276419\"]],\"sequential\":[[0.0,\"#0d0887\"],[0.1111111111111111,\"#46039f\"],[0.2222222222222222,\"#7201a8\"],[0.3333333333333333,\"#9c179e\"],[0.4444444444444444,\"#bd3786\"],[0.5555555555555556,\"#d8576b\"],[0.6666666666666666,\"#ed7953\"],[0.7777777777777778,\"#fb9f3a\"],[0.8888888888888888,\"#fdca26\"],[1.0,\"#f0f921\"]],\"sequentialminus\":[[0.0,\"#0d0887\"],[0.1111111111111111,\"#46039f\"],[0.2222222222222222,\"#7201a8\"],[0.3333333333333333,\"#9c179e\"],[0.4444444444444444,\"#bd3786\"],[0.5555555555555556,\"#d8576b\"],[0.6666666666666666,\"#ed7953\"],[0.7777777777777778,\"#fb9f3a\"],[0.8888888888888888,\"#fdca26\"],[1.0,\"#f0f921\"]]},\"colorway\":[\"#636efa\",\"#EF553B\",\"#00cc96\",\"#ab63fa\",\"#FFA15A\",\"#19d3f3\",\"#FF6692\",\"#B6E880\",\"#FF97FF\",\"#FECB52\"],\"font\":{\"color\":\"#2a3f5f\"},\"geo\":{\"bgcolor\":\"white\",\"lakecolor\":\"white\",\"landcolor\":\"#E5ECF6\",\"showlakes\":true,\"showland\":true,\"subunitcolor\":\"white\"},\"hoverlabel\":{\"align\":\"left\"},\"hovermode\":\"closest\",\"mapbox\":{\"style\":\"light\"},\"paper_bgcolor\":\"white\",\"plot_bgcolor\":\"#E5ECF6\",\"polar\":{\"angularaxis\":{\"gridcolor\":\"white\",\"linecolor\":\"white\",\"ticks\":\"\"},\"bgcolor\":\"#E5ECF6\",\"radialaxis\":{\"gridcolor\":\"white\",\"linecolor\":\"white\",\"ticks\":\"\"}},\"scene\":{\"xaxis\":{\"backgroundcolor\":\"#E5ECF6\",\"gridcolor\":\"white\",\"gridwidth\":2,\"linecolor\":\"white\",\"showbackground\":true,\"ticks\":\"\",\"zerolinecolor\":\"white\"},\"yaxis\":{\"backgroundcolor\":\"#E5ECF6\",\"gridcolor\":\"white\",\"gridwidth\":2,\"linecolor\":\"white\",\"showbackground\":true,\"ticks\":\"\",\"zerolinecolor\":\"white\"},\"zaxis\":{\"backgroundcolor\":\"#E5ECF6\",\"gridcolor\":\"white\",\"gridwidth\":2,\"linecolor\":\"white\",\"showbackground\":true,\"ticks\":\"\",\"zerolinecolor\":\"white\"}},\"shapedefaults\":{\"line\":{\"color\":\"#2a3f5f\"}},\"ternary\":{\"aaxis\":{\"gridcolor\":\"white\",\"linecolor\":\"white\",\"ticks\":\"\"},\"baxis\":{\"gridcolor\":\"white\",\"linecolor\":\"white\",\"ticks\":\"\"},\"bgcolor\":\"#E5ECF6\",\"caxis\":{\"gridcolor\":\"white\",\"linecolor\":\"white\",\"ticks\":\"\"}},\"title\":{\"x\":0.05},\"xaxis\":{\"automargin\":true,\"gridcolor\":\"white\",\"linecolor\":\"white\",\"ticks\":\"\",\"title\":{\"standoff\":15},\"zerolinecolor\":\"white\",\"zerolinewidth\":2},\"yaxis\":{\"automargin\":true,\"gridcolor\":\"white\",\"linecolor\":\"white\",\"ticks\":\"\",\"title\":{\"standoff\":15},\"zerolinecolor\":\"white\",\"zerolinewidth\":2}}},\"title\":{\"text\":\"Cost Analysis of Most Expensive neighborhoods in San Francisco per Year\"},\"width\":50},                        {\"responsive\": true}                    ).then(function(){\n",
       "                            \n",
       "var gd = document.getElementById('64e63e0c-c01e-41ba-89c5-2fd14f789ab0');\n",
       "var x = new MutationObserver(function (mutations, observer) {{\n",
       "        var display = window.getComputedStyle(gd).display;\n",
       "        if (!display || display === 'none') {{\n",
       "            console.log([gd, 'removed!']);\n",
       "            Plotly.purge(gd);\n",
       "            observer.disconnect();\n",
       "        }}\n",
       "}});\n",
       "\n",
       "// Listen for the removal of the full notebook cells\n",
       "var notebookContainer = gd.closest('#notebook-container');\n",
       "if (notebookContainer) {{\n",
       "    x.observe(notebookContainer, {childList: true});\n",
       "}}\n",
       "\n",
       "// Listen for the clearing of the current output cell\n",
       "var outputEl = gd.closest('.output');\n",
       "if (outputEl) {{\n",
       "    x.observe(outputEl, {childList: true});\n",
       "}}\n",
       "\n",
       "                        })                };                });            </script>        </div>"
      ]
     },
     "metadata": {},
     "output_type": "display_data"
    }
   ],
   "source": [
    "# Sunburst Plot\n",
    "px.sunburst(\n",
    "    df_expensive_neighborhoods,\n",
    "    path=['year', 'neighborhood'], values='sale_price_sqr_foot',\n",
    "                  color='gross_rent', \n",
    "    #height = int(10),\n",
    "    width= int(50),\n",
    "     title = \"Cost Analysis of Most Expensive neighborhoods in San Francisco per Year\"\n",
    "    #hover_data=['iso_alpha'],\n",
    "                  #color_continuous_scale='RdBu',\n",
    "                  #color_continuous_midpoint=np.average(df['lifeExp'], weights=df['pop']))\n",
    ")"
   ]
  }
 ],
 "metadata": {
  "file_extension": ".py",
  "kernelspec": {
   "display_name": "Python [conda env:pyvizenv]",
   "language": "python",
   "name": "conda-env-pyvizenv-py"
  },
  "language_info": {
   "codemirror_mode": {
    "name": "ipython",
    "version": 3
   },
   "file_extension": ".py",
   "mimetype": "text/x-python",
   "name": "python",
   "nbconvert_exporter": "python",
   "pygments_lexer": "ipython3",
   "version": "3.7.10"
  },
  "mimetype": "text/x-python",
  "name": "python",
  "npconvert_exporter": "python",
  "pygments_lexer": "ipython3",
  "version": 3
 },
 "nbformat": 4,
 "nbformat_minor": 4
}
